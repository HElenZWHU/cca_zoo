{
  "nbformat": 4,
  "nbformat_minor": 0,
  "metadata": {
    "colab": {
      "name": "cca-zoo-tutorial.ipynb",
      "provenance": [],
      "authorship_tag": "ABX9TyPJ7sv99C+BFsC4llz2+Lv1",
      "include_colab_link": true
    },
    "kernelspec": {
      "display_name": "Python 3",
      "name": "python3"
    }
  },
  "cells": [
    {
      "cell_type": "markdown",
      "metadata": {
        "id": "view-in-github",
        "colab_type": "text"
      },
      "source": [
        "<a href=\"https://colab.research.google.com/github/jameschapman19/cca_zoo/blob/master/cca_zoo_tutorial.ipynb\" target=\"_parent\"><img src=\"https://colab.research.google.com/assets/colab-badge.svg\" alt=\"Open In Colab\"/></a>"
      ]
    },
    {
      "cell_type": "code",
      "metadata": {
        "colab": {
          "base_uri": "https://localhost:8080/"
        },
        "id": "zFVm_oT3cmZH",
        "outputId": "82b37446-2e9b-4d5e-bf23-73b5dc7794bd"
      },
      "source": [
        "!pip install cca-zoo --upgrade"
      ],
      "execution_count": 2,
      "outputs": [
        {
          "output_type": "stream",
          "text": [
            "Requirement already up-to-date: cca-zoo in /usr/local/lib/python3.6/dist-packages (1.1.14)\n",
            "Requirement already satisfied, skipping upgrade: matplotlib in /usr/local/lib/python3.6/dist-packages (from cca-zoo) (3.2.2)\n",
            "Requirement already satisfied, skipping upgrade: seaborn in /usr/local/lib/python3.6/dist-packages (from cca-zoo) (0.11.1)\n",
            "Requirement already satisfied, skipping upgrade: scikit-learn in /usr/local/lib/python3.6/dist-packages (from cca-zoo) (0.22.2.post1)\n",
            "Requirement already satisfied, skipping upgrade: Pillow in /usr/local/lib/python3.6/dist-packages (from cca-zoo) (7.0.0)\n",
            "Requirement already satisfied, skipping upgrade: mvlearn in /usr/local/lib/python3.6/dist-packages (from cca-zoo) (0.4.1)\n",
            "Requirement already satisfied, skipping upgrade: torchvision in /usr/local/lib/python3.6/dist-packages (from cca-zoo) (0.8.1+cu101)\n",
            "Requirement already satisfied, skipping upgrade: pandas in /usr/local/lib/python3.6/dist-packages (from cca-zoo) (1.1.5)\n",
            "Requirement already satisfied, skipping upgrade: torch in /usr/local/lib/python3.6/dist-packages (from cca-zoo) (1.7.0+cu101)\n",
            "Requirement already satisfied, skipping upgrade: scipy in /usr/local/lib/python3.6/dist-packages (from cca-zoo) (1.5.4)\n",
            "Requirement already satisfied, skipping upgrade: numpy in /usr/local/lib/python3.6/dist-packages (from cca-zoo) (1.19.5)\n",
            "Requirement already satisfied, skipping upgrade: pyparsing!=2.0.4,!=2.1.2,!=2.1.6,>=2.0.1 in /usr/local/lib/python3.6/dist-packages (from matplotlib->cca-zoo) (2.4.7)\n",
            "Requirement already satisfied, skipping upgrade: kiwisolver>=1.0.1 in /usr/local/lib/python3.6/dist-packages (from matplotlib->cca-zoo) (1.3.1)\n",
            "Requirement already satisfied, skipping upgrade: cycler>=0.10 in /usr/local/lib/python3.6/dist-packages (from matplotlib->cca-zoo) (0.10.0)\n",
            "Requirement already satisfied, skipping upgrade: python-dateutil>=2.1 in /usr/local/lib/python3.6/dist-packages (from matplotlib->cca-zoo) (2.8.1)\n",
            "Requirement already satisfied, skipping upgrade: joblib>=0.11 in /usr/local/lib/python3.6/dist-packages (from scikit-learn->cca-zoo) (1.0.0)\n",
            "Requirement already satisfied, skipping upgrade: pytz>=2017.2 in /usr/local/lib/python3.6/dist-packages (from pandas->cca-zoo) (2018.9)\n",
            "Requirement already satisfied, skipping upgrade: future in /usr/local/lib/python3.6/dist-packages (from torch->cca-zoo) (0.16.0)\n",
            "Requirement already satisfied, skipping upgrade: typing-extensions in /usr/local/lib/python3.6/dist-packages (from torch->cca-zoo) (3.7.4.3)\n",
            "Requirement already satisfied, skipping upgrade: dataclasses in /usr/local/lib/python3.6/dist-packages (from torch->cca-zoo) (0.8)\n",
            "Requirement already satisfied, skipping upgrade: six in /usr/local/lib/python3.6/dist-packages (from cycler>=0.10->matplotlib->cca-zoo) (1.15.0)\n"
          ],
          "name": "stdout"
        }
      ]
    },
    {
      "cell_type": "code",
      "metadata": {
        "id": "jFsRNCJ0crH8"
      },
      "source": [
        "# Imports\r\n",
        "import numpy as np\r\n",
        "from cca_zoo import wrappers\r\n",
        "from cca_zoo import data\r\n",
        "import itertools\r\n",
        "import os\r\n",
        "import matplotlib.pyplot as plt\r\n",
        "from torch.utils.data import Subset\r\n",
        "\r\n",
        "# Load MNIST Data\r\n",
        "os.chdir('..')\r\n",
        "N = 1000\r\n",
        "dataset = data.Noisy_MNIST_Dataset(mnist_type='FashionMNIST', train=True)\r\n",
        "ids = np.arange(min(2 * N, len(dataset)))\r\n",
        "np.random.shuffle(ids)\r\n",
        "train_ids, val_ids = np.array_split(ids, 2)\r\n",
        "val_dataset = Subset(dataset, val_ids)\r\n",
        "train_dataset = Subset(dataset, train_ids)\r\n",
        "test_dataset = data.Noisy_MNIST_Dataset(mnist_type='FashionMNIST', train=False)\r\n",
        "test_ids = np.arange(min(N, len(test_dataset)))\r\n",
        "np.random.shuffle(test_ids)\r\n",
        "test_dataset = Subset(test_dataset, test_ids)\r\n",
        "train_view_1, train_view_2, train_rotations, train_OH_labels, train_labels = train_dataset.dataset.to_numpy(\r\n",
        "    train_dataset.indices)\r\n",
        "val_view_1, val_view_2, val_rotations, val_OH_labels, val_labels = val_dataset.dataset.to_numpy(val_dataset.indices)\r\n",
        "test_view_1, test_view_2, test_rotations, test_OH_labels, test_labels = test_dataset.dataset.to_numpy(\r\n",
        "    test_dataset.indices)\r\n",
        "\r\n",
        "# Settings\r\n",
        "\r\n",
        "# The number of latent dimensions across models\r\n",
        "latent_dims = 2\r\n",
        "# The number of folds used for cross-validation/hyperparameter tuning\r\n",
        "cv_folds = 5\r\n",
        "# For running hyperparameter tuning in parallel (0 if not)\r\n",
        "jobs = 4\r\n",
        "# Number of iterations for iterative algorithms\r\n",
        "max_iter = 10\r\n",
        "# number of epochs for deep models\r\n",
        "epochs = 50"
      ],
      "execution_count": 3,
      "outputs": []
    },
    {
      "cell_type": "markdown",
      "metadata": {
        "id": "NOryUM6ShmQf"
      },
      "source": [
        "# Canonical Correlation Analysis"
      ]
    },
    {
      "cell_type": "code",
      "metadata": {
        "id": "ZSGgSD7vgh1b"
      },
      "source": [
        "\"\"\"\r\n",
        "### Linear CCA via alternating least squares (can pass more than 2 views)\r\n",
        "\"\"\"\r\n",
        "linear_cca = wrappers.CCA(latent_dims=latent_dims, max_iter=max_iter)\r\n",
        "\r\n",
        "linear_cca.fit(train_view_1, train_view_2)\r\n",
        "\r\n",
        "linear_cca_results = np.stack(\r\n",
        "    (linear_cca.train_correlations[0, 1], linear_cca.predict_corr(test_view_1, test_view_2)[0, 1]))"
      ],
      "execution_count": 4,
      "outputs": []
    },
    {
      "cell_type": "markdown",
      "metadata": {
        "id": "JZtZUfZ3huKE"
      },
      "source": [
        "# Partial Least Squares\r\n"
      ]
    },
    {
      "cell_type": "code",
      "metadata": {
        "id": "Ei3rASx3ghtJ"
      },
      "source": [
        "\"\"\"\r\n",
        "### PLS with scikit-learn (only permits 2 views)\r\n",
        "\"\"\"\r\n",
        "pls = wrappers.PLS(latent_dims=latent_dims)\r\n",
        "\r\n",
        "pls.fit(train_view_1, train_view_2)\r\n",
        "\r\n",
        "pls_results = np.stack(\r\n",
        "    (pls.train_correlations[0, 1], pls.predict_corr(test_view_1, test_view_2)[0, 1]))"
      ],
      "execution_count": 5,
      "outputs": []
    },
    {
      "cell_type": "markdown",
      "metadata": {
        "id": "88vAaUxIi1H7"
      },
      "source": [
        "# Extension to multiple views\r\n",
        "\r\n"
      ]
    },
    {
      "cell_type": "code",
      "metadata": {
        "id": "7Fx0dj8GghbD"
      },
      "source": [
        "\"\"\"\r\n",
        "### (Regularized) Generalized CCA(can pass more than 2 views)\r\n",
        "\"\"\"\r\n",
        "\r\n",
        "gcca = wrappers.GCCA(latent_dims=latent_dims)\r\n",
        "\r\n",
        "# small ammount of regularisation added since data is not full rank\r\n",
        "c=[0.5,0.5,0.5]\r\n",
        "\r\n",
        "gcca.fit(train_view_1, train_view_2,train_view_1, c=c)\r\n",
        "\r\n",
        "gcca_results = np.stack((gcca.train_correlations[0, 1], gcca.predict_corr(test_view_1, test_view_2)[0, 1]))\r\n",
        "\r\n",
        "\"\"\"\r\n",
        "### (Regularized) Multiset CCA(can pass more than 2 views)\r\n",
        "\"\"\"\r\n",
        "\r\n",
        "mcca = wrappers.MCCA(latent_dims=latent_dims)\r\n",
        "\r\n",
        "mcca.fit(train_view_1, train_view_2,train_view_1, c=c)\r\n",
        "\r\n",
        "mcca_results = np.stack((mcca.train_correlations[0, 1], mcca.predict_corr(test_view_1, test_view_2)[0, 1]))\r\n",
        "\r\n",
        "\"\"\"\r\n",
        "### Multiset CCA by alternating least squares\r\n",
        "\"\"\"\r\n",
        "mcca_als = wrappers.CCA(latent_dims=latent_dims, max_iter=max_iter)\r\n",
        "\r\n",
        "mcca_als.fit(train_view_1, train_view_2,train_view_1)\r\n",
        "\r\n",
        "mcca_als_results = np.stack(\r\n",
        "    (mcca_als.train_correlations[0, 1], mcca_als.predict_corr(test_view_1, test_view_2)[0, 1]))\r\n",
        "\r\n",
        "c=[1,1,1]\r\n",
        "\r\n",
        "\"\"\"\r\n",
        "### Multiset PLS by alternating least squares\r\n",
        "\"\"\"\r\n",
        "mcca_pls = wrappers.PLS(latent_dims=latent_dims, max_iter=max_iter)\r\n",
        "\r\n",
        "mcca_pls.fit(train_view_1, train_view_2,train_view_,c=c)\r\n",
        "\r\n",
        "mcca_pls_results = np.stack(\r\n",
        "    (mcca_als.train_correlations[0, 1], mcca_pls.predict_corr(test_view_1, test_view_2)[0, 1]))"
      ],
      "execution_count": 6,
      "outputs": []
    },
    {
      "cell_type": "markdown",
      "metadata": {
        "id": "9847WJ3liT6v"
      },
      "source": [
        "# Rgularised CCA solutions based on alternating minimisation/alternating least squares\r\n",
        "\r\n",
        "We implement Witten's penalized matrix decomposition form of sparse CCA using 'pmd'\r\n",
        "\r\n",
        "We implement Waaijenborg's penalized CCA using elastic net using 'elastic'\r\n",
        "\r\n",
        "We implement Mai's sparse CCA using 'scca'\r\n",
        "\r\n",
        "Furthermore, any of these methods can be extended to multiple views. Witten describes this method explicitly."
      ]
    },
    {
      "cell_type": "code",
      "metadata": {
        "colab": {
          "base_uri": "https://localhost:8080/"
        },
        "id": "Ts_yQvzdhDQe",
        "outputId": "c64fc556-0a51-4991-88a6-4c14363767d9"
      },
      "source": [
        "\"\"\"\r\n",
        "### Sparse CCA (Penalized Matrix Decomposition) (can pass more than 2 views)\r\n",
        "\"\"\"\r\n",
        "\r\n",
        "# PMD\r\n",
        "c1 = [1, 3, 7, 9]\r\n",
        "c2 = [1, 3, 7, 9]\r\n",
        "param_candidates = {'c': list(itertools.product(c1, c2))}\r\n",
        "\r\n",
        "pmd = wrappers.PMD(latent_dims=latent_dims, max_iter=max_iter).gridsearch_fit(\r\n",
        "    train_view_1,\r\n",
        "    train_view_2,\r\n",
        "    param_candidates=param_candidates,\r\n",
        "    folds=cv_folds,\r\n",
        "    verbose=True, jobs=jobs,\r\n",
        "    plot=True)\r\n",
        "\r\n",
        "pmd_results = np.stack((pmd.train_correlations[0, 1, :], pmd.predict_corr(test_view_1, test_view_2)[0, 1, :]))\r\n",
        "\r\n",
        "\"\"\"\r\n",
        "### Sparse CCA (can pass more than 2 views)\r\n",
        "\"\"\"\r\n",
        "\r\n",
        "# Sparse CCA\r\n",
        "c1 = [0.00001, 0.0001]\r\n",
        "c2 = [0.00001, 0.0001]\r\n",
        "param_candidates = {'c': list(itertools.product(c1, c2))}\r\n",
        "\r\n",
        "scca = wrappers.SCCA(latent_dims=latent_dims, max_iter=max_iter).gridsearch_fit(\r\n",
        "    train_view_1,\r\n",
        "    train_view_2,\r\n",
        "    param_candidates=param_candidates,\r\n",
        "    folds=cv_folds,\r\n",
        "    verbose=True,\r\n",
        "    jobs=jobs, plot=True)\r\n",
        "\r\n",
        "scca_results = np.stack(\r\n",
        "    (scca.train_correlations[0, 1, :], scca.predict_corr(test_view_1, test_view_2)[0, 1, :]))\r\n",
        "\r\n",
        "\"\"\"\r\n",
        "# Sparse CCA with ADMM\r\n",
        "c1 = [0.00001, 0.0001]\r\n",
        "c2 = [0.00001, 0.0001]\r\n",
        "param_candidates = {'c': list(itertools.product(c1, c2))}\r\n",
        "\r\n",
        "scca_admm = wrappers.SCCA_ADMM(latent_dims=latent_dims, tol=1e-5, max_iter=max_iter).gridsearch_fit(\r\n",
        "    train_view_1,\r\n",
        "    train_view_2,\r\n",
        "    param_candidates=param_candidates,\r\n",
        "    folds=cv_folds,\r\n",
        "    verbose=True,\r\n",
        "    jobs=jobs, plot=True)\r\n",
        "\r\n",
        "scca_admm_results = np.stack(\r\n",
        "    (scca_admm.train_correlations[0, 1, :], scca_admm.predict_corr(test_view_1, test_view_2)[0, 1, :]))\r\n",
        "\"\"\"\r\n",
        "\r\n",
        "\"\"\"\r\n",
        "### Elastic CCA (can pass more than 2 views)\r\n",
        "\"\"\"\r\n",
        "\r\n",
        "# Elastic CCA\r\n",
        "c1 = [0.001, 0.0001]\r\n",
        "c2 = [0.001, 0.0001]\r\n",
        "l1_1 = [0.01, 0.1]\r\n",
        "l1_2 = [0.01, 0.1]\r\n",
        "param_candidates = {'c': list(itertools.product(c1, c2)), 'l1_ratio': list(itertools.product(l1_1, l1_2))}\r\n",
        "\r\n",
        "elastic = wrappers.ElasticCCA(latent_dims=latent_dims,\r\n",
        "                              max_iter=max_iter).gridsearch_fit(train_view_1,\r\n",
        "                                                                train_view_2,\r\n",
        "                                                                param_candidates=param_candidates,\r\n",
        "                                                                folds=cv_folds,\r\n",
        "                                                                verbose=True,\r\n",
        "                                                                jobs=jobs,\r\n",
        "                                                                plot=True)\r\n",
        "\r\n",
        "elastic_results = np.stack(\r\n",
        "    (elastic.train_correlations[0, 1, :], elastic.predict_corr(test_view_1, test_view_2)[0, 1, :]))"
      ],
      "execution_count": null,
      "outputs": [
        {
          "output_type": "stream",
          "text": [
            "cross validation\n",
            "number of folds:  5\n",
            "Best score :  1.2222757284006485\n",
            "Standard deviation :  0.07867046764137263\n",
            "{'c': (9, 9)}\n",
            "cross validation\n",
            "number of folds:  5\n",
            "Best score :  1.3796246435485657\n",
            "Standard deviation :  0.07074158200205495\n",
            "{'c': (0.0001, 0.0001)}\n",
            "cross validation\n",
            "number of folds:  5\n"
          ],
          "name": "stdout"
        }
      ]
    },
    {
      "cell_type": "markdown",
      "metadata": {
        "id": "LaHqF5CljrCb"
      },
      "source": [
        "# Kernel CCA"
      ]
    },
    {
      "cell_type": "code",
      "metadata": {
        "id": "FtH38KO8hLFL"
      },
      "source": [
        "\"\"\"\r\n",
        "### Kernel CCA\r\n",
        "\r\n",
        "Similarly, we can use kernel CCA methods with [method='kernel']\r\n",
        "\r\n",
        "We can use different kernels and their associated parameters in a similar manner to before\r\n",
        "- regularized linear kernel CCA: parameters :  'kernel'='linear', 0<'c'<1\r\n",
        "- polynomial kernel CCA: parameters : 'kernel'='poly', 'degree', 0<'c'<1\r\n",
        "- gaussian rbf kernel CCA: parameters : 'kernel'='gaussian', 'sigma', 0<'c'<1\r\n",
        "\"\"\"\r\n",
        "# %%\r\n",
        "# r-kernel cca\r\n",
        "c1 = [0.9, 0.99]\r\n",
        "c2 = [0.9, 0.99]\r\n",
        "\r\n",
        "param_candidates = {'kernel': ['linear'], 'c': list(itertools.product(c1, c2))}\r\n",
        "\r\n",
        "kernel_reg = wrappers.KCCA(latent_dims=latent_dims).gridsearch_fit(train_view_1, train_view_2,\r\n",
        "                                                                   folds=cv_folds,\r\n",
        "                                                                   param_candidates=param_candidates,\r\n",
        "                                                                   verbose=True, jobs=jobs,\r\n",
        "                                                                   plot=True)\r\n",
        "kernel_reg_results = np.stack((\r\n",
        "    kernel_reg.train_correlations[0, 1, :],\r\n",
        "    kernel_reg.predict_corr(test_view_1, test_view_2)[0, 1, :]))\r\n",
        "\r\n",
        "# kernel cca (poly)\r\n",
        "param_candidates = {'kernel': ['poly'], 'degree': [2, 3], 'c': list(itertools.product(c1, c2))}\r\n",
        "\r\n",
        "kernel_poly = wrappers.KCCA(latent_dims=latent_dims).gridsearch_fit(train_view_1, train_view_2,\r\n",
        "                                                                    folds=cv_folds,\r\n",
        "                                                                    param_candidates=param_candidates,\r\n",
        "                                                                    verbose=True, jobs=jobs,\r\n",
        "                                                                    plot=True)\r\n",
        "\r\n",
        "kernel_poly_results = np.stack((\r\n",
        "    kernel_poly.train_correlations[0, 1, :],\r\n",
        "    kernel_poly.predict_corr(test_view_1, test_view_2)[0, 1, :]))\r\n",
        "\r\n",
        "# kernel cca (gaussian)\r\n",
        "param_candidates = {'kernel': ['rbf'], 'sigma': [1e+1, 1e+2, 1e+3], 'c': list(itertools.product(c1, c2))}\r\n",
        "\r\n",
        "kernel_gaussian = wrappers.KCCA(latent_dims=latent_dims).gridsearch_fit(train_view_1, train_view_2,\r\n",
        "                                                                        folds=cv_folds,\r\n",
        "                                                                        param_candidates=param_candidates,\r\n",
        "                                                                        verbose=True, jobs=jobs,\r\n",
        "                                                                        plot=True)\r\n",
        "\r\n",
        "kernel_gaussian_results = np.stack((\r\n",
        "    kernel_gaussian.train_correlations[0, 1, :],\r\n",
        "    kernel_gaussian.predict_corr(test_view_1, test_view_2)[0, 1, :]))"
      ],
      "execution_count": null,
      "outputs": []
    },
    {
      "cell_type": "markdown",
      "metadata": {
        "id": "44ltKrtIkICK"
      },
      "source": [
        "# Deep CCA\r\n",
        "\r\n",
        "DCCA can be optimized using Andrew's original tracenorm objective or Wang's DCCA by nonlinear orthogonal iterations using the argument als=True."
      ]
    },
    {
      "cell_type": "code",
      "metadata": {
        "id": "z0nTlPSEhVeP"
      },
      "source": [
        "\"\"\"\r\n",
        "### Deep Learning\r\n",
        "\r\n",
        "We also have deep CCA methods (and autoencoder variants)\r\n",
        "- Deep CCA (DCCA)\r\n",
        "- Deep Canonically Correlated Autoencoders (DCCAE)\r\n",
        "\r\n",
        "We introduce a Config class from configuration.py. This contains a number of default settings for running DCCA.\r\n",
        "\r\n",
        "\"\"\"\r\n",
        "from cca_zoo import deepwrapper, objectives, dcca, deep_models\r\n",
        "\r\n",
        "# %%\r\n",
        "# DCCA\r\n",
        "print('DCCA')\r\n",
        "encoder_1 = deep_models.Encoder(latent_dims=latent_dims, feature_size=784)\r\n",
        "encoder_2 = deep_models.Encoder(latent_dims=latent_dims, feature_size=784)\r\n",
        "dcca_model = dcca.DCCA(latent_dims=latent_dims, encoders=[encoder_1, encoder_2])\r\n",
        "\r\n",
        "dcca_model = deepwrapper.DeepWrapper(dcca_model)\r\n",
        "\r\n",
        "dcca_model.fit(train_dataset, val_dataset, epochs=epochs)\r\n",
        "\r\n",
        "dcca_results = np.stack((dcca_model.train_correlations[0, 1], dcca_model.predict_corr(test_view_1, test_view_2)[0, 1]))\r\n",
        "\r\n",
        "\r\n",
        "# DCCA_NOI\r\n",
        "# Note that als=True\r\n",
        "print('DCCA by non-linear orthogonal iterations')\r\n",
        "encoder_1 = deep_models.Encoder(latent_dims=latent_dims, feature_size=784)\r\n",
        "encoder_2 = deep_models.Encoder(latent_dims=latent_dims, feature_size=784)\r\n",
        "dcca_noi_model = dcca.DCCA(latent_dims=latent_dims, encoders=[encoder_1, encoder_2], als=True)\r\n",
        "\r\n",
        "dcca_noi_model = deepwrapper.DeepWrapper(dcca_noi_model)\r\n",
        "\r\n",
        "dcca_noi_model.fit(train_dataset, val_dataset, epochs=epochs)\r\n",
        "\r\n",
        "dcca_noi_results = np.stack(\r\n",
        "    (dcca_noi_model.train_correlations[0, 1], dcca_noi_model.predict_corr(test_view_1, test_view_2)[0, 1]))"
      ],
      "execution_count": null,
      "outputs": []
    },
    {
      "cell_type": "markdown",
      "metadata": {
        "id": "C1_ce5uMJUJ8"
      },
      "source": [
        "# DCCA with custom optimizers and schedulers"
      ]
    },
    {
      "cell_type": "code",
      "metadata": {
        "id": "vGC3HS2YJUk1"
      },
      "source": [
        "# DCCA\r\n",
        "optimizers = [optim.Adam(encoder_1.parameters(), lr=1e-4), optim.Adam(encoder_2.parameters(), lr=1e-4)]\r\n",
        "schedulers = [optim.lr_scheduler.CosineAnnealingLR(optimizers[0], 1),\r\n",
        "              optim.lr_scheduler.ReduceLROnPlateau(optimizers[1])]\r\n",
        "dcca_model = cca_zoo.dcca.DCCA(latent_dims=latent_dims, encoders=[encoder_1, encoder_2],\r\n",
        "                                objective=cca_zoo.objectives.CCA, optimizers=optimizers, schedulers=schedulers)\r\n",
        "# hidden_layer_sizes are shown explicitly but these are also the defaults\r\n",
        "dcca_model = cca_zoo.deepwrapper.DeepWrapper(dcca_model, device=device)\r\n",
        "dcca_model.fit(train_dataset, val_dataset,epochs=20)"
      ],
      "execution_count": null,
      "outputs": []
    },
    {
      "cell_type": "markdown",
      "metadata": {
        "id": "3NZ5ZB9cNx-o"
      },
      "source": [
        "# DGCCA and DMCCA for more than 2 views\r\n",
        "\r\n",
        "The only change we need to make is to the objective argument to perform DGCCA and DMCCA."
      ]
    },
    {
      "cell_type": "code",
      "metadata": {
        "id": "BAClfNMYNxq4"
      },
      "source": [
        "# DGCCA\r\n",
        "print('DGCCA')\r\n",
        "encoder_1 = deep_models.Encoder(latent_dims=latent_dims, feature_size=784)\r\n",
        "encoder_2 = deep_models.Encoder(latent_dims=latent_dims, feature_size=784)\r\n",
        "dgcca_model = dcca.DCCA(latent_dims=latent_dims, encoders=[encoder_1, encoder_2], objective=objectives.GCCA)\r\n",
        "\r\n",
        "dgcca_model = deepwrapper.DeepWrapper(dgcca_model)\r\n",
        "\r\n",
        "dgcca_model.fit(train_dataset, val_dataset, epochs=epochs)\r\n",
        "\r\n",
        "dgcca_results = np.stack(\r\n",
        "    (dgcca_model.train_correlations[0, 1], dgcca_model.predict_corr(test_view_1, test_view_2)[0, 1]))\r\n",
        "\r\n",
        "# DMCCA\r\n",
        "print('DMCCA')\r\n",
        "encoder_1 = deep_models.Encoder(latent_dims=latent_dims, feature_size=784)\r\n",
        "encoder_2 = deep_models.Encoder(latent_dims=latent_dims, feature_size=784)\r\n",
        "dmcca_model = dcca.DCCA(latent_dims=latent_dims, encoders=[encoder_1, encoder_2], objective=objectives.MCCA)\r\n",
        "\r\n",
        "dmcca_model = deepwrapper.DeepWrapper(dmcca_model)\r\n",
        "\r\n",
        "dmcca_model.fit(train_dataset, val_dataset, epochs=epochs)\r\n",
        "\r\n",
        "dmcca_results = np.stack(\r\n",
        "    (dmcca_model.train_correlations[0, 1], dmcca_model.predict_corr(test_view_1, test_view_2)[0, 1]))"
      ],
      "execution_count": null,
      "outputs": []
    },
    {
      "cell_type": "markdown",
      "metadata": {
        "id": "Ym0WfC6uOA-8"
      },
      "source": [
        "# Deep Canonically Correlated Autoencoders\r\n",
        "We need to add decoders in order to model deep canonically correlated autoencoders and we also use the DCCAE class which inherits from DCCA"
      ]
    },
    {
      "cell_type": "code",
      "metadata": {
        "id": "JwiNJf-MOBOg"
      },
      "source": [
        "from cca_zoo import dccae\r\n",
        "\r\n",
        "# DCCAE\r\n",
        "print('DCCAE')\r\n",
        "encoder_1 = deep_models.Encoder(latent_dims=latent_dims, feature_size=784)\r\n",
        "encoder_2 = deep_models.Encoder(latent_dims=latent_dims, feature_size=784)\r\n",
        "decoder_1 = deep_models.Decoder(latent_dims=latent_dims, feature_size=784)\r\n",
        "decoder_2 = deep_models.Decoder(latent_dims=latent_dims, feature_size=784)\r\n",
        "dccae_model = dccae.DCCAE(latent_dims=latent_dims, encoders=[encoder_1, encoder_2], decoders=[decoder_1, decoder_2])\r\n",
        "\r\n",
        "dccae_model = deepwrapper.DeepWrapper(dccae_model)\r\n",
        "\r\n",
        "dccae_model.fit(train_dataset, val_dataset, epochs=epochs)\r\n",
        "\r\n",
        "dccae_results = np.stack(\r\n",
        "    (dccae_model.train_correlations[0, 1], dccae_model.predict_corr(test_view_1, test_view_2)[0, 1]))"
      ],
      "execution_count": null,
      "outputs": []
    },
    {
      "cell_type": "markdown",
      "metadata": {
        "id": "FwOTBYZ0O9SP"
      },
      "source": [
        "# Deep Variational CCA"
      ]
    },
    {
      "cell_type": "code",
      "metadata": {
        "id": "SogqelCuO9rm"
      },
      "source": [
        "\"\"\"\r\n",
        "### Deep Variational Learning\r\n",
        "Finally we have Deep Variational CCA methods.\r\n",
        "- Deep Variational CCA (DVCCA)\r\n",
        "- Deep Variational CCA - private (DVVCA_p)\r\n",
        "\r\n",
        "These are both implemented by the DVCCA class with private=True/False and both_encoders=True/False. If both_encoders,\r\n",
        "the encoder to the shared information Q(z_shared|x) is modelled for both x_1 and x_2 whereas if both_encoders is false\r\n",
        "it is modelled for x_1 as in the paper\r\n",
        "\"\"\"\r\n",
        "from cca_zoo import dvcca\r\n",
        "\r\n",
        "# %%\r\n",
        "# DVCCA (technically bi-DVCCA)\r\n",
        "print('DVCCA')\r\n",
        "encoder_1 = deep_models.Encoder(latent_dims=latent_dims, feature_size=784, variational=True)\r\n",
        "encoder_2 = deep_models.Encoder(latent_dims=latent_dims, feature_size=784, variational=True)\r\n",
        "decoder_1 = deep_models.Decoder(latent_dims=latent_dims, feature_size=784, norm_output=True)\r\n",
        "decoder_2 = deep_models.Decoder(latent_dims=latent_dims, feature_size=784, norm_output=True)\r\n",
        "dvcca_model = dvcca.DVCCA(latent_dims=latent_dims, encoders=[encoder_1, encoder_2], decoders=[decoder_1, decoder_2],\r\n",
        "                          private=False)\r\n",
        "\r\n",
        "dvcca_model = deepwrapper.DeepWrapper(dvcca_model)\r\n",
        "\r\n",
        "dvcca_model.fit(train_dataset, val_dataset, epochs=epochs)\r\n",
        "\r\n",
        "dvcca_model_results = np.stack(\r\n",
        "    (dvcca_model.train_correlations[0, 1], dvcca_model.predict_corr(test_view_1, test_view_2)[0, 1]))\r\n",
        "\r\n",
        "# DVCCA_private (technically bi-DVCCA_private)\r\n",
        "print('DVCCA_private')\r\n",
        "encoder_1 = deep_models.Encoder(latent_dims=latent_dims, feature_size=784, variational=True)\r\n",
        "encoder_2 = deep_models.Encoder(latent_dims=latent_dims, feature_size=784, variational=True)\r\n",
        "private_encoder_1 = deep_models.Encoder(latent_dims=latent_dims, feature_size=784, variational=True)\r\n",
        "private_encoder_2 = deep_models.Encoder(latent_dims=latent_dims, feature_size=784, variational=True)\r\n",
        "decoder_1 = deep_models.Decoder(latent_dims=latent_dims * 3, feature_size=784, norm_output=True)\r\n",
        "decoder_2 = deep_models.Decoder(latent_dims=latent_dims * 3, feature_size=784, norm_output=True)\r\n",
        "dvccap_model = dvcca.DVCCA(latent_dims=latent_dims, encoders=[encoder_1, encoder_2], decoders=[decoder_1, decoder_2],\r\n",
        "                           private_encoders=[private_encoder_1, private_encoder_2], private=True)\r\n",
        "\r\n",
        "dvccap_model = deepwrapper.DeepWrapper(dvccap_model)\r\n",
        "\r\n",
        "dvccap_model.fit(train_dataset, val_dataset, epochs=epochs)\r\n",
        "\r\n",
        "dvccap_model_results = np.stack(\r\n",
        "    (dvccap_model.train_correlations[0, 1], dvccap_model.predict_corr(test_view_1, test_view_2)[0, 1]))"
      ],
      "execution_count": null,
      "outputs": []
    },
    {
      "cell_type": "markdown",
      "metadata": {
        "id": "RCMeGlxJkp93"
      },
      "source": [
        "# Convolutional Deep CCA (and using other architectures)\r\n",
        "We provide a standard CNN encoder and decoder but users can build their own encoders and decoders by inheriting BaseEncoder and BaseDecoder for seamless integration with the pipeline"
      ]
    },
    {
      "cell_type": "code",
      "metadata": {
        "id": "k9TEto00kpn2"
      },
      "source": [
        "print('Convolutional DCCA')\r\n",
        "encoder_1 = deep_models.CNNEncoder(latent_dims=latent_dims, channels=[3, 3])\r\n",
        "encoder_2 = deep_models.CNNEncoder(latent_dims=latent_dims, channels=[3, 3])\r\n",
        "dcca_conv_model = dcca.DCCA(latent_dims=latent_dims, encoders=[encoder_1, encoder_2])\r\n",
        "\r\n",
        "dcca_conv_model = deepwrapper.DeepWrapper(dcca_conv_model)\r\n",
        "\r\n",
        "# to change the models used change the cfg.encoder_models. We implement a CNN_Encoder and CNN_decoder as well\r\n",
        "# as some based on brainnet architecture in cca_zoo.deep_models. Equally you could pass your own encoder/decoder models\r\n",
        "\r\n",
        "dcca_conv_model.fit(train_view_1.reshape((-1, 1, 28, 28)), train_view_2.reshape((-1, 1, 28, 28)), epochs=epochs)\r\n",
        "\r\n",
        "dcca_conv_results = np.stack(\r\n",
        "    (dcca_conv_model.train_correlations[0, 1], dcca_conv_model.predict_corr(test_view_1.reshape((-1, 1, 28, 28)),\r\n",
        "                                                                            test_view_2.reshape(\r\n",
        "                                                                                (-1, 1, 28, 28)))[0, 1]))"
      ],
      "execution_count": null,
      "outputs": []
    },
    {
      "cell_type": "markdown",
      "metadata": {
        "id": "dhYAL8vxkiAh"
      },
      "source": [
        "# Generate Some Plots"
      ]
    },
    {
      "cell_type": "code",
      "metadata": {
        "id": "jNeUaqjwhcj7"
      },
      "source": [
        "\"\"\"\r\n",
        "### Make results plot to compare methods\r\n",
        "\"\"\"\r\n",
        "# %%\r\n",
        "\r\n",
        "all_results = np.stack(\r\n",
        "    [linear_cca_results, gcca_results, mcca_results, pls_results, pmd_results, elastic_results,\r\n",
        "     scca_results, kernel_reg_results, kernel_poly_results,\r\n",
        "     kernel_gaussian_results, dcca_results, dgcca_results, dmcca_results, dccae_results, dvcca_model_results,\r\n",
        "     dcca_conv_results],\r\n",
        "    axis=0)\r\n",
        "all_labels = ['linear', 'gcca', 'mcca', 'pls', 'pmd', 'elastic', 'scca', 'linear kernel', 'polynomial kernel',\r\n",
        "              'gaussian kernel', 'deep CCA', 'deep generalized CCA', 'deep multiset CCA', 'deep CCAE', 'deep VCCA',\r\n",
        "              'deep convolutional cca']\r\n",
        "\r\n",
        "from cca_zoo import plot_utils\r\n",
        "\r\n",
        "plot_utils.plot_results(all_results, all_labels)\r\n",
        "plt.show()"
      ],
      "execution_count": null,
      "outputs": []
    }
  ]
}