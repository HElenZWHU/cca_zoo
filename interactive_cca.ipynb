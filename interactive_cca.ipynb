{
  "nbformat": 4,
  "nbformat_minor": 0,
  "metadata": {
    "colab": {
      "name": "interactive_cca.ipynb",
      "provenance": [],
      "collapsed_sections": [],
      "authorship_tag": "ABX9TyN0BS9mprvb6VW8ZhYOpBrv",
      "include_colab_link": true
    },
    "kernelspec": {
      "name": "python3",
      "display_name": "Python 3"
    },
    "language_info": {
      "name": "python"
    },
    "widgets": {
      "application/vnd.jupyter.widget-state+json": {
        "d41ebeac047b480e8905296689fced38": {
          "model_module": "@jupyter-widgets/controls",
          "model_name": "VBoxModel",
          "state": {
            "_view_name": "VBoxView",
            "_dom_classes": [
              "widget-interact"
            ],
            "_model_name": "VBoxModel",
            "_view_module": "@jupyter-widgets/controls",
            "_model_module_version": "1.5.0",
            "_view_count": null,
            "_view_module_version": "1.5.0",
            "box_style": "",
            "layout": "IPY_MODEL_a3645b79c718452b996508cd56408003",
            "_model_module": "@jupyter-widgets/controls",
            "children": [
              "IPY_MODEL_6826a380efcc449397e2b275fea2b313",
              "IPY_MODEL_9b64f22fbff748a39cab88790cc7c545",
              "IPY_MODEL_dff8180ca1224d85a426ae4cef5b8ba7",
              "IPY_MODEL_7c184a6492c148a58136565747894bd8",
              "IPY_MODEL_8bd8a07a572a41b695ebea839f203822",
              "IPY_MODEL_1796583bdacd40f7ab9cdc97ca22d659"
            ]
          }
        },
        "a3645b79c718452b996508cd56408003": {
          "model_module": "@jupyter-widgets/base",
          "model_name": "LayoutModel",
          "state": {
            "_view_name": "LayoutView",
            "grid_template_rows": null,
            "right": null,
            "justify_content": null,
            "_view_module": "@jupyter-widgets/base",
            "overflow": null,
            "_model_module_version": "1.2.0",
            "_view_count": null,
            "flex_flow": null,
            "width": null,
            "min_width": null,
            "border": null,
            "align_items": null,
            "bottom": null,
            "_model_module": "@jupyter-widgets/base",
            "top": null,
            "grid_column": null,
            "overflow_y": null,
            "overflow_x": null,
            "grid_auto_flow": null,
            "grid_area": null,
            "grid_template_columns": null,
            "flex": null,
            "_model_name": "LayoutModel",
            "justify_items": null,
            "grid_row": null,
            "max_height": null,
            "align_content": null,
            "visibility": null,
            "align_self": null,
            "height": null,
            "min_height": null,
            "padding": null,
            "grid_auto_rows": null,
            "grid_gap": null,
            "max_width": null,
            "order": null,
            "_view_module_version": "1.2.0",
            "grid_template_areas": null,
            "object_position": null,
            "object_fit": null,
            "grid_auto_columns": null,
            "margin": null,
            "display": null,
            "left": null
          }
        },
        "6826a380efcc449397e2b275fea2b313": {
          "model_module": "@jupyter-widgets/controls",
          "model_name": "IntSliderModel",
          "state": {
            "_view_name": "IntSliderView",
            "style": "IPY_MODEL_cbafd0cad30c4b939353c06757e57d19",
            "_dom_classes": [],
            "description": "Train Samples",
            "step": 1,
            "_model_name": "IntSliderModel",
            "orientation": "horizontal",
            "max": 500,
            "_view_module": "@jupyter-widgets/controls",
            "_model_module_version": "1.5.0",
            "value": 100,
            "_view_count": null,
            "disabled": false,
            "_view_module_version": "1.5.0",
            "min": 20,
            "continuous_update": false,
            "readout_format": "d",
            "description_tooltip": null,
            "readout": true,
            "_model_module": "@jupyter-widgets/controls",
            "layout": "IPY_MODEL_f35a9b9306924d078513c9fee10ee8b5"
          }
        },
        "9b64f22fbff748a39cab88790cc7c545": {
          "model_module": "@jupyter-widgets/controls",
          "model_name": "IntSliderModel",
          "state": {
            "_view_name": "IntSliderView",
            "style": "IPY_MODEL_0e5a9b005d85480591362f8477c5f36e",
            "_dom_classes": [],
            "description": "Test Samples",
            "step": 1,
            "_model_name": "IntSliderModel",
            "orientation": "horizontal",
            "max": 500,
            "_view_module": "@jupyter-widgets/controls",
            "_model_module_version": "1.5.0",
            "value": 100,
            "_view_count": null,
            "disabled": false,
            "_view_module_version": "1.5.0",
            "min": 20,
            "continuous_update": false,
            "readout_format": "d",
            "description_tooltip": null,
            "readout": true,
            "_model_module": "@jupyter-widgets/controls",
            "layout": "IPY_MODEL_83dc78d9c6304373acc23acc832009fc"
          }
        },
        "dff8180ca1224d85a426ae4cef5b8ba7": {
          "model_module": "@jupyter-widgets/controls",
          "model_name": "IntSliderModel",
          "state": {
            "_view_name": "IntSliderView",
            "style": "IPY_MODEL_f03848e5d5f347eb8fcbec0c852a933a",
            "_dom_classes": [],
            "description": "X_features",
            "step": 1,
            "_model_name": "IntSliderModel",
            "orientation": "horizontal",
            "max": 500,
            "_view_module": "@jupyter-widgets/controls",
            "_model_module_version": "1.5.0",
            "value": 100,
            "_view_count": null,
            "disabled": false,
            "_view_module_version": "1.5.0",
            "min": 20,
            "continuous_update": false,
            "readout_format": "d",
            "description_tooltip": null,
            "readout": true,
            "_model_module": "@jupyter-widgets/controls",
            "layout": "IPY_MODEL_2bcc0ee58137491ebdf97904aed894fe"
          }
        },
        "7c184a6492c148a58136565747894bd8": {
          "model_module": "@jupyter-widgets/controls",
          "model_name": "IntSliderModel",
          "state": {
            "_view_name": "IntSliderView",
            "style": "IPY_MODEL_05b352a8e3f54992becaf4cda72f4cbe",
            "_dom_classes": [],
            "description": "Y_features",
            "step": 1,
            "_model_name": "IntSliderModel",
            "orientation": "horizontal",
            "max": 500,
            "_view_module": "@jupyter-widgets/controls",
            "_model_module_version": "1.5.0",
            "value": 100,
            "_view_count": null,
            "disabled": false,
            "_view_module_version": "1.5.0",
            "min": 20,
            "continuous_update": false,
            "readout_format": "d",
            "description_tooltip": null,
            "readout": true,
            "_model_module": "@jupyter-widgets/controls",
            "layout": "IPY_MODEL_eab81b05e4364d14af9c4bad0798a6cf"
          }
        },
        "8bd8a07a572a41b695ebea839f203822": {
          "model_module": "@jupyter-widgets/controls",
          "model_name": "IntSliderModel",
          "state": {
            "_view_name": "IntSliderView",
            "style": "IPY_MODEL_e687aa930f734f47910c3a276a1ae559",
            "_dom_classes": [],
            "description": "Latent Dimensions",
            "step": 1,
            "_model_name": "IntSliderModel",
            "orientation": "horizontal",
            "max": 5,
            "_view_module": "@jupyter-widgets/controls",
            "_model_module_version": "1.5.0",
            "value": 2,
            "_view_count": null,
            "disabled": false,
            "_view_module_version": "1.5.0",
            "min": 1,
            "continuous_update": false,
            "readout_format": "d",
            "description_tooltip": null,
            "readout": true,
            "_model_module": "@jupyter-widgets/controls",
            "layout": "IPY_MODEL_fa3f41e44df84f9293148e9c0955a10e"
          }
        },
        "1796583bdacd40f7ab9cdc97ca22d659": {
          "model_module": "@jupyter-widgets/output",
          "model_name": "OutputModel",
          "state": {
            "_view_name": "OutputView",
            "msg_id": "",
            "_dom_classes": [],
            "_model_name": "OutputModel",
            "outputs": [],
            "_view_module": "@jupyter-widgets/output",
            "_model_module_version": "1.0.0",
            "_view_count": null,
            "_view_module_version": "1.0.0",
            "layout": "IPY_MODEL_b94689d690a3439f962a30db6d7fed8c",
            "_model_module": "@jupyter-widgets/output"
          }
        },
        "cbafd0cad30c4b939353c06757e57d19": {
          "model_module": "@jupyter-widgets/controls",
          "model_name": "SliderStyleModel",
          "state": {
            "_view_name": "StyleView",
            "handle_color": null,
            "_model_name": "SliderStyleModel",
            "description_width": "initial",
            "_view_module": "@jupyter-widgets/base",
            "_model_module_version": "1.5.0",
            "_view_count": null,
            "_view_module_version": "1.2.0",
            "_model_module": "@jupyter-widgets/controls"
          }
        },
        "f35a9b9306924d078513c9fee10ee8b5": {
          "model_module": "@jupyter-widgets/base",
          "model_name": "LayoutModel",
          "state": {
            "_view_name": "LayoutView",
            "grid_template_rows": null,
            "right": null,
            "justify_content": null,
            "_view_module": "@jupyter-widgets/base",
            "overflow": null,
            "_model_module_version": "1.2.0",
            "_view_count": null,
            "flex_flow": null,
            "width": null,
            "min_width": null,
            "border": null,
            "align_items": null,
            "bottom": null,
            "_model_module": "@jupyter-widgets/base",
            "top": null,
            "grid_column": null,
            "overflow_y": null,
            "overflow_x": null,
            "grid_auto_flow": null,
            "grid_area": null,
            "grid_template_columns": null,
            "flex": null,
            "_model_name": "LayoutModel",
            "justify_items": null,
            "grid_row": null,
            "max_height": null,
            "align_content": null,
            "visibility": null,
            "align_self": null,
            "height": null,
            "min_height": null,
            "padding": null,
            "grid_auto_rows": null,
            "grid_gap": null,
            "max_width": null,
            "order": null,
            "_view_module_version": "1.2.0",
            "grid_template_areas": null,
            "object_position": null,
            "object_fit": null,
            "grid_auto_columns": null,
            "margin": null,
            "display": null,
            "left": null
          }
        },
        "0e5a9b005d85480591362f8477c5f36e": {
          "model_module": "@jupyter-widgets/controls",
          "model_name": "SliderStyleModel",
          "state": {
            "_view_name": "StyleView",
            "handle_color": null,
            "_model_name": "SliderStyleModel",
            "description_width": "initial",
            "_view_module": "@jupyter-widgets/base",
            "_model_module_version": "1.5.0",
            "_view_count": null,
            "_view_module_version": "1.2.0",
            "_model_module": "@jupyter-widgets/controls"
          }
        },
        "83dc78d9c6304373acc23acc832009fc": {
          "model_module": "@jupyter-widgets/base",
          "model_name": "LayoutModel",
          "state": {
            "_view_name": "LayoutView",
            "grid_template_rows": null,
            "right": null,
            "justify_content": null,
            "_view_module": "@jupyter-widgets/base",
            "overflow": null,
            "_model_module_version": "1.2.0",
            "_view_count": null,
            "flex_flow": null,
            "width": null,
            "min_width": null,
            "border": null,
            "align_items": null,
            "bottom": null,
            "_model_module": "@jupyter-widgets/base",
            "top": null,
            "grid_column": null,
            "overflow_y": null,
            "overflow_x": null,
            "grid_auto_flow": null,
            "grid_area": null,
            "grid_template_columns": null,
            "flex": null,
            "_model_name": "LayoutModel",
            "justify_items": null,
            "grid_row": null,
            "max_height": null,
            "align_content": null,
            "visibility": null,
            "align_self": null,
            "height": null,
            "min_height": null,
            "padding": null,
            "grid_auto_rows": null,
            "grid_gap": null,
            "max_width": null,
            "order": null,
            "_view_module_version": "1.2.0",
            "grid_template_areas": null,
            "object_position": null,
            "object_fit": null,
            "grid_auto_columns": null,
            "margin": null,
            "display": null,
            "left": null
          }
        },
        "f03848e5d5f347eb8fcbec0c852a933a": {
          "model_module": "@jupyter-widgets/controls",
          "model_name": "SliderStyleModel",
          "state": {
            "_view_name": "StyleView",
            "handle_color": null,
            "_model_name": "SliderStyleModel",
            "description_width": "initial",
            "_view_module": "@jupyter-widgets/base",
            "_model_module_version": "1.5.0",
            "_view_count": null,
            "_view_module_version": "1.2.0",
            "_model_module": "@jupyter-widgets/controls"
          }
        },
        "2bcc0ee58137491ebdf97904aed894fe": {
          "model_module": "@jupyter-widgets/base",
          "model_name": "LayoutModel",
          "state": {
            "_view_name": "LayoutView",
            "grid_template_rows": null,
            "right": null,
            "justify_content": null,
            "_view_module": "@jupyter-widgets/base",
            "overflow": null,
            "_model_module_version": "1.2.0",
            "_view_count": null,
            "flex_flow": null,
            "width": null,
            "min_width": null,
            "border": null,
            "align_items": null,
            "bottom": null,
            "_model_module": "@jupyter-widgets/base",
            "top": null,
            "grid_column": null,
            "overflow_y": null,
            "overflow_x": null,
            "grid_auto_flow": null,
            "grid_area": null,
            "grid_template_columns": null,
            "flex": null,
            "_model_name": "LayoutModel",
            "justify_items": null,
            "grid_row": null,
            "max_height": null,
            "align_content": null,
            "visibility": null,
            "align_self": null,
            "height": null,
            "min_height": null,
            "padding": null,
            "grid_auto_rows": null,
            "grid_gap": null,
            "max_width": null,
            "order": null,
            "_view_module_version": "1.2.0",
            "grid_template_areas": null,
            "object_position": null,
            "object_fit": null,
            "grid_auto_columns": null,
            "margin": null,
            "display": null,
            "left": null
          }
        },
        "05b352a8e3f54992becaf4cda72f4cbe": {
          "model_module": "@jupyter-widgets/controls",
          "model_name": "SliderStyleModel",
          "state": {
            "_view_name": "StyleView",
            "handle_color": null,
            "_model_name": "SliderStyleModel",
            "description_width": "initial",
            "_view_module": "@jupyter-widgets/base",
            "_model_module_version": "1.5.0",
            "_view_count": null,
            "_view_module_version": "1.2.0",
            "_model_module": "@jupyter-widgets/controls"
          }
        },
        "eab81b05e4364d14af9c4bad0798a6cf": {
          "model_module": "@jupyter-widgets/base",
          "model_name": "LayoutModel",
          "state": {
            "_view_name": "LayoutView",
            "grid_template_rows": null,
            "right": null,
            "justify_content": null,
            "_view_module": "@jupyter-widgets/base",
            "overflow": null,
            "_model_module_version": "1.2.0",
            "_view_count": null,
            "flex_flow": null,
            "width": null,
            "min_width": null,
            "border": null,
            "align_items": null,
            "bottom": null,
            "_model_module": "@jupyter-widgets/base",
            "top": null,
            "grid_column": null,
            "overflow_y": null,
            "overflow_x": null,
            "grid_auto_flow": null,
            "grid_area": null,
            "grid_template_columns": null,
            "flex": null,
            "_model_name": "LayoutModel",
            "justify_items": null,
            "grid_row": null,
            "max_height": null,
            "align_content": null,
            "visibility": null,
            "align_self": null,
            "height": null,
            "min_height": null,
            "padding": null,
            "grid_auto_rows": null,
            "grid_gap": null,
            "max_width": null,
            "order": null,
            "_view_module_version": "1.2.0",
            "grid_template_areas": null,
            "object_position": null,
            "object_fit": null,
            "grid_auto_columns": null,
            "margin": null,
            "display": null,
            "left": null
          }
        },
        "e687aa930f734f47910c3a276a1ae559": {
          "model_module": "@jupyter-widgets/controls",
          "model_name": "SliderStyleModel",
          "state": {
            "_view_name": "StyleView",
            "handle_color": null,
            "_model_name": "SliderStyleModel",
            "description_width": "initial",
            "_view_module": "@jupyter-widgets/base",
            "_model_module_version": "1.5.0",
            "_view_count": null,
            "_view_module_version": "1.2.0",
            "_model_module": "@jupyter-widgets/controls"
          }
        },
        "fa3f41e44df84f9293148e9c0955a10e": {
          "model_module": "@jupyter-widgets/base",
          "model_name": "LayoutModel",
          "state": {
            "_view_name": "LayoutView",
            "grid_template_rows": null,
            "right": null,
            "justify_content": null,
            "_view_module": "@jupyter-widgets/base",
            "overflow": null,
            "_model_module_version": "1.2.0",
            "_view_count": null,
            "flex_flow": null,
            "width": null,
            "min_width": null,
            "border": null,
            "align_items": null,
            "bottom": null,
            "_model_module": "@jupyter-widgets/base",
            "top": null,
            "grid_column": null,
            "overflow_y": null,
            "overflow_x": null,
            "grid_auto_flow": null,
            "grid_area": null,
            "grid_template_columns": null,
            "flex": null,
            "_model_name": "LayoutModel",
            "justify_items": null,
            "grid_row": null,
            "max_height": null,
            "align_content": null,
            "visibility": null,
            "align_self": null,
            "height": null,
            "min_height": null,
            "padding": null,
            "grid_auto_rows": null,
            "grid_gap": null,
            "max_width": null,
            "order": null,
            "_view_module_version": "1.2.0",
            "grid_template_areas": null,
            "object_position": null,
            "object_fit": null,
            "grid_auto_columns": null,
            "margin": null,
            "display": null,
            "left": null
          }
        },
        "b94689d690a3439f962a30db6d7fed8c": {
          "model_module": "@jupyter-widgets/base",
          "model_name": "LayoutModel",
          "state": {
            "_view_name": "LayoutView",
            "grid_template_rows": null,
            "right": null,
            "justify_content": null,
            "_view_module": "@jupyter-widgets/base",
            "overflow": null,
            "_model_module_version": "1.2.0",
            "_view_count": null,
            "flex_flow": null,
            "width": null,
            "min_width": null,
            "border": null,
            "align_items": null,
            "bottom": null,
            "_model_module": "@jupyter-widgets/base",
            "top": null,
            "grid_column": null,
            "overflow_y": null,
            "overflow_x": null,
            "grid_auto_flow": null,
            "grid_area": null,
            "grid_template_columns": null,
            "flex": null,
            "_model_name": "LayoutModel",
            "justify_items": null,
            "grid_row": null,
            "max_height": null,
            "align_content": null,
            "visibility": null,
            "align_self": null,
            "height": null,
            "min_height": null,
            "padding": null,
            "grid_auto_rows": null,
            "grid_gap": null,
            "max_width": null,
            "order": null,
            "_view_module_version": "1.2.0",
            "grid_template_areas": null,
            "object_position": null,
            "object_fit": null,
            "grid_auto_columns": null,
            "margin": null,
            "display": null,
            "left": null
          }
        },
        "ba353e015476420c93204be20d418826": {
          "model_module": "@jupyter-widgets/controls",
          "model_name": "VBoxModel",
          "state": {
            "_view_name": "VBoxView",
            "_dom_classes": [
              "widget-interact"
            ],
            "_model_name": "VBoxModel",
            "_view_module": "@jupyter-widgets/controls",
            "_model_module_version": "1.5.0",
            "_view_count": null,
            "_view_module_version": "1.5.0",
            "box_style": "",
            "layout": "IPY_MODEL_f6b97e07b9f6444b9a00824958cc2394",
            "_model_module": "@jupyter-widgets/controls",
            "children": [
              "IPY_MODEL_e2050bc777134b0cbba57c0457c7ab5b",
              "IPY_MODEL_521921e36f30411e805bd79be6e8fe53"
            ]
          }
        },
        "f6b97e07b9f6444b9a00824958cc2394": {
          "model_module": "@jupyter-widgets/base",
          "model_name": "LayoutModel",
          "state": {
            "_view_name": "LayoutView",
            "grid_template_rows": null,
            "right": null,
            "justify_content": null,
            "_view_module": "@jupyter-widgets/base",
            "overflow": null,
            "_model_module_version": "1.2.0",
            "_view_count": null,
            "flex_flow": null,
            "width": null,
            "min_width": null,
            "border": null,
            "align_items": null,
            "bottom": null,
            "_model_module": "@jupyter-widgets/base",
            "top": null,
            "grid_column": null,
            "overflow_y": null,
            "overflow_x": null,
            "grid_auto_flow": null,
            "grid_area": null,
            "grid_template_columns": null,
            "flex": null,
            "_model_name": "LayoutModel",
            "justify_items": null,
            "grid_row": null,
            "max_height": null,
            "align_content": null,
            "visibility": null,
            "align_self": null,
            "height": null,
            "min_height": null,
            "padding": null,
            "grid_auto_rows": null,
            "grid_gap": null,
            "max_width": null,
            "order": null,
            "_view_module_version": "1.2.0",
            "grid_template_areas": null,
            "object_position": null,
            "object_fit": null,
            "grid_auto_columns": null,
            "margin": null,
            "display": null,
            "left": null
          }
        },
        "e2050bc777134b0cbba57c0457c7ab5b": {
          "model_module": "@jupyter-widgets/controls",
          "model_name": "FloatLogSliderModel",
          "state": {
            "_view_name": "FloatLogSliderView",
            "orientation": "horizontal",
            "_view_module": "@jupyter-widgets/controls",
            "_model_module_version": "1.5.0",
            "_view_count": null,
            "disabled": false,
            "readout_format": ".5f",
            "_model_module": "@jupyter-widgets/controls",
            "style": "IPY_MODEL_910903f3ea7848e68a233afc4abc3a73",
            "layout": "IPY_MODEL_bfcf5eaebfab4f70a84caa15e0c44915",
            "min": -5,
            "continuous_update": false,
            "description_tooltip": null,
            "_dom_classes": [],
            "description": "1 minus c",
            "_model_name": "FloatLogSliderModel",
            "max": 0,
            "readout": true,
            "step": 0.1,
            "base": 10,
            "value": 0.5011872336272722,
            "_view_module_version": "1.5.0"
          }
        },
        "521921e36f30411e805bd79be6e8fe53": {
          "model_module": "@jupyter-widgets/output",
          "model_name": "OutputModel",
          "state": {
            "_view_name": "OutputView",
            "msg_id": "",
            "_dom_classes": [],
            "_model_name": "OutputModel",
            "outputs": [
              {
                "output_type": "display_data",
                "metadata": {
                  "tags": []
                },
                "image/png": "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\n",
                "text/plain": "<Figure size 720x360 with 3 Axes>"
              },
              {
                "output_type": "display_data",
                "metadata": {
                  "tags": []
                },
                "image/png": "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\n",
                "text/plain": "<Figure size 720x360 with 1 Axes>"
              }
            ],
            "_view_module": "@jupyter-widgets/output",
            "_model_module_version": "1.0.0",
            "_view_count": null,
            "_view_module_version": "1.0.0",
            "layout": "IPY_MODEL_a5bbb6cf82e142849b9f2d129f561e7c",
            "_model_module": "@jupyter-widgets/output"
          }
        },
        "910903f3ea7848e68a233afc4abc3a73": {
          "model_module": "@jupyter-widgets/controls",
          "model_name": "SliderStyleModel",
          "state": {
            "_view_name": "StyleView",
            "handle_color": null,
            "_model_name": "SliderStyleModel",
            "description_width": "initial",
            "_view_module": "@jupyter-widgets/base",
            "_model_module_version": "1.5.0",
            "_view_count": null,
            "_view_module_version": "1.2.0",
            "_model_module": "@jupyter-widgets/controls"
          }
        },
        "bfcf5eaebfab4f70a84caa15e0c44915": {
          "model_module": "@jupyter-widgets/base",
          "model_name": "LayoutModel",
          "state": {
            "_view_name": "LayoutView",
            "grid_template_rows": null,
            "right": null,
            "justify_content": null,
            "_view_module": "@jupyter-widgets/base",
            "overflow": null,
            "_model_module_version": "1.2.0",
            "_view_count": null,
            "flex_flow": null,
            "width": null,
            "min_width": null,
            "border": null,
            "align_items": null,
            "bottom": null,
            "_model_module": "@jupyter-widgets/base",
            "top": null,
            "grid_column": null,
            "overflow_y": null,
            "overflow_x": null,
            "grid_auto_flow": null,
            "grid_area": null,
            "grid_template_columns": null,
            "flex": null,
            "_model_name": "LayoutModel",
            "justify_items": null,
            "grid_row": null,
            "max_height": null,
            "align_content": null,
            "visibility": null,
            "align_self": null,
            "height": null,
            "min_height": null,
            "padding": null,
            "grid_auto_rows": null,
            "grid_gap": null,
            "max_width": null,
            "order": null,
            "_view_module_version": "1.2.0",
            "grid_template_areas": null,
            "object_position": null,
            "object_fit": null,
            "grid_auto_columns": null,
            "margin": null,
            "display": null,
            "left": null
          }
        },
        "a5bbb6cf82e142849b9f2d129f561e7c": {
          "model_module": "@jupyter-widgets/base",
          "model_name": "LayoutModel",
          "state": {
            "_view_name": "LayoutView",
            "grid_template_rows": null,
            "right": null,
            "justify_content": null,
            "_view_module": "@jupyter-widgets/base",
            "overflow": null,
            "_model_module_version": "1.2.0",
            "_view_count": null,
            "flex_flow": null,
            "width": null,
            "min_width": null,
            "border": null,
            "align_items": null,
            "bottom": null,
            "_model_module": "@jupyter-widgets/base",
            "top": null,
            "grid_column": null,
            "overflow_y": null,
            "overflow_x": null,
            "grid_auto_flow": null,
            "grid_area": null,
            "grid_template_columns": null,
            "flex": null,
            "_model_name": "LayoutModel",
            "justify_items": null,
            "grid_row": null,
            "max_height": null,
            "align_content": null,
            "visibility": null,
            "align_self": null,
            "height": null,
            "min_height": null,
            "padding": null,
            "grid_auto_rows": null,
            "grid_gap": null,
            "max_width": null,
            "order": null,
            "_view_module_version": "1.2.0",
            "grid_template_areas": null,
            "object_position": null,
            "object_fit": null,
            "grid_auto_columns": null,
            "margin": null,
            "display": null,
            "left": null
          }
        }
      }
    }
  },
  "cells": [
    {
      "cell_type": "markdown",
      "metadata": {
        "id": "view-in-github",
        "colab_type": "text"
      },
      "source": [
        "<a href=\"https://colab.research.google.com/github/jameschapman19/cca_zoo/blob/master/interactive_cca.ipynb\" target=\"_parent\"><img src=\"https://colab.research.google.com/assets/colab-badge.svg\" alt=\"Open In Colab\"/></a>"
      ]
    },
    {
      "cell_type": "markdown",
      "metadata": {
        "id": "h9McsiUZLsp0"
      },
      "source": [
        "# Visualizing the effect of regularisation on CCA using IPython Widgets!\n",
        "Learnt how to use widgets in IPython and thought it would be nice to demonstrate the effect of l2 regularisation"
      ]
    },
    {
      "cell_type": "markdown",
      "metadata": {
        "id": "Jp_CSLIvJKBJ"
      },
      "source": [
        "## Install cca-zoo and import packages"
      ]
    },
    {
      "cell_type": "code",
      "metadata": {
        "colab": {
          "base_uri": "https://localhost:8080/"
        },
        "id": "0OhyKPp0Lwit",
        "outputId": "4f105396-88f9-4a2c-9ea9-b31c15095198"
      },
      "source": [
        "!pip install cca-zoo"
      ],
      "execution_count": 59,
      "outputs": [
        {
          "output_type": "stream",
          "text": [
            "Requirement already satisfied: cca-zoo in /usr/local/lib/python3.7/dist-packages (1.7.6)\n",
            "Requirement already satisfied: matplotlib in /usr/local/lib/python3.7/dist-packages (from cca-zoo) (3.2.2)\n",
            "Requirement already satisfied: tensorly in /usr/local/lib/python3.7/dist-packages (from cca-zoo) (0.6.0)\n",
            "Requirement already satisfied: scikit-learn in /usr/local/lib/python3.7/dist-packages (from cca-zoo) (0.22.2.post1)\n",
            "Requirement already satisfied: joblib in /usr/local/lib/python3.7/dist-packages (from cca-zoo) (1.0.1)\n",
            "Requirement already satisfied: seaborn in /usr/local/lib/python3.7/dist-packages (from cca-zoo) (0.11.1)\n",
            "Requirement already satisfied: scipy>=1.5 in /usr/local/lib/python3.7/dist-packages (from cca-zoo) (1.7.0)\n",
            "Requirement already satisfied: numpy in /usr/local/lib/python3.7/dist-packages (from cca-zoo) (1.19.5)\n",
            "Requirement already satisfied: pandas in /usr/local/lib/python3.7/dist-packages (from cca-zoo) (1.1.5)\n",
            "Requirement already satisfied: python-dateutil>=2.1 in /usr/local/lib/python3.7/dist-packages (from matplotlib->cca-zoo) (2.8.1)\n",
            "Requirement already satisfied: cycler>=0.10 in /usr/local/lib/python3.7/dist-packages (from matplotlib->cca-zoo) (0.10.0)\n",
            "Requirement already satisfied: pyparsing!=2.0.4,!=2.1.2,!=2.1.6,>=2.0.1 in /usr/local/lib/python3.7/dist-packages (from matplotlib->cca-zoo) (2.4.7)\n",
            "Requirement already satisfied: kiwisolver>=1.0.1 in /usr/local/lib/python3.7/dist-packages (from matplotlib->cca-zoo) (1.3.1)\n",
            "Requirement already satisfied: nose in /usr/local/lib/python3.7/dist-packages (from tensorly->cca-zoo) (1.3.7)\n",
            "Requirement already satisfied: pytz>=2017.2 in /usr/local/lib/python3.7/dist-packages (from pandas->cca-zoo) (2018.9)\n",
            "Requirement already satisfied: six>=1.5 in /usr/local/lib/python3.7/dist-packages (from python-dateutil>=2.1->matplotlib->cca-zoo) (1.15.0)\n"
          ],
          "name": "stdout"
        }
      ]
    },
    {
      "cell_type": "code",
      "metadata": {
        "id": "h9PE1A0fS266"
      },
      "source": [
        "import ipywidgets as widgets\n",
        "import seaborn as sns\n",
        "from cca_zoo.models import rCCA\n",
        "from cca_zoo.data import generate_covariance_data\n",
        "import numpy as np\n",
        "import pandas as pd\n",
        "from sklearn.model_selection import train_test_split\n",
        "import matplotlib.pyplot as plt\n",
        "sns.set(font_scale=1)"
      ],
      "execution_count": 102,
      "outputs": []
    },
    {
      "cell_type": "markdown",
      "metadata": {
        "id": "TMApL_uRnguy"
      },
      "source": [
        "## Plotting Helpers"
      ]
    },
    {
      "cell_type": "code",
      "metadata": {
        "id": "MieUEzyKS0eA"
      },
      "source": [
        "# Plotting Helpers\n",
        "def plot_latent_train_test(train_scores, test_scores, title=None):\n",
        "    train_data = pd.DataFrame(\n",
        "        {'phase': np.asarray(['train'] * train_scores[0].shape[0]).astype(str)})\n",
        "    x_vars=[f'X dimension {f}' for f in range(1,train_scores[0].shape[1]+1)]\n",
        "    y_vars=[f'Y dimension {f}' for f in range(1,train_scores[1].shape[1]+1)]\n",
        "    train_data[x_vars] = train_scores[0]\n",
        "    train_data[y_vars] = train_scores[1]\n",
        "    test_data = pd.DataFrame(\n",
        "        {'phase': np.asarray(['test'] * test_scores[0].shape[0]).astype(str)})\n",
        "    test_data[x_vars] = test_scores[0]\n",
        "    test_data[y_vars] = test_scores[1]\n",
        "    data = pd.concat([train_data, test_data], axis=0)\n",
        "    cca_pp = sns.pairplot(data, hue='phase',x_vars=x_vars,y_vars=y_vars, corner=True)\n",
        "    cca_pp.fig.set_size_inches(10,5)\n",
        "    if title:\n",
        "      cca_pp.fig.suptitle(title)\n",
        "    latent_dims=len(x_vars)\n",
        "    train_corrs=np.diag(np.corrcoef(train_scores[0],train_scores[1],rowvar=False)[:latent_dims,latent_dims:])\n",
        "    test_corrs=np.diag(np.corrcoef(test_scores[0],test_scores[1],rowvar=False)[:latent_dims,latent_dims:])\n",
        "    train_corr_data=pd.DataFrame({'correlation':train_corrs,'dimension':np.arange(latent_dims)+1,'phase': np.asarray(['train'] * latent_dims).astype(str)})\n",
        "    test_corr_data=pd.DataFrame({'correlation':test_corrs,'dimension':np.arange(latent_dims)+1,'phase': np.asarray(['test'] * latent_dims).astype(str)})\n",
        "    corr_data = pd.concat([train_corr_data, test_corr_data], axis=0)\n",
        "    # setting the dimensions of the plot\n",
        "    fig2, ax = plt.subplots(figsize=(cca_pp.fig.get_size_inches()[0],cca_pp.fig.get_size_inches()[1]))\n",
        "    cca_bp=sns.barplot(x=\"dimension\", y=\"correlation\", hue=\"phase\", data=corr_data,ax=ax)"
      ],
      "execution_count": 109,
      "outputs": []
    },
    {
      "cell_type": "markdown",
      "metadata": {
        "id": "on2NP1JlnmCf"
      },
      "source": [
        "## Make Data"
      ]
    },
    {
      "cell_type": "markdown",
      "metadata": {
        "id": "2A7vp-2ujoax"
      },
      "source": [
        "### Choose the parameters of the data"
      ]
    },
    {
      "cell_type": "code",
      "metadata": {
        "id": "CQ_1X7_inoCH",
        "colab": {
          "base_uri": "https://localhost:8080/",
          "height": 177,
          "referenced_widgets": [
            "d41ebeac047b480e8905296689fced38",
            "a3645b79c718452b996508cd56408003",
            "6826a380efcc449397e2b275fea2b313",
            "9b64f22fbff748a39cab88790cc7c545",
            "dff8180ca1224d85a426ae4cef5b8ba7",
            "7c184a6492c148a58136565747894bd8",
            "8bd8a07a572a41b695ebea839f203822",
            "1796583bdacd40f7ab9cdc97ca22d659",
            "cbafd0cad30c4b939353c06757e57d19",
            "f35a9b9306924d078513c9fee10ee8b5",
            "0e5a9b005d85480591362f8477c5f36e",
            "83dc78d9c6304373acc23acc832009fc",
            "f03848e5d5f347eb8fcbec0c852a933a",
            "2bcc0ee58137491ebdf97904aed894fe",
            "05b352a8e3f54992becaf4cda72f4cbe",
            "eab81b05e4364d14af9c4bad0798a6cf",
            "e687aa930f734f47910c3a276a1ae559",
            "fa3f41e44df84f9293148e9c0955a10e",
            "b94689d690a3439f962a30db6d7fed8c"
          ]
        },
        "cellView": "form",
        "outputId": "6231dafc-88dc-430a-d754-6dc7c0db80c3"
      },
      "source": [
        "# @markdown Execute this cell to choose parameters!\n",
        "\n",
        "style = {'description_width': 'initial'}\n",
        "\n",
        "N_train= widgets.IntSlider(value=100,min=20,max=500,description='Train Samples',style=style,continuous_update=False)\n",
        "N_test= widgets.IntSlider(value=100,min=20,max=500,description='Test Samples',style=style,continuous_update=False)\n",
        "X_features=widgets.IntSlider(value=100,min=20,max=500,description='X_features',style=style,continuous_update=False)\n",
        "Y_features=widgets.IntSlider(value=100,min=20,max=500,description='Y_features',style=style,continuous_update=False)\n",
        "latent_dims=widgets.IntSlider(value=1,min=1,max=5,description='Latent Dimensions',style=style,continuous_update=False)\n",
        "\n",
        "def generate_data(N_train,N_test,X_features,Y_features,latent_dims):\n",
        "    (X,Y),_=generate_covariance_data(N_train+N_test,view_features=[X_features,Y_features],latent_dims=latent_dims,correlation=1,decay=0.9)\n",
        "    X_tr,X_te,Y_tr,Y_te=train_test_split(X,Y,train_size=N_train)\n",
        "    return (X_tr,X_te,Y_tr,Y_te)\n",
        "\n",
        "out=widgets.interactive(generate_data, N_train=N_train,N_test=N_test,X_features=X_features,Y_features=Y_features,latent_dims=latent_dims)\n",
        "display(out)"
      ],
      "execution_count": 110,
      "outputs": [
        {
          "output_type": "display_data",
          "data": {
            "application/vnd.jupyter.widget-view+json": {
              "model_id": "d41ebeac047b480e8905296689fced38",
              "version_minor": 0,
              "version_major": 2
            },
            "text/plain": [
              "interactive(children=(IntSlider(value=100, continuous_update=False, description='Train Samples', max=500, min=…"
            ]
          },
          "metadata": {
            "tags": []
          }
        }
      ]
    },
    {
      "cell_type": "markdown",
      "metadata": {
        "id": "7nGNsZliT0m6"
      },
      "source": [
        "## Change the ammount of regularisation from 0 (CCA) to 1 (PLS)\n",
        "In order to have more sensitivity closer to 1 we subtract the widget value from 1! The title in the figure gives the ammount of regularisation used by the model\n",
        "\n",
        "The model and plot will update when the mouse is released. There's a bit of a lag as the model needs to fit in the background!"
      ]
    },
    {
      "cell_type": "code",
      "metadata": {
        "colab": {
          "base_uri": "https://localhost:8080/",
          "height": 728,
          "referenced_widgets": [
            "ba353e015476420c93204be20d418826",
            "f6b97e07b9f6444b9a00824958cc2394",
            "e2050bc777134b0cbba57c0457c7ab5b",
            "521921e36f30411e805bd79be6e8fe53",
            "910903f3ea7848e68a233afc4abc3a73",
            "bfcf5eaebfab4f70a84caa15e0c44915",
            "a5bbb6cf82e142849b9f2d129f561e7c"
          ]
        },
        "id": "AmfuhADyLyrz",
        "cellView": "form",
        "outputId": "51b9b204-9710-4cd3-fd9a-1d3dd9f37928"
      },
      "source": [
        "# @markdown Execute this cell to change model regularisation\n",
        "\n",
        "X_tr,X_te,Y_tr,Y_te=out.result[0],out.result[1],out.result[2],out.result[3]\n",
        "\n",
        "style = {'description_width': 'initial'}\n",
        "c=widgets.FloatLogSlider(value=1-1e-3,base=10, min=-5, max=0,description='1 minus c',readout=True,readout_format='.5f',style=style,continuous_update=False)\n",
        "\n",
        "def interactive_cca(c):\n",
        "    rcca=rCCA(latent_dims=latent_dims.value,c=1-c).fit(X_tr,Y_tr)\n",
        "    test_scores=rcca.transform(X_te,Y_te)\n",
        "    plot_latent_train_test(rcca.scores,test_scores,f'Pair plot of latent dimensions for train and test data c={1-c:.5f}')\n",
        "\n",
        "plot_widget=widgets.interactive(interactive_cca, c=c)\n",
        "display(plot_widget)"
      ],
      "execution_count": 111,
      "outputs": [
        {
          "output_type": "display_data",
          "data": {
            "application/vnd.jupyter.widget-view+json": {
              "model_id": "ba353e015476420c93204be20d418826",
              "version_minor": 0,
              "version_major": 2
            },
            "text/plain": [
              "interactive(children=(FloatLogSlider(value=0.999, continuous_update=False, description='1 minus c', max=0.0, m…"
            ]
          },
          "metadata": {
            "tags": []
          }
        }
      ]
    },
    {
      "cell_type": "code",
      "metadata": {
        "id": "vOowgyeJ2xV_"
      },
      "source": [
        ""
      ],
      "execution_count": null,
      "outputs": []
    }
  ]
}