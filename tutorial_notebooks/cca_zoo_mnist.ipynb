{
 "cells": [
  {
   "cell_type": "markdown",
   "metadata": {
    "colab_type": "text",
    "id": "view-in-github"
   },
   "source": [
    "<a href=\"https://colab.research.google.com/github/jameschapman19/cca_zoo/blob/main/tutorial_notebooks/cca_zoo_mnist.ipynb\" target=\"_parent\"><img src=\"https://colab.research.google.com/assets/colab-badge.svg\" alt=\"Open In Colab\"/></a>"
   ]
  },
  {
   "cell_type": "markdown",
   "metadata": {
    "id": "Gn1KbNv1vLTj"
   },
   "source": [
    "# A tutorial comparing the train and test correlations of different models on MNIST data"
   ]
  },
  {
   "cell_type": "code",
   "execution_count": 1,
   "metadata": {
    "colab": {
     "base_uri": "https://localhost:8080/"
    },
    "id": "O5VEWk1BvLTl",
    "outputId": "5870455a-2f40-40ec-8878-6ecc9d9e2a89",
    "pycharm": {
     "is_executing": true,
     "name": "#%%\n"
    }
   },
   "outputs": [],
   "source": [
    "# Imports\n",
    "import numpy as np\n",
    "from cca_zoo.data import Noisy_MNIST_Dataset, CCA_Dataset\n",
    "import itertools\n",
    "import matplotlib.pyplot as plt\n",
    "from torch.utils.data import Subset, DataLoader\n",
    "from torch import optim\n",
    "from cca_zoo.deepmodels import objectives, architectures, CCALightning, DCCA,DCCA_NOI,DVCCA,DCCAE,DTCCA, get_dataloaders\n",
    "from sklearn.utils.fixes import loguniform\n",
    "import pytorch_lightning as pl\n",
    "# Load MNIST Data\n",
    "N = 500\n",
    "dataset = Noisy_MNIST_Dataset(mnist_type='FashionMNIST', train=True)\n",
    "ids = np.arange(min(2 * N, len(dataset)))\n",
    "np.random.shuffle(ids)\n",
    "train_ids, val_ids = np.array_split(ids, 2)\n",
    "val_dataset = Subset(dataset, val_ids)\n",
    "train_dataset = Subset(dataset, train_ids)\n",
    "test_dataset = Noisy_MNIST_Dataset(mnist_type='FashionMNIST', train=False)\n",
    "test_ids = np.arange(min(N, len(test_dataset)))\n",
    "np.random.shuffle(test_ids)\n",
    "test_dataset = Subset(test_dataset, test_ids)\n",
    "(train_view_1, train_view_2),_ = train_dataset.dataset.to_numpy(\n",
    "    train_dataset.indices)\n",
    "(val_view_1, val_view_2),_ = val_dataset.dataset.to_numpy(val_dataset.indices)\n",
    "(test_view_1, test_view_2),_ = test_dataset.dataset.to_numpy(\n",
    "    test_dataset.indices)\n",
    "train_loader, val_loader = get_dataloaders(train_dataset, val_dataset)\n",
    "test_loader = DataLoader(test_dataset, batch_size=len(test_dataset))\n",
    "# Settings\n",
    "\n",
    "# The number of latent dimensions across models\n",
    "latent_dims = 2\n",
    "# The number of cv used for cross-validation/hyperparameter tuning\n",
    "cv = 3\n",
    "# Number of iterations for iterative algorithms\n",
    "max_iter = 2\n",
    "# number of epochs for deep models\n",
    "epochs = 20"
   ]
  },
  {
   "cell_type": "markdown",
   "metadata": {
    "id": "C97m5-5tvLTn"
   },
   "source": [
    "# Canonical Correlation Analysis"
   ]
  },
  {
   "cell_type": "code",
   "execution_count": 2,
   "metadata": {
    "id": "gKYi0wtkvLTn",
    "pycharm": {
     "is_executing": true,
     "name": "#%%\n"
    }
   },
   "outputs": [],
   "source": [
    "from cca_zoo.models import CCA, CCA_ALS\n",
    "\"\"\"\n",
    "### Linear CCA by eigendecomposition\n",
    "\"\"\"\n",
    "linear_cca = CCA(latent_dims=latent_dims)\n",
    "\n",
    "linear_cca.fit((train_view_1, train_view_2))\n",
    "\n",
    "linear_cca_results = np.stack(\n",
    "    (linear_cca.score((train_view_1, train_view_2)), linear_cca.score((test_view_1, test_view_2))))\n",
    "\n",
    "\"\"\"\n",
    "### Linear CCA by alternating least squares (can pass more than 2 views)\n",
    "\"\"\"\n",
    "\n",
    "linear_cca_als = CCA_ALS(latent_dims=latent_dims)\n",
    "\n",
    "linear_cca_als.fit((train_view_1, train_view_2))\n",
    "\n",
    "linear_cca_als_results = np.stack(\n",
    "    (linear_cca_als.score((train_view_1, train_view_2)), linear_cca_als.score((test_view_1, test_view_2))))"
   ]
  },
  {
   "cell_type": "markdown",
   "metadata": {
    "id": "OeqtGYW6vLTo"
   },
   "source": [
    "# Partial Least Squares\n"
   ]
  },
  {
   "cell_type": "code",
   "execution_count": 3,
   "metadata": {
    "id": "-Z4jHKvovLTp",
    "pycharm": {
     "is_executing": true,
     "name": "#%%\n"
    }
   },
   "outputs": [],
   "source": [
    "from cca_zoo.models import PLS, PLS_ALS\n",
    "\"\"\"\n",
    "### PLS (2 views)\n",
    "\"\"\"\n",
    "pls = PLS(latent_dims=latent_dims)\n",
    "\n",
    "pls.fit((train_view_1, train_view_2))\n",
    "\n",
    "pls_results = np.stack(\n",
    "    (pls.score((train_view_1, train_view_2)), pls.score((test_view_1, test_view_2))))\n",
    "\n",
    "pls_als = PLS_ALS(latent_dims=latent_dims)\n",
    "\n",
    "pls_als.fit((train_view_1, train_view_2))\n",
    "\n",
    "pls_als_results = np.stack(\n",
    "    (pls_als.score((train_view_1, train_view_2)), pls_als.score((test_view_1, test_view_2))))"
   ]
  },
  {
   "cell_type": "markdown",
   "metadata": {
    "id": "thDJioUZvLTp"
   },
   "source": [
    "# Extension to multiple views\n",
    "\n"
   ]
  },
  {
   "cell_type": "code",
   "execution_count": 4,
   "metadata": {
    "colab": {
     "base_uri": "https://localhost:8080/"
    },
    "id": "CYTlHO8qvLTq",
    "outputId": "7f043566-28b6-4a0c-91ea-bd4efb9083f1",
    "pycharm": {
     "is_executing": true,
     "name": "#%%\n"
    }
   },
   "outputs": [
    {
     "name": "stderr",
     "output_type": "stream",
     "text": [
      "C:\\Users\\chapm\\PycharmProjects\\cca_zoo\\cca_zoo\\models\\innerloop.py:84: UserWarning: For more than 2 views require generalized=True\n",
      "  warnings.warn(\"For more than 2 views require generalized=True\")\n",
      "C:\\Users\\chapm\\PycharmProjects\\cca_zoo\\cca_zoo\\models\\innerloop.py:84: UserWarning: For more than 2 views require generalized=True\n",
      "  warnings.warn(\"For more than 2 views require generalized=True\")\n",
      "C:\\Users\\chapm\\PycharmProjects\\cca_zoo\\cca_zoo\\models\\innerloop.py:84: UserWarning: For more than 2 views require generalized=True\n",
      "  warnings.warn(\"For more than 2 views require generalized=True\")\n"
     ]
    }
   ],
   "source": [
    "from cca_zoo.models import GCCA, MCCA, PLS_ALS\n",
    "\"\"\"\n",
    "### (Regularized) Generalized CCA(can pass more than 2 views)\n",
    "\"\"\"\n",
    "train_view_3=train_view_1+np.random.rand(*train_view_1.shape)\n",
    "test_view_3=test_view_1+np.random.rand(*test_view_1.shape)\n",
    "\n",
    "# small ammount of regularisation added since data is not full rank\n",
    "c=[0.5,0.5,0.5]\n",
    "\n",
    "gcca = GCCA(latent_dims=latent_dims,c=c)\n",
    "\n",
    "gcca.fit((train_view_1, train_view_2,train_view_3))\n",
    "\n",
    "gcca_results = np.stack((gcca.score((train_view_1, train_view_2, train_view_3)), gcca.score((test_view_1, test_view_2, test_view_3))))\n",
    "\n",
    "\"\"\"\n",
    "### (Regularized) Multiset CCA(can pass more than 2 views)\n",
    "\"\"\"\n",
    "\n",
    "mcca = MCCA(latent_dims=latent_dims, c=c)\n",
    "\n",
    "mcca.fit((train_view_1, train_view_2,train_view_1))\n",
    "\n",
    "mcca_results = np.stack((mcca.score((train_view_1, train_view_2, train_view_3)), mcca.score((test_view_1, test_view_2, test_view_3))))\n",
    "\n",
    "\"\"\"\n",
    "### Multiset CCA by alternating least squares\n",
    "\"\"\"\n",
    "mcca_als = CCA_ALS(latent_dims=latent_dims, max_iter=max_iter)\n",
    "\n",
    "mcca_als.fit((train_view_1, train_view_2,train_view_3))\n",
    "\n",
    "mcca_als_results = np.stack(\n",
    "    (mcca_als.score((train_view_1, train_view_2, train_view_3)), mcca_als.score((test_view_1, test_view_2, test_view_3))))\n",
    "\n",
    "\"\"\"\n",
    "### Multiset PLS by alternating least squares\n",
    "\"\"\"\n",
    "mcca_pls = PLS_ALS(latent_dims=latent_dims)\n",
    "\n",
    "mcca_pls.fit((train_view_1, train_view_2,train_view_1))\n",
    "\n",
    "mcca_pls_results = np.stack(\n",
    "    (mcca_als.score((train_view_1, train_view_2, train_view_3)), mcca_pls.score((test_view_1, test_view_2, test_view_3))))"
   ]
  },
  {
   "cell_type": "markdown",
   "metadata": {
    "id": "7gMOkBrsvLTr"
   },
   "source": [
    "# Tensor CCA"
   ]
  },
  {
   "cell_type": "code",
   "execution_count": 5,
   "metadata": {
    "colab": {
     "base_uri": "https://localhost:8080/"
    },
    "id": "7ee38U6BvLTr",
    "outputId": "1543df60-fedf-447d-bada-4e97b15fb816",
    "pycharm": {
     "is_executing": true,
     "name": "#%%\n"
    }
   },
   "outputs": [
    {
     "name": "stdout",
     "output_type": "stream",
     "text": [
      "reconstruction error=0.9853859740905844\n",
      "iteration 1, reconstruction error: 0.9618427894635867, decrease = 0.02354318462699767, unnormalized = 24.624750217020292\n",
      "iteration 2, reconstruction error: 0.9617552471717098, decrease = 8.754229187690754e-05, unnormalized = 24.62250899101693\n",
      "iteration 3, reconstruction error: 0.9617551494921354, decrease = 9.767957442896602e-08, unnormalized = 24.622506490259894\n",
      "iteration 4, reconstruction error: 0.9617551494358002, decrease = 5.633515876013462e-11, unnormalized = 24.62250648881762\n",
      "PARAFAC converged after 4 iterations\n"
     ]
    }
   ],
   "source": [
    "from cca_zoo.models import TCCA\n",
    "\"\"\"\n",
    "### (Regularized) Tensor CCA(can pass more than 2 views)\n",
    "\"\"\"\n",
    "\n",
    "tcca = TCCA(latent_dims=latent_dims, c=c)\n",
    "\n",
    "#memory requirement for tensor is massive so take first 100 features\n",
    "tcca.fit((train_view_1[:,:100], train_view_2[:,:100],train_view_3[:,:100]))\n",
    "\n",
    "tcca_results = np.stack((tcca.score((train_view_1[:,:100], train_view_2[:,:100], train_view_3[:,:100])), tcca.score((test_view_1[:,:100], test_view_2[:,:100], test_view_3[:,:100]))))"
   ]
  },
  {
   "cell_type": "markdown",
   "metadata": {
    "id": "lsuPKE35vLTs"
   },
   "source": [
    "# Weighted GCCA/Missing Observation GCCA"
   ]
  },
  {
   "cell_type": "code",
   "execution_count": 6,
   "metadata": {
    "id": "QgHS4svTvLTt",
    "pycharm": {
     "is_executing": true,
     "name": "#%%\n"
    }
   },
   "outputs": [],
   "source": [
    "#observation_matrix\n",
    "K = np.ones((3, N))\n",
    "K[0, 200:] = 0\n",
    "K[1, :100] = 0\n",
    "\n",
    "#view weights\n",
    "view_weights=[1,2,1.2]\n",
    "\n",
    "c=[0.5,0.5,0.5]\n",
    "\n",
    "gcca = GCCA(latent_dims=latent_dims,c=c,view_weights=view_weights)\n",
    "\n",
    "gcca.fit((train_view_1, train_view_2,train_view_1),K=K)\n",
    "\n",
    "gcca_results = np.stack((gcca.score((train_view_1, train_view_2)), gcca.score((test_view_1, test_view_2))))"
   ]
  },
  {
   "cell_type": "markdown",
   "metadata": {
    "id": "4O9JHGcBvLTt"
   },
   "source": [
    "# Regularised CCA solutions based on alternating minimisation/alternating least squares\n",
    "\n",
    "We implement Witten's penalized matrix decomposition form of sparse CCA using 'pmd'\n",
    "\n",
    "We implement Waaijenborg's penalized CCA using elastic net using 'elastic'\n",
    "\n",
    "We implement Mai's sparse CCA using 'scca'\n",
    "\n",
    "Furthermore, any of these methods can be extended to multiple views. Witten describes this method explicitly."
   ]
  },
  {
   "cell_type": "code",
   "execution_count": 7,
   "metadata": {
    "colab": {
     "base_uri": "https://localhost:8080/"
    },
    "id": "-PdP_V7WvLTt",
    "outputId": "0ef4ca0c-36d5-43c3-e38b-914b52687254",
    "pycharm": {
     "is_executing": true,
     "name": "#%%\n"
    }
   },
   "outputs": [
    {
     "name": "stdout",
     "output_type": "stream",
     "text": [
      "Fitting 3 folds for each of 16 candidates, totalling 48 fits\n",
      "Fitting 3 folds for each of 16 candidates, totalling 48 fits\n",
      "Fitting 3 folds for each of 4 candidates, totalling 12 fits\n",
      "Fitting 3 folds for each of 5 candidates, totalling 15 fits\n"
     ]
    }
   ],
   "source": [
    "from cca_zoo.model_selection import GridSearchCV, RandomizedSearchCV\n",
    "from cca_zoo.models import rCCA, PMD,SCCA,ElasticCCA\n",
    "\n",
    "def scorer(estimator,X):\n",
    "  dim_corrs=estimator.score(X)\n",
    "  return dim_corrs.mean()\n",
    "\n",
    "\"\"\"\n",
    "### Ridge CCA (can pass more than 2 views)\n",
    "\"\"\"\n",
    "c1 = [0.1, 0.3, 0.7, 0.9]\n",
    "c2 = [0.1, 0.3, 0.7, 0.9]\n",
    "param_grid = {'c': [c1,c2]}\n",
    "\n",
    "ridge = GridSearchCV(rCCA(latent_dims=latent_dims),param_grid=param_grid,\n",
    "    cv=cv,\n",
    "    verbose=True,scoring=scorer).fit([train_view_1,train_view_2]).best_estimator_\n",
    "\n",
    "ridge_results = np.stack((ridge.score((train_view_1,train_view_2)), ridge.score((test_view_1, test_view_2))))\n",
    "\n",
    "\"\"\"\n",
    "### Sparse CCA (Penalized Matrix Decomposition) (can pass more than 2 views)\n",
    "\"\"\"\n",
    "\n",
    "# PMD\n",
    "c1 = [1, 3, 7, 9]\n",
    "c2 = [1, 3, 7, 9]\n",
    "param_grid = {'c': [c1,c2]}\n",
    "\n",
    "pmd = GridSearchCV(PMD(latent_dims=latent_dims),param_grid=param_grid,\n",
    "    cv=cv,\n",
    "    verbose=True,scoring=scorer).fit([train_view_1,train_view_2]).best_estimator_\n",
    "\n",
    "pmd_results = np.stack((pmd.score((train_view_1,train_view_2)), pmd.score((test_view_1, test_view_2))))\n",
    "\n",
    "\"\"\"\n",
    "### Sparse CCA (can pass more than 2 views)\n",
    "\"\"\"\n",
    "\n",
    "# Sparse CCA\n",
    "c1 = [0.00001, 0.0001]\n",
    "c2 = [0.00001, 0.0001]\n",
    "param_grid = {'c': [c1,c2]}\n",
    "\n",
    "scca = GridSearchCV(SCCA(latent_dims=latent_dims),param_grid=param_grid,\n",
    "    cv=cv,\n",
    "    verbose=True,scoring=scorer).fit([train_view_1,train_view_2]).best_estimator_\n",
    "\n",
    "scca_results = np.stack(\n",
    "    (scca.score((train_view_1,train_view_2)), scca.score((test_view_1, test_view_2))))\n",
    "\n",
    "\n",
    "\"\"\"\n",
    "### Elastic CCA (can pass more than 2 views)\n",
    "\"\"\"\n",
    "\n",
    "# Elastic CCA\n",
    "c1 = loguniform(1e-4, 1e0)\n",
    "c2 = loguniform(1e-4, 1e0)\n",
    "l1_1 = loguniform(1e-4, 1e0)\n",
    "l1_2 = loguniform(1e-4, 1e0)\n",
    "param_grid = {'c': [c1,c2], 'l1_ratio': [l1_1,l1_2]}\n",
    "\n",
    "elastic = RandomizedSearchCV(ElasticCCA(latent_dims=latent_dims),param_distributions=param_grid,\n",
    "    cv=cv,\n",
    "    verbose=True,n_iter=5,scoring=scorer).fit([train_view_1,train_view_2]).best_estimator_\n",
    "\n",
    "elastic_results = np.stack(\n",
    "    (elastic.score((train_view_1,train_view_2)), elastic.score((test_view_1, test_view_2))))"
   ]
  },
  {
   "cell_type": "markdown",
   "metadata": {
    "id": "RLvrF3bGvLTu"
   },
   "source": [
    "# Kernel CCA"
   ]
  },
  {
   "cell_type": "code",
   "execution_count": null,
   "metadata": {
    "colab": {
     "base_uri": "https://localhost:8080/"
    },
    "id": "cdu62DxIvLTv",
    "outputId": "1d94ef2a-0242-421e-bdd2-69a80414d682",
    "pycharm": {
     "is_executing": true,
     "name": "#%%\n"
    }
   },
   "outputs": [
    {
     "name": "stdout",
     "output_type": "stream",
     "text": [
      "Fitting 3 folds for each of 4 candidates, totalling 12 fits\n",
      "Fitting 3 folds for each of 16 candidates, totalling 48 fits\n",
      "Fitting 3 folds for each of 36 candidates, totalling 108 fits\n"
     ]
    },
    {
     "name": "stderr",
     "output_type": "stream",
     "text": [
      "c:\\users\\chapm\\pycharmprojects\\cca_zoo\\venv\\lib\\site-packages\\numpy\\lib\\function_base.py:2642: RuntimeWarning: invalid value encountered in true_divide\n",
      "  c /= stddev[:, None]\n",
      "c:\\users\\chapm\\pycharmprojects\\cca_zoo\\venv\\lib\\site-packages\\numpy\\lib\\function_base.py:2642: RuntimeWarning: invalid value encountered in true_divide\n",
      "  c /= stddev[:, None]\n",
      "c:\\users\\chapm\\pycharmprojects\\cca_zoo\\venv\\lib\\site-packages\\numpy\\lib\\function_base.py:2642: RuntimeWarning: invalid value encountered in true_divide\n",
      "  c /= stddev[:, None]\n",
      "c:\\users\\chapm\\pycharmprojects\\cca_zoo\\venv\\lib\\site-packages\\numpy\\lib\\function_base.py:2642: RuntimeWarning: invalid value encountered in true_divide\n",
      "  c /= stddev[:, None]\n",
      "c:\\users\\chapm\\pycharmprojects\\cca_zoo\\venv\\lib\\site-packages\\numpy\\lib\\function_base.py:2642: RuntimeWarning: invalid value encountered in true_divide\n",
      "  c /= stddev[:, None]\n",
      "c:\\users\\chapm\\pycharmprojects\\cca_zoo\\venv\\lib\\site-packages\\numpy\\lib\\function_base.py:2642: RuntimeWarning: invalid value encountered in true_divide\n",
      "  c /= stddev[:, None]\n",
      "c:\\users\\chapm\\pycharmprojects\\cca_zoo\\venv\\lib\\site-packages\\numpy\\lib\\function_base.py:2642: RuntimeWarning: invalid value encountered in true_divide\n",
      "  c /= stddev[:, None]\n",
      "c:\\users\\chapm\\pycharmprojects\\cca_zoo\\venv\\lib\\site-packages\\numpy\\lib\\function_base.py:2642: RuntimeWarning: invalid value encountered in true_divide\n",
      "  c /= stddev[:, None]\n",
      "c:\\users\\chapm\\pycharmprojects\\cca_zoo\\venv\\lib\\site-packages\\numpy\\lib\\function_base.py:2642: RuntimeWarning: invalid value encountered in true_divide\n",
      "  c /= stddev[:, None]\n",
      "c:\\users\\chapm\\pycharmprojects\\cca_zoo\\venv\\lib\\site-packages\\numpy\\lib\\function_base.py:2642: RuntimeWarning: invalid value encountered in true_divide\n",
      "  c /= stddev[:, None]\n",
      "c:\\users\\chapm\\pycharmprojects\\cca_zoo\\venv\\lib\\site-packages\\numpy\\lib\\function_base.py:2642: RuntimeWarning: invalid value encountered in true_divide\n",
      "  c /= stddev[:, None]\n",
      "c:\\users\\chapm\\pycharmprojects\\cca_zoo\\venv\\lib\\site-packages\\numpy\\lib\\function_base.py:2642: RuntimeWarning: invalid value encountered in true_divide\n",
      "  c /= stddev[:, None]\n",
      "c:\\users\\chapm\\pycharmprojects\\cca_zoo\\venv\\lib\\site-packages\\numpy\\lib\\function_base.py:2642: RuntimeWarning: invalid value encountered in true_divide\n",
      "  c /= stddev[:, None]\n",
      "c:\\users\\chapm\\pycharmprojects\\cca_zoo\\venv\\lib\\site-packages\\numpy\\lib\\function_base.py:2642: RuntimeWarning: invalid value encountered in true_divide\n",
      "  c /= stddev[:, None]\n",
      "c:\\users\\chapm\\pycharmprojects\\cca_zoo\\venv\\lib\\site-packages\\numpy\\lib\\function_base.py:2642: RuntimeWarning: invalid value encountered in true_divide\n",
      "  c /= stddev[:, None]\n",
      "c:\\users\\chapm\\pycharmprojects\\cca_zoo\\venv\\lib\\site-packages\\numpy\\lib\\function_base.py:2642: RuntimeWarning: invalid value encountered in true_divide\n",
      "  c /= stddev[:, None]\n",
      "c:\\users\\chapm\\pycharmprojects\\cca_zoo\\venv\\lib\\site-packages\\numpy\\lib\\function_base.py:2642: RuntimeWarning: invalid value encountered in true_divide\n",
      "  c /= stddev[:, None]\n",
      "c:\\users\\chapm\\pycharmprojects\\cca_zoo\\venv\\lib\\site-packages\\numpy\\lib\\function_base.py:2642: RuntimeWarning: invalid value encountered in true_divide\n",
      "  c /= stddev[:, None]\n",
      "c:\\users\\chapm\\pycharmprojects\\cca_zoo\\venv\\lib\\site-packages\\numpy\\lib\\function_base.py:2642: RuntimeWarning: invalid value encountered in true_divide\n",
      "  c /= stddev[:, None]\n",
      "c:\\users\\chapm\\pycharmprojects\\cca_zoo\\venv\\lib\\site-packages\\numpy\\lib\\function_base.py:2642: RuntimeWarning: invalid value encountered in true_divide\n",
      "  c /= stddev[:, None]\n",
      "c:\\users\\chapm\\pycharmprojects\\cca_zoo\\venv\\lib\\site-packages\\numpy\\lib\\function_base.py:2642: RuntimeWarning: invalid value encountered in true_divide\n",
      "  c /= stddev[:, None]\n",
      "c:\\users\\chapm\\pycharmprojects\\cca_zoo\\venv\\lib\\site-packages\\numpy\\lib\\function_base.py:2642: RuntimeWarning: invalid value encountered in true_divide\n",
      "  c /= stddev[:, None]\n",
      "c:\\users\\chapm\\pycharmprojects\\cca_zoo\\venv\\lib\\site-packages\\numpy\\lib\\function_base.py:2642: RuntimeWarning: invalid value encountered in true_divide\n",
      "  c /= stddev[:, None]\n",
      "c:\\users\\chapm\\pycharmprojects\\cca_zoo\\venv\\lib\\site-packages\\numpy\\lib\\function_base.py:2642: RuntimeWarning: invalid value encountered in true_divide\n",
      "  c /= stddev[:, None]\n",
      "c:\\users\\chapm\\pycharmprojects\\cca_zoo\\venv\\lib\\site-packages\\numpy\\lib\\function_base.py:2642: RuntimeWarning: invalid value encountered in true_divide\n",
      "  c /= stddev[:, None]\n",
      "c:\\users\\chapm\\pycharmprojects\\cca_zoo\\venv\\lib\\site-packages\\numpy\\lib\\function_base.py:2642: RuntimeWarning: invalid value encountered in true_divide\n",
      "  c /= stddev[:, None]\n",
      "c:\\users\\chapm\\pycharmprojects\\cca_zoo\\venv\\lib\\site-packages\\numpy\\lib\\function_base.py:2642: RuntimeWarning: invalid value encountered in true_divide\n",
      "  c /= stddev[:, None]\n",
      "c:\\users\\chapm\\pycharmprojects\\cca_zoo\\venv\\lib\\site-packages\\numpy\\lib\\function_base.py:2642: RuntimeWarning: invalid value encountered in true_divide\n",
      "  c /= stddev[:, None]\n",
      "c:\\users\\chapm\\pycharmprojects\\cca_zoo\\venv\\lib\\site-packages\\numpy\\lib\\function_base.py:2642: RuntimeWarning: invalid value encountered in true_divide\n",
      "  c /= stddev[:, None]\n",
      "c:\\users\\chapm\\pycharmprojects\\cca_zoo\\venv\\lib\\site-packages\\numpy\\lib\\function_base.py:2642: RuntimeWarning: invalid value encountered in true_divide\n",
      "  c /= stddev[:, None]\n",
      "c:\\users\\chapm\\pycharmprojects\\cca_zoo\\venv\\lib\\site-packages\\numpy\\lib\\function_base.py:2642: RuntimeWarning: invalid value encountered in true_divide\n",
      "  c /= stddev[:, None]\n",
      "c:\\users\\chapm\\pycharmprojects\\cca_zoo\\venv\\lib\\site-packages\\numpy\\lib\\function_base.py:2642: RuntimeWarning: invalid value encountered in true_divide\n",
      "  c /= stddev[:, None]\n",
      "c:\\users\\chapm\\pycharmprojects\\cca_zoo\\venv\\lib\\site-packages\\numpy\\lib\\function_base.py:2642: RuntimeWarning: invalid value encountered in true_divide\n",
      "  c /= stddev[:, None]\n",
      "c:\\users\\chapm\\pycharmprojects\\cca_zoo\\venv\\lib\\site-packages\\numpy\\lib\\function_base.py:2642: RuntimeWarning: invalid value encountered in true_divide\n",
      "  c /= stddev[:, None]\n",
      "c:\\users\\chapm\\pycharmprojects\\cca_zoo\\venv\\lib\\site-packages\\numpy\\lib\\function_base.py:2642: RuntimeWarning: invalid value encountered in true_divide\n",
      "  c /= stddev[:, None]\n",
      "c:\\users\\chapm\\pycharmprojects\\cca_zoo\\venv\\lib\\site-packages\\numpy\\lib\\function_base.py:2642: RuntimeWarning: invalid value encountered in true_divide\n",
      "  c /= stddev[:, None]\n",
      "c:\\users\\chapm\\pycharmprojects\\cca_zoo\\venv\\lib\\site-packages\\numpy\\lib\\function_base.py:2642: RuntimeWarning: invalid value encountered in true_divide\n",
      "  c /= stddev[:, None]\n",
      "c:\\users\\chapm\\pycharmprojects\\cca_zoo\\venv\\lib\\site-packages\\numpy\\lib\\function_base.py:2642: RuntimeWarning: invalid value encountered in true_divide\n",
      "  c /= stddev[:, None]\n",
      "c:\\users\\chapm\\pycharmprojects\\cca_zoo\\venv\\lib\\site-packages\\numpy\\lib\\function_base.py:2642: RuntimeWarning: invalid value encountered in true_divide\n",
      "  c /= stddev[:, None]\n",
      "c:\\users\\chapm\\pycharmprojects\\cca_zoo\\venv\\lib\\site-packages\\numpy\\lib\\function_base.py:2642: RuntimeWarning: invalid value encountered in true_divide\n",
      "  c /= stddev[:, None]\n",
      "c:\\users\\chapm\\pycharmprojects\\cca_zoo\\venv\\lib\\site-packages\\numpy\\lib\\function_base.py:2642: RuntimeWarning: invalid value encountered in true_divide\n",
      "  c /= stddev[:, None]\n",
      "c:\\users\\chapm\\pycharmprojects\\cca_zoo\\venv\\lib\\site-packages\\numpy\\lib\\function_base.py:2642: RuntimeWarning: invalid value encountered in true_divide\n",
      "  c /= stddev[:, None]\n",
      "c:\\users\\chapm\\pycharmprojects\\cca_zoo\\venv\\lib\\site-packages\\numpy\\lib\\function_base.py:2642: RuntimeWarning: invalid value encountered in true_divide\n",
      "  c /= stddev[:, None]\n",
      "c:\\users\\chapm\\pycharmprojects\\cca_zoo\\venv\\lib\\site-packages\\numpy\\lib\\function_base.py:2642: RuntimeWarning: invalid value encountered in true_divide\n",
      "  c /= stddev[:, None]\n",
      "c:\\users\\chapm\\pycharmprojects\\cca_zoo\\venv\\lib\\site-packages\\numpy\\lib\\function_base.py:2642: RuntimeWarning: invalid value encountered in true_divide\n",
      "  c /= stddev[:, None]\n",
      "c:\\users\\chapm\\pycharmprojects\\cca_zoo\\venv\\lib\\site-packages\\numpy\\lib\\function_base.py:2642: RuntimeWarning: invalid value encountered in true_divide\n",
      "  c /= stddev[:, None]\n",
      "c:\\users\\chapm\\pycharmprojects\\cca_zoo\\venv\\lib\\site-packages\\numpy\\lib\\function_base.py:2642: RuntimeWarning: invalid value encountered in true_divide\n",
      "  c /= stddev[:, None]\n"
     ]
    },
    {
     "name": "stderr",
     "output_type": "stream",
     "text": [
      "c:\\users\\chapm\\pycharmprojects\\cca_zoo\\venv\\lib\\site-packages\\numpy\\lib\\function_base.py:2642: RuntimeWarning: invalid value encountered in true_divide\n",
      "  c /= stddev[:, None]\n",
      "c:\\users\\chapm\\pycharmprojects\\cca_zoo\\venv\\lib\\site-packages\\numpy\\lib\\function_base.py:2642: RuntimeWarning: invalid value encountered in true_divide\n",
      "  c /= stddev[:, None]\n",
      "c:\\users\\chapm\\pycharmprojects\\cca_zoo\\venv\\lib\\site-packages\\numpy\\lib\\function_base.py:2642: RuntimeWarning: invalid value encountered in true_divide\n",
      "  c /= stddev[:, None]\n",
      "c:\\users\\chapm\\pycharmprojects\\cca_zoo\\venv\\lib\\site-packages\\numpy\\lib\\function_base.py:2642: RuntimeWarning: invalid value encountered in true_divide\n",
      "  c /= stddev[:, None]\n",
      "c:\\users\\chapm\\pycharmprojects\\cca_zoo\\venv\\lib\\site-packages\\numpy\\lib\\function_base.py:2642: RuntimeWarning: invalid value encountered in true_divide\n",
      "  c /= stddev[:, None]\n",
      "c:\\users\\chapm\\pycharmprojects\\cca_zoo\\venv\\lib\\site-packages\\numpy\\lib\\function_base.py:2642: RuntimeWarning: invalid value encountered in true_divide\n",
      "  c /= stddev[:, None]\n",
      "c:\\users\\chapm\\pycharmprojects\\cca_zoo\\venv\\lib\\site-packages\\numpy\\lib\\function_base.py:2642: RuntimeWarning: invalid value encountered in true_divide\n",
      "  c /= stddev[:, None]\n",
      "c:\\users\\chapm\\pycharmprojects\\cca_zoo\\venv\\lib\\site-packages\\numpy\\lib\\function_base.py:2642: RuntimeWarning: invalid value encountered in true_divide\n",
      "  c /= stddev[:, None]\n",
      "c:\\users\\chapm\\pycharmprojects\\cca_zoo\\venv\\lib\\site-packages\\numpy\\lib\\function_base.py:2642: RuntimeWarning: invalid value encountered in true_divide\n",
      "  c /= stddev[:, None]\n",
      "c:\\users\\chapm\\pycharmprojects\\cca_zoo\\venv\\lib\\site-packages\\numpy\\lib\\function_base.py:2642: RuntimeWarning: invalid value encountered in true_divide\n",
      "  c /= stddev[:, None]\n",
      "c:\\users\\chapm\\pycharmprojects\\cca_zoo\\venv\\lib\\site-packages\\numpy\\lib\\function_base.py:2642: RuntimeWarning: invalid value encountered in true_divide\n",
      "  c /= stddev[:, None]\n",
      "c:\\users\\chapm\\pycharmprojects\\cca_zoo\\venv\\lib\\site-packages\\numpy\\lib\\function_base.py:2642: RuntimeWarning: invalid value encountered in true_divide\n",
      "  c /= stddev[:, None]\n",
      "c:\\users\\chapm\\pycharmprojects\\cca_zoo\\venv\\lib\\site-packages\\numpy\\lib\\function_base.py:2642: RuntimeWarning: invalid value encountered in true_divide\n",
      "  c /= stddev[:, None]\n",
      "c:\\users\\chapm\\pycharmprojects\\cca_zoo\\venv\\lib\\site-packages\\numpy\\lib\\function_base.py:2642: RuntimeWarning: invalid value encountered in true_divide\n",
      "  c /= stddev[:, None]\n",
      "c:\\users\\chapm\\pycharmprojects\\cca_zoo\\venv\\lib\\site-packages\\numpy\\lib\\function_base.py:2642: RuntimeWarning: invalid value encountered in true_divide\n",
      "  c /= stddev[:, None]\n",
      "c:\\users\\chapm\\pycharmprojects\\cca_zoo\\venv\\lib\\site-packages\\numpy\\lib\\function_base.py:2642: RuntimeWarning: invalid value encountered in true_divide\n",
      "  c /= stddev[:, None]\n",
      "c:\\users\\chapm\\pycharmprojects\\cca_zoo\\venv\\lib\\site-packages\\numpy\\lib\\function_base.py:2642: RuntimeWarning: invalid value encountered in true_divide\n",
      "  c /= stddev[:, None]\n",
      "c:\\users\\chapm\\pycharmprojects\\cca_zoo\\venv\\lib\\site-packages\\numpy\\lib\\function_base.py:2642: RuntimeWarning: invalid value encountered in true_divide\n",
      "  c /= stddev[:, None]\n",
      "c:\\users\\chapm\\pycharmprojects\\cca_zoo\\venv\\lib\\site-packages\\numpy\\lib\\function_base.py:2642: RuntimeWarning: invalid value encountered in true_divide\n",
      "  c /= stddev[:, None]\n",
      "c:\\users\\chapm\\pycharmprojects\\cca_zoo\\venv\\lib\\site-packages\\numpy\\lib\\function_base.py:2642: RuntimeWarning: invalid value encountered in true_divide\n",
      "  c /= stddev[:, None]\n",
      "c:\\users\\chapm\\pycharmprojects\\cca_zoo\\venv\\lib\\site-packages\\numpy\\lib\\function_base.py:2642: RuntimeWarning: invalid value encountered in true_divide\n",
      "  c /= stddev[:, None]\n",
      "c:\\users\\chapm\\pycharmprojects\\cca_zoo\\venv\\lib\\site-packages\\numpy\\lib\\function_base.py:2642: RuntimeWarning: invalid value encountered in true_divide\n",
      "  c /= stddev[:, None]\n",
      "c:\\users\\chapm\\pycharmprojects\\cca_zoo\\venv\\lib\\site-packages\\numpy\\lib\\function_base.py:2642: RuntimeWarning: invalid value encountered in true_divide\n",
      "  c /= stddev[:, None]\n",
      "c:\\users\\chapm\\pycharmprojects\\cca_zoo\\venv\\lib\\site-packages\\numpy\\lib\\function_base.py:2642: RuntimeWarning: invalid value encountered in true_divide\n",
      "  c /= stddev[:, None]\n",
      "c:\\users\\chapm\\pycharmprojects\\cca_zoo\\venv\\lib\\site-packages\\numpy\\lib\\function_base.py:2642: RuntimeWarning: invalid value encountered in true_divide\n",
      "  c /= stddev[:, None]\n",
      "c:\\users\\chapm\\pycharmprojects\\cca_zoo\\venv\\lib\\site-packages\\numpy\\lib\\function_base.py:2642: RuntimeWarning: invalid value encountered in true_divide\n",
      "  c /= stddev[:, None]\n",
      "c:\\users\\chapm\\pycharmprojects\\cca_zoo\\venv\\lib\\site-packages\\numpy\\lib\\function_base.py:2642: RuntimeWarning: invalid value encountered in true_divide\n",
      "  c /= stddev[:, None]\n",
      "c:\\users\\chapm\\pycharmprojects\\cca_zoo\\venv\\lib\\site-packages\\numpy\\lib\\function_base.py:2642: RuntimeWarning: invalid value encountered in true_divide\n",
      "  c /= stddev[:, None]\n",
      "c:\\users\\chapm\\pycharmprojects\\cca_zoo\\venv\\lib\\site-packages\\numpy\\lib\\function_base.py:2642: RuntimeWarning: invalid value encountered in true_divide\n",
      "  c /= stddev[:, None]\n",
      "c:\\users\\chapm\\pycharmprojects\\cca_zoo\\venv\\lib\\site-packages\\numpy\\lib\\function_base.py:2642: RuntimeWarning: invalid value encountered in true_divide\n",
      "  c /= stddev[:, None]\n",
      "c:\\users\\chapm\\pycharmprojects\\cca_zoo\\venv\\lib\\site-packages\\numpy\\lib\\function_base.py:2642: RuntimeWarning: invalid value encountered in true_divide\n",
      "  c /= stddev[:, None]\n",
      "c:\\users\\chapm\\pycharmprojects\\cca_zoo\\venv\\lib\\site-packages\\numpy\\lib\\function_base.py:2642: RuntimeWarning: invalid value encountered in true_divide\n",
      "  c /= stddev[:, None]\n",
      "c:\\users\\chapm\\pycharmprojects\\cca_zoo\\venv\\lib\\site-packages\\numpy\\lib\\function_base.py:2642: RuntimeWarning: invalid value encountered in true_divide\n",
      "  c /= stddev[:, None]\n",
      "c:\\users\\chapm\\pycharmprojects\\cca_zoo\\venv\\lib\\site-packages\\numpy\\lib\\function_base.py:2642: RuntimeWarning: invalid value encountered in true_divide\n",
      "  c /= stddev[:, None]\n",
      "c:\\users\\chapm\\pycharmprojects\\cca_zoo\\venv\\lib\\site-packages\\numpy\\lib\\function_base.py:2642: RuntimeWarning: invalid value encountered in true_divide\n",
      "  c /= stddev[:, None]\n",
      "c:\\users\\chapm\\pycharmprojects\\cca_zoo\\venv\\lib\\site-packages\\numpy\\lib\\function_base.py:2642: RuntimeWarning: invalid value encountered in true_divide\n",
      "  c /= stddev[:, None]\n",
      "c:\\users\\chapm\\pycharmprojects\\cca_zoo\\venv\\lib\\site-packages\\numpy\\lib\\function_base.py:2642: RuntimeWarning: invalid value encountered in true_divide\n",
      "  c /= stddev[:, None]\n",
      "c:\\users\\chapm\\pycharmprojects\\cca_zoo\\venv\\lib\\site-packages\\numpy\\lib\\function_base.py:2642: RuntimeWarning: invalid value encountered in true_divide\n",
      "  c /= stddev[:, None]\n",
      "c:\\users\\chapm\\pycharmprojects\\cca_zoo\\venv\\lib\\site-packages\\numpy\\lib\\function_base.py:2642: RuntimeWarning: invalid value encountered in true_divide\n",
      "  c /= stddev[:, None]\n",
      "c:\\users\\chapm\\pycharmprojects\\cca_zoo\\venv\\lib\\site-packages\\numpy\\lib\\function_base.py:2642: RuntimeWarning: invalid value encountered in true_divide\n",
      "  c /= stddev[:, None]\n",
      "c:\\users\\chapm\\pycharmprojects\\cca_zoo\\venv\\lib\\site-packages\\numpy\\lib\\function_base.py:2642: RuntimeWarning: invalid value encountered in true_divide\n",
      "  c /= stddev[:, None]\n",
      "c:\\users\\chapm\\pycharmprojects\\cca_zoo\\venv\\lib\\site-packages\\numpy\\lib\\function_base.py:2642: RuntimeWarning: invalid value encountered in true_divide\n",
      "  c /= stddev[:, None]\n",
      "c:\\users\\chapm\\pycharmprojects\\cca_zoo\\venv\\lib\\site-packages\\numpy\\lib\\function_base.py:2642: RuntimeWarning: invalid value encountered in true_divide\n",
      "  c /= stddev[:, None]\n",
      "c:\\users\\chapm\\pycharmprojects\\cca_zoo\\venv\\lib\\site-packages\\numpy\\lib\\function_base.py:2642: RuntimeWarning: invalid value encountered in true_divide\n",
      "  c /= stddev[:, None]\n",
      "c:\\users\\chapm\\pycharmprojects\\cca_zoo\\venv\\lib\\site-packages\\numpy\\lib\\function_base.py:2642: RuntimeWarning: invalid value encountered in true_divide\n",
      "  c /= stddev[:, None]\n",
      "c:\\users\\chapm\\pycharmprojects\\cca_zoo\\venv\\lib\\site-packages\\numpy\\lib\\function_base.py:2642: RuntimeWarning: invalid value encountered in true_divide\n",
      "  c /= stddev[:, None]\n",
      "c:\\users\\chapm\\pycharmprojects\\cca_zoo\\venv\\lib\\site-packages\\numpy\\lib\\function_base.py:2642: RuntimeWarning: invalid value encountered in true_divide\n",
      "  c /= stddev[:, None]\n"
     ]
    },
    {
     "name": "stderr",
     "output_type": "stream",
     "text": [
      "c:\\users\\chapm\\pycharmprojects\\cca_zoo\\venv\\lib\\site-packages\\numpy\\lib\\function_base.py:2642: RuntimeWarning: invalid value encountered in true_divide\n",
      "  c /= stddev[:, None]\n",
      "c:\\users\\chapm\\pycharmprojects\\cca_zoo\\venv\\lib\\site-packages\\numpy\\lib\\function_base.py:2642: RuntimeWarning: invalid value encountered in true_divide\n",
      "  c /= stddev[:, None]\n",
      "c:\\users\\chapm\\pycharmprojects\\cca_zoo\\venv\\lib\\site-packages\\numpy\\lib\\function_base.py:2642: RuntimeWarning: invalid value encountered in true_divide\n",
      "  c /= stddev[:, None]\n",
      "c:\\users\\chapm\\pycharmprojects\\cca_zoo\\venv\\lib\\site-packages\\numpy\\lib\\function_base.py:2642: RuntimeWarning: invalid value encountered in true_divide\n",
      "  c /= stddev[:, None]\n",
      "c:\\users\\chapm\\pycharmprojects\\cca_zoo\\venv\\lib\\site-packages\\numpy\\lib\\function_base.py:2642: RuntimeWarning: invalid value encountered in true_divide\n",
      "  c /= stddev[:, None]\n",
      "c:\\users\\chapm\\pycharmprojects\\cca_zoo\\venv\\lib\\site-packages\\numpy\\lib\\function_base.py:2642: RuntimeWarning: invalid value encountered in true_divide\n",
      "  c /= stddev[:, None]\n",
      "c:\\users\\chapm\\pycharmprojects\\cca_zoo\\venv\\lib\\site-packages\\numpy\\lib\\function_base.py:2642: RuntimeWarning: invalid value encountered in true_divide\n",
      "  c /= stddev[:, None]\n",
      "c:\\users\\chapm\\pycharmprojects\\cca_zoo\\venv\\lib\\site-packages\\numpy\\lib\\function_base.py:2642: RuntimeWarning: invalid value encountered in true_divide\n",
      "  c /= stddev[:, None]\n",
      "c:\\users\\chapm\\pycharmprojects\\cca_zoo\\venv\\lib\\site-packages\\numpy\\lib\\function_base.py:2642: RuntimeWarning: invalid value encountered in true_divide\n",
      "  c /= stddev[:, None]\n",
      "c:\\users\\chapm\\pycharmprojects\\cca_zoo\\venv\\lib\\site-packages\\numpy\\lib\\function_base.py:2642: RuntimeWarning: invalid value encountered in true_divide\n",
      "  c /= stddev[:, None]\n",
      "c:\\users\\chapm\\pycharmprojects\\cca_zoo\\venv\\lib\\site-packages\\numpy\\lib\\function_base.py:2642: RuntimeWarning: invalid value encountered in true_divide\n",
      "  c /= stddev[:, None]\n",
      "c:\\users\\chapm\\pycharmprojects\\cca_zoo\\venv\\lib\\site-packages\\numpy\\lib\\function_base.py:2642: RuntimeWarning: invalid value encountered in true_divide\n",
      "  c /= stddev[:, None]\n",
      "c:\\users\\chapm\\pycharmprojects\\cca_zoo\\venv\\lib\\site-packages\\numpy\\lib\\function_base.py:2642: RuntimeWarning: invalid value encountered in true_divide\n",
      "  c /= stddev[:, None]\n"
     ]
    }
   ],
   "source": [
    "from cca_zoo.models import KCCA\n",
    "\"\"\"\n",
    "### Kernel CCA\n",
    "\n",
    "Similarly, we can use kernel CCA methods with [method='kernel']\n",
    "\n",
    "We can use different kernels and their associated parameters in a similar manner to before\n",
    "- regularized linear kernel CCA: parameters :  'kernel'='linear', 0<'c'<1\n",
    "- polynomial kernel CCA: parameters : 'kernel'='poly', 'degree', 0<'c'<1\n",
    "- gaussian rbf kernel CCA: parameters : 'kernel'='gaussian', 'sigma', 0<'c'<1\n",
    "\"\"\"\n",
    "# %%\n",
    "# r-kernel cca\n",
    "c1 = [0.9, 0.99]\n",
    "c2 = [0.9, 0.99]\n",
    "\n",
    "param_grid = {'kernel': ['linear'], 'c': [c1,c2]}\n",
    "\n",
    "kernel_reg = GridSearchCV(KCCA(latent_dims=latent_dims),param_grid=param_grid,\n",
    "    cv=cv,\n",
    "    verbose=True,scoring=scorer).fit([train_view_1,train_view_2]).best_estimator_\n",
    "kernel_reg_results = np.stack((\n",
    "    kernel_reg.score((train_view_1,train_view_2)),\n",
    "    kernel_reg.score((test_view_1, test_view_2))))\n",
    "\n",
    "# kernel cca (poly)\n",
    "degree1 = [2, 3]\n",
    "degree2 = [2, 3]\n",
    "\n",
    "param_grid = {'kernel': ['poly'], 'degree': [degree1,degree2],\n",
    "                    'c': [c1,c2]}\n",
    "\n",
    "kernel_poly = GridSearchCV(KCCA(latent_dims=latent_dims),param_grid=param_grid,\n",
    "    cv=cv,\n",
    "    verbose=True,scoring=scorer).fit([train_view_1,train_view_2]).best_estimator_\n",
    "\n",
    "kernel_poly_results = np.stack((\n",
    "    kernel_poly.score((train_view_1,train_view_2)),\n",
    "    kernel_poly.score((test_view_1, test_view_2))))\n",
    "\n",
    "# kernel cca (gaussian)\n",
    "gamma1 = [1e+1, 1e+2, 1e+3]\n",
    "gamma2 = [1e+1, 1e+2, 1e+3]\n",
    "\n",
    "param_grid = {'kernel': ['rbf'], 'gamma': [gamma1,gamma2],\n",
    "                    'c': [c1,c2]}\n",
    "\n",
    "kernel_gaussian = GridSearchCV(KCCA(latent_dims=latent_dims),param_grid=param_grid,\n",
    "    cv=cv,\n",
    "    verbose=True,scoring=scorer).fit([train_view_1,train_view_2]).best_estimator_\n",
    "\n",
    "kernel_gaussian_results = np.stack((\n",
    "    kernel_gaussian.score((train_view_1,train_view_2)),\n",
    "    kernel_gaussian.score((test_view_1, test_view_2))))"
   ]
  },
  {
   "cell_type": "markdown",
   "metadata": {
    "id": "iJfzMn4KvLTv"
   },
   "source": [
    "# Deep CCA\n",
    "\n",
    "DCCA can be optimized using Andrew's original tracenorm objective or Wang's DCCA by nonlinear orthogonal iterations using the argument als=True."
   ]
  },
  {
   "cell_type": "code",
   "execution_count": 6,
   "metadata": {
    "colab": {
     "base_uri": "https://localhost:8080/"
    },
    "id": "KvW0LO4KvLTw",
    "outputId": "3e57f638-f6c1-483b-a088-aaf23fd1b333",
    "pycharm": {
     "is_executing": true,
     "name": "#%%\n"
    }
   },
   "outputs": [
    {
     "name": "stderr",
     "output_type": "stream",
     "text": [
      "GPU available: True, used: False\n",
      "TPU available: False, using: 0 TPU cores\n",
      "IPU available: False, using: 0 IPUs\n",
      "\n",
      "  | Name  | Type | Params\n",
      "-------------------------------\n",
      "0 | model | DCCA | 201 K \n",
      "-------------------------------\n",
      "201 K     Trainable params\n",
      "0         Non-trainable params\n",
      "201 K     Total params\n",
      "0.806     Total estimated model params size (MB)\n"
     ]
    },
    {
     "name": "stdout",
     "output_type": "stream",
     "text": [
      "DCCA\n"
     ]
    },
    {
     "data": {
      "application/vnd.jupyter.widget-view+json": {
       "model_id": "",
       "version_major": 2,
       "version_minor": 0
      },
      "text/plain": [
       "Validation sanity check: 0it [00:00, ?it/s]"
      ]
     },
     "metadata": {},
     "output_type": "display_data"
    },
    {
     "name": "stderr",
     "output_type": "stream",
     "text": [
      "c:\\users\\chapm\\pycharmprojects\\cca_zoo\\venv\\lib\\site-packages\\pytorch_lightning\\trainer\\data_loading.py:105: UserWarning: The dataloader, train dataloader, does not have many workers which may be a bottleneck. Consider increasing the value of the `num_workers` argument` (try 12 which is the number of cpus on this machine) in the `DataLoader` init to improve performance.\n",
      "  rank_zero_warn(\n"
     ]
    },
    {
     "data": {
      "application/vnd.jupyter.widget-view+json": {
       "model_id": "15d22f6829f045f9b670f4e126d49f81",
       "version_major": 2,
       "version_minor": 0
      },
      "text/plain": [
       "Training: -1it [00:00, ?it/s]"
      ]
     },
     "metadata": {},
     "output_type": "display_data"
    },
    {
     "data": {
      "application/vnd.jupyter.widget-view+json": {
       "model_id": "",
       "version_major": 2,
       "version_minor": 0
      },
      "text/plain": [
       "Validating: 0it [00:00, ?it/s]"
      ]
     },
     "metadata": {},
     "output_type": "display_data"
    },
    {
     "data": {
      "application/vnd.jupyter.widget-view+json": {
       "model_id": "",
       "version_major": 2,
       "version_minor": 0
      },
      "text/plain": [
       "Validating: 0it [00:00, ?it/s]"
      ]
     },
     "metadata": {},
     "output_type": "display_data"
    },
    {
     "data": {
      "application/vnd.jupyter.widget-view+json": {
       "model_id": "",
       "version_major": 2,
       "version_minor": 0
      },
      "text/plain": [
       "Validating: 0it [00:00, ?it/s]"
      ]
     },
     "metadata": {},
     "output_type": "display_data"
    },
    {
     "data": {
      "application/vnd.jupyter.widget-view+json": {
       "model_id": "",
       "version_major": 2,
       "version_minor": 0
      },
      "text/plain": [
       "Validating: 0it [00:00, ?it/s]"
      ]
     },
     "metadata": {},
     "output_type": "display_data"
    },
    {
     "data": {
      "application/vnd.jupyter.widget-view+json": {
       "model_id": "",
       "version_major": 2,
       "version_minor": 0
      },
      "text/plain": [
       "Validating: 0it [00:00, ?it/s]"
      ]
     },
     "metadata": {},
     "output_type": "display_data"
    },
    {
     "data": {
      "application/vnd.jupyter.widget-view+json": {
       "model_id": "",
       "version_major": 2,
       "version_minor": 0
      },
      "text/plain": [
       "Validating: 0it [00:00, ?it/s]"
      ]
     },
     "metadata": {},
     "output_type": "display_data"
    },
    {
     "data": {
      "application/vnd.jupyter.widget-view+json": {
       "model_id": "",
       "version_major": 2,
       "version_minor": 0
      },
      "text/plain": [
       "Validating: 0it [00:00, ?it/s]"
      ]
     },
     "metadata": {},
     "output_type": "display_data"
    },
    {
     "data": {
      "application/vnd.jupyter.widget-view+json": {
       "model_id": "",
       "version_major": 2,
       "version_minor": 0
      },
      "text/plain": [
       "Validating: 0it [00:00, ?it/s]"
      ]
     },
     "metadata": {},
     "output_type": "display_data"
    },
    {
     "data": {
      "application/vnd.jupyter.widget-view+json": {
       "model_id": "",
       "version_major": 2,
       "version_minor": 0
      },
      "text/plain": [
       "Validating: 0it [00:00, ?it/s]"
      ]
     },
     "metadata": {},
     "output_type": "display_data"
    },
    {
     "data": {
      "application/vnd.jupyter.widget-view+json": {
       "model_id": "",
       "version_major": 2,
       "version_minor": 0
      },
      "text/plain": [
       "Validating: 0it [00:00, ?it/s]"
      ]
     },
     "metadata": {},
     "output_type": "display_data"
    },
    {
     "data": {
      "application/vnd.jupyter.widget-view+json": {
       "model_id": "",
       "version_major": 2,
       "version_minor": 0
      },
      "text/plain": [
       "Validating: 0it [00:00, ?it/s]"
      ]
     },
     "metadata": {},
     "output_type": "display_data"
    },
    {
     "data": {
      "application/vnd.jupyter.widget-view+json": {
       "model_id": "",
       "version_major": 2,
       "version_minor": 0
      },
      "text/plain": [
       "Validating: 0it [00:00, ?it/s]"
      ]
     },
     "metadata": {},
     "output_type": "display_data"
    },
    {
     "data": {
      "application/vnd.jupyter.widget-view+json": {
       "model_id": "",
       "version_major": 2,
       "version_minor": 0
      },
      "text/plain": [
       "Validating: 0it [00:00, ?it/s]"
      ]
     },
     "metadata": {},
     "output_type": "display_data"
    },
    {
     "data": {
      "application/vnd.jupyter.widget-view+json": {
       "model_id": "",
       "version_major": 2,
       "version_minor": 0
      },
      "text/plain": [
       "Validating: 0it [00:00, ?it/s]"
      ]
     },
     "metadata": {},
     "output_type": "display_data"
    },
    {
     "data": {
      "application/vnd.jupyter.widget-view+json": {
       "model_id": "",
       "version_major": 2,
       "version_minor": 0
      },
      "text/plain": [
       "Validating: 0it [00:00, ?it/s]"
      ]
     },
     "metadata": {},
     "output_type": "display_data"
    },
    {
     "data": {
      "application/vnd.jupyter.widget-view+json": {
       "model_id": "",
       "version_major": 2,
       "version_minor": 0
      },
      "text/plain": [
       "Validating: 0it [00:00, ?it/s]"
      ]
     },
     "metadata": {},
     "output_type": "display_data"
    },
    {
     "data": {
      "application/vnd.jupyter.widget-view+json": {
       "model_id": "",
       "version_major": 2,
       "version_minor": 0
      },
      "text/plain": [
       "Validating: 0it [00:00, ?it/s]"
      ]
     },
     "metadata": {},
     "output_type": "display_data"
    },
    {
     "data": {
      "application/vnd.jupyter.widget-view+json": {
       "model_id": "",
       "version_major": 2,
       "version_minor": 0
      },
      "text/plain": [
       "Validating: 0it [00:00, ?it/s]"
      ]
     },
     "metadata": {},
     "output_type": "display_data"
    },
    {
     "data": {
      "application/vnd.jupyter.widget-view+json": {
       "model_id": "",
       "version_major": 2,
       "version_minor": 0
      },
      "text/plain": [
       "Validating: 0it [00:00, ?it/s]"
      ]
     },
     "metadata": {},
     "output_type": "display_data"
    },
    {
     "data": {
      "application/vnd.jupyter.widget-view+json": {
       "model_id": "",
       "version_major": 2,
       "version_minor": 0
      },
      "text/plain": [
       "Validating: 0it [00:00, ?it/s]"
      ]
     },
     "metadata": {},
     "output_type": "display_data"
    },
    {
     "name": "stderr",
     "output_type": "stream",
     "text": [
      "GPU available: True, used: False\n",
      "TPU available: False, using: 0 TPU cores\n",
      "IPU available: False, using: 0 IPUs\n",
      "c:\\users\\chapm\\pycharmprojects\\cca_zoo\\venv\\lib\\site-packages\\pytorch_lightning\\trainer\\trainer.py:1303: UserWarning: GPU available but not used. Set the gpus flag in your trainer `Trainer(gpus=1)` or script `--gpus=1`.\n",
      "  rank_zero_warn(\n",
      "\n",
      "  | Name  | Type     | Params\n",
      "-----------------------------------\n",
      "0 | model | DCCA_NOI | 201 K \n",
      "-----------------------------------\n",
      "201 K     Trainable params\n",
      "0         Non-trainable params\n",
      "201 K     Total params\n",
      "0.806     Total estimated model params size (MB)\n"
     ]
    },
    {
     "name": "stdout",
     "output_type": "stream",
     "text": [
      "DCCA by non-linear orthogonal iterations\n"
     ]
    },
    {
     "data": {
      "application/vnd.jupyter.widget-view+json": {
       "model_id": "",
       "version_major": 2,
       "version_minor": 0
      },
      "text/plain": [
       "Validation sanity check: 0it [00:00, ?it/s]"
      ]
     },
     "metadata": {},
     "output_type": "display_data"
    },
    {
     "name": "stderr",
     "output_type": "stream",
     "text": [
      "c:\\users\\chapm\\pycharmprojects\\cca_zoo\\venv\\lib\\site-packages\\pytorch_lightning\\trainer\\data_loading.py:105: UserWarning: The dataloader, val dataloader 0, does not have many workers which may be a bottleneck. Consider increasing the value of the `num_workers` argument` (try 12 which is the number of cpus on this machine) in the `DataLoader` init to improve performance.\n",
      "  rank_zero_warn(\n",
      "c:\\users\\chapm\\pycharmprojects\\cca_zoo\\venv\\lib\\site-packages\\pytorch_lightning\\trainer\\data_loading.py:105: UserWarning: The dataloader, train dataloader, does not have many workers which may be a bottleneck. Consider increasing the value of the `num_workers` argument` (try 12 which is the number of cpus on this machine) in the `DataLoader` init to improve performance.\n",
      "  rank_zero_warn(\n"
     ]
    },
    {
     "data": {
      "application/vnd.jupyter.widget-view+json": {
       "model_id": "fb025e3368da4ebdacdadfa8729400bb",
       "version_major": 2,
       "version_minor": 0
      },
      "text/plain": [
       "Training: -1it [00:00, ?it/s]"
      ]
     },
     "metadata": {},
     "output_type": "display_data"
    },
    {
     "data": {
      "application/vnd.jupyter.widget-view+json": {
       "model_id": "",
       "version_major": 2,
       "version_minor": 0
      },
      "text/plain": [
       "Validating: 0it [00:00, ?it/s]"
      ]
     },
     "metadata": {},
     "output_type": "display_data"
    },
    {
     "data": {
      "application/vnd.jupyter.widget-view+json": {
       "model_id": "",
       "version_major": 2,
       "version_minor": 0
      },
      "text/plain": [
       "Validating: 0it [00:00, ?it/s]"
      ]
     },
     "metadata": {},
     "output_type": "display_data"
    },
    {
     "data": {
      "application/vnd.jupyter.widget-view+json": {
       "model_id": "",
       "version_major": 2,
       "version_minor": 0
      },
      "text/plain": [
       "Validating: 0it [00:00, ?it/s]"
      ]
     },
     "metadata": {},
     "output_type": "display_data"
    },
    {
     "data": {
      "application/vnd.jupyter.widget-view+json": {
       "model_id": "",
       "version_major": 2,
       "version_minor": 0
      },
      "text/plain": [
       "Validating: 0it [00:00, ?it/s]"
      ]
     },
     "metadata": {},
     "output_type": "display_data"
    },
    {
     "data": {
      "application/vnd.jupyter.widget-view+json": {
       "model_id": "",
       "version_major": 2,
       "version_minor": 0
      },
      "text/plain": [
       "Validating: 0it [00:00, ?it/s]"
      ]
     },
     "metadata": {},
     "output_type": "display_data"
    },
    {
     "data": {
      "application/vnd.jupyter.widget-view+json": {
       "model_id": "",
       "version_major": 2,
       "version_minor": 0
      },
      "text/plain": [
       "Validating: 0it [00:00, ?it/s]"
      ]
     },
     "metadata": {},
     "output_type": "display_data"
    },
    {
     "data": {
      "application/vnd.jupyter.widget-view+json": {
       "model_id": "",
       "version_major": 2,
       "version_minor": 0
      },
      "text/plain": [
       "Validating: 0it [00:00, ?it/s]"
      ]
     },
     "metadata": {},
     "output_type": "display_data"
    },
    {
     "data": {
      "application/vnd.jupyter.widget-view+json": {
       "model_id": "",
       "version_major": 2,
       "version_minor": 0
      },
      "text/plain": [
       "Validating: 0it [00:00, ?it/s]"
      ]
     },
     "metadata": {},
     "output_type": "display_data"
    },
    {
     "data": {
      "application/vnd.jupyter.widget-view+json": {
       "model_id": "",
       "version_major": 2,
       "version_minor": 0
      },
      "text/plain": [
       "Validating: 0it [00:00, ?it/s]"
      ]
     },
     "metadata": {},
     "output_type": "display_data"
    },
    {
     "data": {
      "application/vnd.jupyter.widget-view+json": {
       "model_id": "",
       "version_major": 2,
       "version_minor": 0
      },
      "text/plain": [
       "Validating: 0it [00:00, ?it/s]"
      ]
     },
     "metadata": {},
     "output_type": "display_data"
    },
    {
     "data": {
      "application/vnd.jupyter.widget-view+json": {
       "model_id": "",
       "version_major": 2,
       "version_minor": 0
      },
      "text/plain": [
       "Validating: 0it [00:00, ?it/s]"
      ]
     },
     "metadata": {},
     "output_type": "display_data"
    },
    {
     "data": {
      "application/vnd.jupyter.widget-view+json": {
       "model_id": "",
       "version_major": 2,
       "version_minor": 0
      },
      "text/plain": [
       "Validating: 0it [00:00, ?it/s]"
      ]
     },
     "metadata": {},
     "output_type": "display_data"
    },
    {
     "data": {
      "application/vnd.jupyter.widget-view+json": {
       "model_id": "",
       "version_major": 2,
       "version_minor": 0
      },
      "text/plain": [
       "Validating: 0it [00:00, ?it/s]"
      ]
     },
     "metadata": {},
     "output_type": "display_data"
    },
    {
     "data": {
      "application/vnd.jupyter.widget-view+json": {
       "model_id": "",
       "version_major": 2,
       "version_minor": 0
      },
      "text/plain": [
       "Validating: 0it [00:00, ?it/s]"
      ]
     },
     "metadata": {},
     "output_type": "display_data"
    },
    {
     "data": {
      "application/vnd.jupyter.widget-view+json": {
       "model_id": "",
       "version_major": 2,
       "version_minor": 0
      },
      "text/plain": [
       "Validating: 0it [00:00, ?it/s]"
      ]
     },
     "metadata": {},
     "output_type": "display_data"
    },
    {
     "data": {
      "application/vnd.jupyter.widget-view+json": {
       "model_id": "",
       "version_major": 2,
       "version_minor": 0
      },
      "text/plain": [
       "Validating: 0it [00:00, ?it/s]"
      ]
     },
     "metadata": {},
     "output_type": "display_data"
    },
    {
     "data": {
      "application/vnd.jupyter.widget-view+json": {
       "model_id": "",
       "version_major": 2,
       "version_minor": 0
      },
      "text/plain": [
       "Validating: 0it [00:00, ?it/s]"
      ]
     },
     "metadata": {},
     "output_type": "display_data"
    },
    {
     "data": {
      "application/vnd.jupyter.widget-view+json": {
       "model_id": "",
       "version_major": 2,
       "version_minor": 0
      },
      "text/plain": [
       "Validating: 0it [00:00, ?it/s]"
      ]
     },
     "metadata": {},
     "output_type": "display_data"
    },
    {
     "data": {
      "application/vnd.jupyter.widget-view+json": {
       "model_id": "",
       "version_major": 2,
       "version_minor": 0
      },
      "text/plain": [
       "Validating: 0it [00:00, ?it/s]"
      ]
     },
     "metadata": {},
     "output_type": "display_data"
    },
    {
     "data": {
      "application/vnd.jupyter.widget-view+json": {
       "model_id": "",
       "version_major": 2,
       "version_minor": 0
      },
      "text/plain": [
       "Validating: 0it [00:00, ?it/s]"
      ]
     },
     "metadata": {},
     "output_type": "display_data"
    }
   ],
   "source": [
    "\"\"\"\n",
    "### Deep Learning\n",
    "\n",
    "We also have deep CCA methods (and autoencoder variants)\n",
    "- Deep CCA (DCCA)\n",
    "- Deep Canonically Correlated Autoencoders (DCCAE)\n",
    "\n",
    "\"\"\"\n",
    "\n",
    "# %%\n",
    "# DCCA\n",
    "print('DCCA')\n",
    "encoder_1 = architectures.Encoder(latent_dims=latent_dims, feature_size=784)\n",
    "encoder_2 = architectures.Encoder(latent_dims=latent_dims, feature_size=784)\n",
    "dcca_model = DCCA(latent_dims=latent_dims, encoders=[encoder_1, encoder_2])\n",
    "\n",
    "dcca_model = CCALightning(dcca_model)\n",
    "trainer = pl.Trainer(max_epochs=epochs, progress_bar_refresh_rate=1, log_every_n_steps=1, logger=False)\n",
    "trainer.fit(dcca_model, train_loader, val_loader)\n",
    "\n",
    "dcca_results = np.stack((dcca_model.score(train_loader), dcca_model.score(test_loader)))\n",
    "\n",
    "# DCCA_NOI\n",
    "print('DCCA by non-linear orthogonal iterations')\n",
    "encoder_1 = architectures.Encoder(latent_dims=latent_dims, feature_size=784)\n",
    "encoder_2 = architectures.Encoder(latent_dims=latent_dims, feature_size=784)\n",
    "dcca_noi_model = DCCA_NOI(latent_dims=latent_dims, encoders=[encoder_1, encoder_2],N=len(train_dataset))\n",
    "\n",
    "dcca_noi_model = CCALightning(dcca_noi_model)\n",
    "trainer = pl.Trainer(max_epochs=epochs, progress_bar_refresh_rate=1, log_every_n_steps=1, logger=False)\n",
    "trainer.fit(dcca_noi_model, train_loader, val_loader)\n",
    "\n",
    "dcca_noi_results = np.stack((dcca_noi_model.score(train_loader), dcca_noi_model.score(test_loader)))"
   ]
  },
  {
   "cell_type": "markdown",
   "metadata": {
    "id": "LvhEwkx2vLTx"
   },
   "source": [
    "# DCCA with custom optimizers and schedulers"
   ]
  },
  {
   "cell_type": "code",
   "execution_count": 7,
   "metadata": {
    "colab": {
     "base_uri": "https://localhost:8080/"
    },
    "id": "pyNA7lBEvLTx",
    "outputId": "ff1b9c97-a2d6-4f18-9204-343ff3fd0dc8",
    "pycharm": {
     "is_executing": true,
     "name": "#%%\n"
    }
   },
   "outputs": [
    {
     "name": "stderr",
     "output_type": "stream",
     "text": [
      "GPU available: True, used: False\n",
      "TPU available: False, using: 0 TPU cores\n",
      "IPU available: False, using: 0 IPUs\n",
      "c:\\users\\chapm\\pycharmprojects\\cca_zoo\\venv\\lib\\site-packages\\pytorch_lightning\\trainer\\trainer.py:1303: UserWarning: GPU available but not used. Set the gpus flag in your trainer `Trainer(gpus=1)` or script `--gpus=1`.\n",
      "  rank_zero_warn(\n",
      "\n",
      "  | Name  | Type | Params\n",
      "-------------------------------\n",
      "0 | model | DCCA | 201 K \n",
      "-------------------------------\n",
      "201 K     Trainable params\n",
      "0         Non-trainable params\n",
      "201 K     Total params\n",
      "0.806     Total estimated model params size (MB)\n"
     ]
    },
    {
     "name": "stdout",
     "output_type": "stream",
     "text": [
      "DCCA\n"
     ]
    },
    {
     "data": {
      "application/vnd.jupyter.widget-view+json": {
       "model_id": "",
       "version_major": 2,
       "version_minor": 0
      },
      "text/plain": [
       "Validation sanity check: 0it [00:00, ?it/s]"
      ]
     },
     "metadata": {},
     "output_type": "display_data"
    },
    {
     "name": "stderr",
     "output_type": "stream",
     "text": [
      "c:\\users\\chapm\\pycharmprojects\\cca_zoo\\venv\\lib\\site-packages\\pytorch_lightning\\trainer\\data_loading.py:105: UserWarning: The dataloader, val dataloader 0, does not have many workers which may be a bottleneck. Consider increasing the value of the `num_workers` argument` (try 12 which is the number of cpus on this machine) in the `DataLoader` init to improve performance.\n",
      "  rank_zero_warn(\n",
      "c:\\users\\chapm\\pycharmprojects\\cca_zoo\\venv\\lib\\site-packages\\pytorch_lightning\\trainer\\data_loading.py:105: UserWarning: The dataloader, train dataloader, does not have many workers which may be a bottleneck. Consider increasing the value of the `num_workers` argument` (try 12 which is the number of cpus on this machine) in the `DataLoader` init to improve performance.\n",
      "  rank_zero_warn(\n"
     ]
    },
    {
     "data": {
      "application/vnd.jupyter.widget-view+json": {
       "model_id": "08df8ebf871b479d9370eae6d916038e",
       "version_major": 2,
       "version_minor": 0
      },
      "text/plain": [
       "Training: -1it [00:00, ?it/s]"
      ]
     },
     "metadata": {},
     "output_type": "display_data"
    },
    {
     "data": {
      "application/vnd.jupyter.widget-view+json": {
       "model_id": "",
       "version_major": 2,
       "version_minor": 0
      },
      "text/plain": [
       "Validating: 0it [00:00, ?it/s]"
      ]
     },
     "metadata": {},
     "output_type": "display_data"
    },
    {
     "data": {
      "application/vnd.jupyter.widget-view+json": {
       "model_id": "",
       "version_major": 2,
       "version_minor": 0
      },
      "text/plain": [
       "Validating: 0it [00:00, ?it/s]"
      ]
     },
     "metadata": {},
     "output_type": "display_data"
    },
    {
     "data": {
      "application/vnd.jupyter.widget-view+json": {
       "model_id": "",
       "version_major": 2,
       "version_minor": 0
      },
      "text/plain": [
       "Validating: 0it [00:00, ?it/s]"
      ]
     },
     "metadata": {},
     "output_type": "display_data"
    },
    {
     "data": {
      "application/vnd.jupyter.widget-view+json": {
       "model_id": "",
       "version_major": 2,
       "version_minor": 0
      },
      "text/plain": [
       "Validating: 0it [00:00, ?it/s]"
      ]
     },
     "metadata": {},
     "output_type": "display_data"
    },
    {
     "data": {
      "application/vnd.jupyter.widget-view+json": {
       "model_id": "",
       "version_major": 2,
       "version_minor": 0
      },
      "text/plain": [
       "Validating: 0it [00:00, ?it/s]"
      ]
     },
     "metadata": {},
     "output_type": "display_data"
    },
    {
     "data": {
      "application/vnd.jupyter.widget-view+json": {
       "model_id": "",
       "version_major": 2,
       "version_minor": 0
      },
      "text/plain": [
       "Validating: 0it [00:00, ?it/s]"
      ]
     },
     "metadata": {},
     "output_type": "display_data"
    },
    {
     "data": {
      "application/vnd.jupyter.widget-view+json": {
       "model_id": "",
       "version_major": 2,
       "version_minor": 0
      },
      "text/plain": [
       "Validating: 0it [00:00, ?it/s]"
      ]
     },
     "metadata": {},
     "output_type": "display_data"
    },
    {
     "data": {
      "application/vnd.jupyter.widget-view+json": {
       "model_id": "",
       "version_major": 2,
       "version_minor": 0
      },
      "text/plain": [
       "Validating: 0it [00:00, ?it/s]"
      ]
     },
     "metadata": {},
     "output_type": "display_data"
    },
    {
     "data": {
      "application/vnd.jupyter.widget-view+json": {
       "model_id": "",
       "version_major": 2,
       "version_minor": 0
      },
      "text/plain": [
       "Validating: 0it [00:00, ?it/s]"
      ]
     },
     "metadata": {},
     "output_type": "display_data"
    },
    {
     "data": {
      "application/vnd.jupyter.widget-view+json": {
       "model_id": "",
       "version_major": 2,
       "version_minor": 0
      },
      "text/plain": [
       "Validating: 0it [00:00, ?it/s]"
      ]
     },
     "metadata": {},
     "output_type": "display_data"
    },
    {
     "data": {
      "application/vnd.jupyter.widget-view+json": {
       "model_id": "",
       "version_major": 2,
       "version_minor": 0
      },
      "text/plain": [
       "Validating: 0it [00:00, ?it/s]"
      ]
     },
     "metadata": {},
     "output_type": "display_data"
    },
    {
     "data": {
      "application/vnd.jupyter.widget-view+json": {
       "model_id": "",
       "version_major": 2,
       "version_minor": 0
      },
      "text/plain": [
       "Validating: 0it [00:00, ?it/s]"
      ]
     },
     "metadata": {},
     "output_type": "display_data"
    },
    {
     "data": {
      "application/vnd.jupyter.widget-view+json": {
       "model_id": "",
       "version_major": 2,
       "version_minor": 0
      },
      "text/plain": [
       "Validating: 0it [00:00, ?it/s]"
      ]
     },
     "metadata": {},
     "output_type": "display_data"
    },
    {
     "data": {
      "application/vnd.jupyter.widget-view+json": {
       "model_id": "",
       "version_major": 2,
       "version_minor": 0
      },
      "text/plain": [
       "Validating: 0it [00:00, ?it/s]"
      ]
     },
     "metadata": {},
     "output_type": "display_data"
    },
    {
     "data": {
      "application/vnd.jupyter.widget-view+json": {
       "model_id": "",
       "version_major": 2,
       "version_minor": 0
      },
      "text/plain": [
       "Validating: 0it [00:00, ?it/s]"
      ]
     },
     "metadata": {},
     "output_type": "display_data"
    },
    {
     "data": {
      "application/vnd.jupyter.widget-view+json": {
       "model_id": "",
       "version_major": 2,
       "version_minor": 0
      },
      "text/plain": [
       "Validating: 0it [00:00, ?it/s]"
      ]
     },
     "metadata": {},
     "output_type": "display_data"
    },
    {
     "data": {
      "application/vnd.jupyter.widget-view+json": {
       "model_id": "",
       "version_major": 2,
       "version_minor": 0
      },
      "text/plain": [
       "Validating: 0it [00:00, ?it/s]"
      ]
     },
     "metadata": {},
     "output_type": "display_data"
    },
    {
     "data": {
      "application/vnd.jupyter.widget-view+json": {
       "model_id": "",
       "version_major": 2,
       "version_minor": 0
      },
      "text/plain": [
       "Validating: 0it [00:00, ?it/s]"
      ]
     },
     "metadata": {},
     "output_type": "display_data"
    },
    {
     "data": {
      "application/vnd.jupyter.widget-view+json": {
       "model_id": "",
       "version_major": 2,
       "version_minor": 0
      },
      "text/plain": [
       "Validating: 0it [00:00, ?it/s]"
      ]
     },
     "metadata": {},
     "output_type": "display_data"
    },
    {
     "data": {
      "application/vnd.jupyter.widget-view+json": {
       "model_id": "",
       "version_major": 2,
       "version_minor": 0
      },
      "text/plain": [
       "Validating: 0it [00:00, ?it/s]"
      ]
     },
     "metadata": {},
     "output_type": "display_data"
    }
   ],
   "source": [
    "# DCCA\n",
    "print('DCCA')\n",
    "encoder_1 = architectures.Encoder(latent_dims=latent_dims, feature_size=784)\n",
    "encoder_2 = architectures.Encoder(latent_dims=latent_dims, feature_size=784)\n",
    "dcca_model = DCCA(latent_dims=latent_dims, encoders=[encoder_1, encoder_2])\n",
    "optimizer = optim.Adam(dcca_model.parameters(), lr=1e-4)\n",
    "scheduler = optim.lr_scheduler.CosineAnnealingLR(optimizer, 1)\n",
    "dcca_model = CCALightning(dcca_model)\n",
    "trainer = pl.Trainer(max_epochs=epochs, progress_bar_refresh_rate=1, log_every_n_steps=1, logger=False)\n",
    "trainer.fit(dcca_model, train_loader, val_loader)\n",
    "\n",
    "dcca_results = np.stack((dcca_model.score(train_loader), dcca_model.score(test_loader)))"
   ]
  },
  {
   "cell_type": "markdown",
   "metadata": {
    "id": "5eV-WnWRvLTy"
   },
   "source": [
    "# DGCCA and DMCCA for more than 2 views\n",
    "\n",
    "The only change we need to make is to the objective argument to perform DGCCA and DMCCA."
   ]
  },
  {
   "cell_type": "code",
   "execution_count": 8,
   "metadata": {
    "colab": {
     "base_uri": "https://localhost:8080/"
    },
    "id": "_XKkNitdvLTy",
    "outputId": "3e35ad57-ea2b-4631-e0d2-8f14282affb5",
    "pycharm": {
     "is_executing": true,
     "name": "#%%\n"
    }
   },
   "outputs": [
    {
     "name": "stderr",
     "output_type": "stream",
     "text": [
      "GPU available: True, used: False\n",
      "TPU available: False, using: 0 TPU cores\n",
      "IPU available: False, using: 0 IPUs\n",
      "c:\\users\\chapm\\pycharmprojects\\cca_zoo\\venv\\lib\\site-packages\\pytorch_lightning\\trainer\\trainer.py:1303: UserWarning: GPU available but not used. Set the gpus flag in your trainer `Trainer(gpus=1)` or script `--gpus=1`.\n",
      "  rank_zero_warn(\n",
      "\n",
      "  | Name  | Type | Params\n",
      "-------------------------------\n",
      "0 | model | DCCA | 201 K \n",
      "-------------------------------\n",
      "201 K     Trainable params\n",
      "0         Non-trainable params\n",
      "201 K     Total params\n",
      "0.806     Total estimated model params size (MB)\n"
     ]
    },
    {
     "name": "stdout",
     "output_type": "stream",
     "text": [
      "DGCCA\n"
     ]
    },
    {
     "data": {
      "application/vnd.jupyter.widget-view+json": {
       "model_id": "",
       "version_major": 2,
       "version_minor": 0
      },
      "text/plain": [
       "Validation sanity check: 0it [00:00, ?it/s]"
      ]
     },
     "metadata": {},
     "output_type": "display_data"
    },
    {
     "name": "stderr",
     "output_type": "stream",
     "text": [
      "c:\\users\\chapm\\pycharmprojects\\cca_zoo\\venv\\lib\\site-packages\\pytorch_lightning\\trainer\\data_loading.py:105: UserWarning: The dataloader, val dataloader 0, does not have many workers which may be a bottleneck. Consider increasing the value of the `num_workers` argument` (try 12 which is the number of cpus on this machine) in the `DataLoader` init to improve performance.\n",
      "  rank_zero_warn(\n",
      "c:\\users\\chapm\\pycharmprojects\\cca_zoo\\venv\\lib\\site-packages\\pytorch_lightning\\trainer\\data_loading.py:105: UserWarning: The dataloader, train dataloader, does not have many workers which may be a bottleneck. Consider increasing the value of the `num_workers` argument` (try 12 which is the number of cpus on this machine) in the `DataLoader` init to improve performance.\n",
      "  rank_zero_warn(\n"
     ]
    },
    {
     "data": {
      "application/vnd.jupyter.widget-view+json": {
       "model_id": "db265db5bd8441478831b5c091c91c11",
       "version_major": 2,
       "version_minor": 0
      },
      "text/plain": [
       "Training: -1it [00:00, ?it/s]"
      ]
     },
     "metadata": {},
     "output_type": "display_data"
    },
    {
     "data": {
      "application/vnd.jupyter.widget-view+json": {
       "model_id": "",
       "version_major": 2,
       "version_minor": 0
      },
      "text/plain": [
       "Validating: 0it [00:00, ?it/s]"
      ]
     },
     "metadata": {},
     "output_type": "display_data"
    },
    {
     "data": {
      "application/vnd.jupyter.widget-view+json": {
       "model_id": "",
       "version_major": 2,
       "version_minor": 0
      },
      "text/plain": [
       "Validating: 0it [00:00, ?it/s]"
      ]
     },
     "metadata": {},
     "output_type": "display_data"
    },
    {
     "data": {
      "application/vnd.jupyter.widget-view+json": {
       "model_id": "",
       "version_major": 2,
       "version_minor": 0
      },
      "text/plain": [
       "Validating: 0it [00:00, ?it/s]"
      ]
     },
     "metadata": {},
     "output_type": "display_data"
    },
    {
     "data": {
      "application/vnd.jupyter.widget-view+json": {
       "model_id": "",
       "version_major": 2,
       "version_minor": 0
      },
      "text/plain": [
       "Validating: 0it [00:00, ?it/s]"
      ]
     },
     "metadata": {},
     "output_type": "display_data"
    },
    {
     "data": {
      "application/vnd.jupyter.widget-view+json": {
       "model_id": "",
       "version_major": 2,
       "version_minor": 0
      },
      "text/plain": [
       "Validating: 0it [00:00, ?it/s]"
      ]
     },
     "metadata": {},
     "output_type": "display_data"
    },
    {
     "data": {
      "application/vnd.jupyter.widget-view+json": {
       "model_id": "",
       "version_major": 2,
       "version_minor": 0
      },
      "text/plain": [
       "Validating: 0it [00:00, ?it/s]"
      ]
     },
     "metadata": {},
     "output_type": "display_data"
    },
    {
     "data": {
      "application/vnd.jupyter.widget-view+json": {
       "model_id": "",
       "version_major": 2,
       "version_minor": 0
      },
      "text/plain": [
       "Validating: 0it [00:00, ?it/s]"
      ]
     },
     "metadata": {},
     "output_type": "display_data"
    },
    {
     "data": {
      "application/vnd.jupyter.widget-view+json": {
       "model_id": "",
       "version_major": 2,
       "version_minor": 0
      },
      "text/plain": [
       "Validating: 0it [00:00, ?it/s]"
      ]
     },
     "metadata": {},
     "output_type": "display_data"
    },
    {
     "data": {
      "application/vnd.jupyter.widget-view+json": {
       "model_id": "",
       "version_major": 2,
       "version_minor": 0
      },
      "text/plain": [
       "Validating: 0it [00:00, ?it/s]"
      ]
     },
     "metadata": {},
     "output_type": "display_data"
    },
    {
     "data": {
      "application/vnd.jupyter.widget-view+json": {
       "model_id": "",
       "version_major": 2,
       "version_minor": 0
      },
      "text/plain": [
       "Validating: 0it [00:00, ?it/s]"
      ]
     },
     "metadata": {},
     "output_type": "display_data"
    },
    {
     "data": {
      "application/vnd.jupyter.widget-view+json": {
       "model_id": "",
       "version_major": 2,
       "version_minor": 0
      },
      "text/plain": [
       "Validating: 0it [00:00, ?it/s]"
      ]
     },
     "metadata": {},
     "output_type": "display_data"
    },
    {
     "data": {
      "application/vnd.jupyter.widget-view+json": {
       "model_id": "",
       "version_major": 2,
       "version_minor": 0
      },
      "text/plain": [
       "Validating: 0it [00:00, ?it/s]"
      ]
     },
     "metadata": {},
     "output_type": "display_data"
    },
    {
     "data": {
      "application/vnd.jupyter.widget-view+json": {
       "model_id": "",
       "version_major": 2,
       "version_minor": 0
      },
      "text/plain": [
       "Validating: 0it [00:00, ?it/s]"
      ]
     },
     "metadata": {},
     "output_type": "display_data"
    },
    {
     "data": {
      "application/vnd.jupyter.widget-view+json": {
       "model_id": "",
       "version_major": 2,
       "version_minor": 0
      },
      "text/plain": [
       "Validating: 0it [00:00, ?it/s]"
      ]
     },
     "metadata": {},
     "output_type": "display_data"
    },
    {
     "data": {
      "application/vnd.jupyter.widget-view+json": {
       "model_id": "",
       "version_major": 2,
       "version_minor": 0
      },
      "text/plain": [
       "Validating: 0it [00:00, ?it/s]"
      ]
     },
     "metadata": {},
     "output_type": "display_data"
    },
    {
     "data": {
      "application/vnd.jupyter.widget-view+json": {
       "model_id": "",
       "version_major": 2,
       "version_minor": 0
      },
      "text/plain": [
       "Validating: 0it [00:00, ?it/s]"
      ]
     },
     "metadata": {},
     "output_type": "display_data"
    },
    {
     "data": {
      "application/vnd.jupyter.widget-view+json": {
       "model_id": "",
       "version_major": 2,
       "version_minor": 0
      },
      "text/plain": [
       "Validating: 0it [00:00, ?it/s]"
      ]
     },
     "metadata": {},
     "output_type": "display_data"
    },
    {
     "data": {
      "application/vnd.jupyter.widget-view+json": {
       "model_id": "",
       "version_major": 2,
       "version_minor": 0
      },
      "text/plain": [
       "Validating: 0it [00:00, ?it/s]"
      ]
     },
     "metadata": {},
     "output_type": "display_data"
    },
    {
     "data": {
      "application/vnd.jupyter.widget-view+json": {
       "model_id": "",
       "version_major": 2,
       "version_minor": 0
      },
      "text/plain": [
       "Validating: 0it [00:00, ?it/s]"
      ]
     },
     "metadata": {},
     "output_type": "display_data"
    },
    {
     "data": {
      "application/vnd.jupyter.widget-view+json": {
       "model_id": "",
       "version_major": 2,
       "version_minor": 0
      },
      "text/plain": [
       "Validating: 0it [00:00, ?it/s]"
      ]
     },
     "metadata": {},
     "output_type": "display_data"
    },
    {
     "name": "stderr",
     "output_type": "stream",
     "text": [
      "GPU available: True, used: False\n",
      "TPU available: False, using: 0 TPU cores\n",
      "IPU available: False, using: 0 IPUs\n",
      "c:\\users\\chapm\\pycharmprojects\\cca_zoo\\venv\\lib\\site-packages\\pytorch_lightning\\trainer\\trainer.py:1303: UserWarning: GPU available but not used. Set the gpus flag in your trainer `Trainer(gpus=1)` or script `--gpus=1`.\n",
      "  rank_zero_warn(\n",
      "\n",
      "  | Name  | Type | Params\n",
      "-------------------------------\n",
      "0 | model | DCCA | 201 K \n",
      "-------------------------------\n",
      "201 K     Trainable params\n",
      "0         Non-trainable params\n",
      "201 K     Total params\n",
      "0.806     Total estimated model params size (MB)\n"
     ]
    },
    {
     "name": "stdout",
     "output_type": "stream",
     "text": [
      "DMCCA\n"
     ]
    },
    {
     "data": {
      "application/vnd.jupyter.widget-view+json": {
       "model_id": "",
       "version_major": 2,
       "version_minor": 0
      },
      "text/plain": [
       "Validation sanity check: 0it [00:00, ?it/s]"
      ]
     },
     "metadata": {},
     "output_type": "display_data"
    },
    {
     "name": "stderr",
     "output_type": "stream",
     "text": [
      "c:\\users\\chapm\\pycharmprojects\\cca_zoo\\venv\\lib\\site-packages\\pytorch_lightning\\trainer\\data_loading.py:105: UserWarning: The dataloader, val dataloader 0, does not have many workers which may be a bottleneck. Consider increasing the value of the `num_workers` argument` (try 12 which is the number of cpus on this machine) in the `DataLoader` init to improve performance.\n",
      "  rank_zero_warn(\n",
      "c:\\users\\chapm\\pycharmprojects\\cca_zoo\\venv\\lib\\site-packages\\pytorch_lightning\\trainer\\data_loading.py:105: UserWarning: The dataloader, train dataloader, does not have many workers which may be a bottleneck. Consider increasing the value of the `num_workers` argument` (try 12 which is the number of cpus on this machine) in the `DataLoader` init to improve performance.\n",
      "  rank_zero_warn(\n"
     ]
    },
    {
     "data": {
      "application/vnd.jupyter.widget-view+json": {
       "model_id": "ba839bc6e15b448a9ba1797dc3278a51",
       "version_major": 2,
       "version_minor": 0
      },
      "text/plain": [
       "Training: -1it [00:00, ?it/s]"
      ]
     },
     "metadata": {},
     "output_type": "display_data"
    },
    {
     "data": {
      "application/vnd.jupyter.widget-view+json": {
       "model_id": "",
       "version_major": 2,
       "version_minor": 0
      },
      "text/plain": [
       "Validating: 0it [00:00, ?it/s]"
      ]
     },
     "metadata": {},
     "output_type": "display_data"
    },
    {
     "data": {
      "application/vnd.jupyter.widget-view+json": {
       "model_id": "",
       "version_major": 2,
       "version_minor": 0
      },
      "text/plain": [
       "Validating: 0it [00:00, ?it/s]"
      ]
     },
     "metadata": {},
     "output_type": "display_data"
    },
    {
     "data": {
      "application/vnd.jupyter.widget-view+json": {
       "model_id": "",
       "version_major": 2,
       "version_minor": 0
      },
      "text/plain": [
       "Validating: 0it [00:00, ?it/s]"
      ]
     },
     "metadata": {},
     "output_type": "display_data"
    },
    {
     "data": {
      "application/vnd.jupyter.widget-view+json": {
       "model_id": "",
       "version_major": 2,
       "version_minor": 0
      },
      "text/plain": [
       "Validating: 0it [00:00, ?it/s]"
      ]
     },
     "metadata": {},
     "output_type": "display_data"
    },
    {
     "data": {
      "application/vnd.jupyter.widget-view+json": {
       "model_id": "",
       "version_major": 2,
       "version_minor": 0
      },
      "text/plain": [
       "Validating: 0it [00:00, ?it/s]"
      ]
     },
     "metadata": {},
     "output_type": "display_data"
    },
    {
     "data": {
      "application/vnd.jupyter.widget-view+json": {
       "model_id": "",
       "version_major": 2,
       "version_minor": 0
      },
      "text/plain": [
       "Validating: 0it [00:00, ?it/s]"
      ]
     },
     "metadata": {},
     "output_type": "display_data"
    },
    {
     "data": {
      "application/vnd.jupyter.widget-view+json": {
       "model_id": "",
       "version_major": 2,
       "version_minor": 0
      },
      "text/plain": [
       "Validating: 0it [00:00, ?it/s]"
      ]
     },
     "metadata": {},
     "output_type": "display_data"
    },
    {
     "data": {
      "application/vnd.jupyter.widget-view+json": {
       "model_id": "",
       "version_major": 2,
       "version_minor": 0
      },
      "text/plain": [
       "Validating: 0it [00:00, ?it/s]"
      ]
     },
     "metadata": {},
     "output_type": "display_data"
    },
    {
     "data": {
      "application/vnd.jupyter.widget-view+json": {
       "model_id": "",
       "version_major": 2,
       "version_minor": 0
      },
      "text/plain": [
       "Validating: 0it [00:00, ?it/s]"
      ]
     },
     "metadata": {},
     "output_type": "display_data"
    },
    {
     "data": {
      "application/vnd.jupyter.widget-view+json": {
       "model_id": "",
       "version_major": 2,
       "version_minor": 0
      },
      "text/plain": [
       "Validating: 0it [00:00, ?it/s]"
      ]
     },
     "metadata": {},
     "output_type": "display_data"
    },
    {
     "data": {
      "application/vnd.jupyter.widget-view+json": {
       "model_id": "",
       "version_major": 2,
       "version_minor": 0
      },
      "text/plain": [
       "Validating: 0it [00:00, ?it/s]"
      ]
     },
     "metadata": {},
     "output_type": "display_data"
    },
    {
     "data": {
      "application/vnd.jupyter.widget-view+json": {
       "model_id": "",
       "version_major": 2,
       "version_minor": 0
      },
      "text/plain": [
       "Validating: 0it [00:00, ?it/s]"
      ]
     },
     "metadata": {},
     "output_type": "display_data"
    },
    {
     "data": {
      "application/vnd.jupyter.widget-view+json": {
       "model_id": "",
       "version_major": 2,
       "version_minor": 0
      },
      "text/plain": [
       "Validating: 0it [00:00, ?it/s]"
      ]
     },
     "metadata": {},
     "output_type": "display_data"
    },
    {
     "data": {
      "application/vnd.jupyter.widget-view+json": {
       "model_id": "",
       "version_major": 2,
       "version_minor": 0
      },
      "text/plain": [
       "Validating: 0it [00:00, ?it/s]"
      ]
     },
     "metadata": {},
     "output_type": "display_data"
    },
    {
     "data": {
      "application/vnd.jupyter.widget-view+json": {
       "model_id": "",
       "version_major": 2,
       "version_minor": 0
      },
      "text/plain": [
       "Validating: 0it [00:00, ?it/s]"
      ]
     },
     "metadata": {},
     "output_type": "display_data"
    },
    {
     "data": {
      "application/vnd.jupyter.widget-view+json": {
       "model_id": "",
       "version_major": 2,
       "version_minor": 0
      },
      "text/plain": [
       "Validating: 0it [00:00, ?it/s]"
      ]
     },
     "metadata": {},
     "output_type": "display_data"
    },
    {
     "data": {
      "application/vnd.jupyter.widget-view+json": {
       "model_id": "",
       "version_major": 2,
       "version_minor": 0
      },
      "text/plain": [
       "Validating: 0it [00:00, ?it/s]"
      ]
     },
     "metadata": {},
     "output_type": "display_data"
    },
    {
     "data": {
      "application/vnd.jupyter.widget-view+json": {
       "model_id": "",
       "version_major": 2,
       "version_minor": 0
      },
      "text/plain": [
       "Validating: 0it [00:00, ?it/s]"
      ]
     },
     "metadata": {},
     "output_type": "display_data"
    },
    {
     "data": {
      "application/vnd.jupyter.widget-view+json": {
       "model_id": "",
       "version_major": 2,
       "version_minor": 0
      },
      "text/plain": [
       "Validating: 0it [00:00, ?it/s]"
      ]
     },
     "metadata": {},
     "output_type": "display_data"
    },
    {
     "data": {
      "application/vnd.jupyter.widget-view+json": {
       "model_id": "",
       "version_major": 2,
       "version_minor": 0
      },
      "text/plain": [
       "Validating: 0it [00:00, ?it/s]"
      ]
     },
     "metadata": {},
     "output_type": "display_data"
    }
   ],
   "source": [
    "# DGCCA\n",
    "print('DGCCA')\n",
    "encoder_1 = architectures.Encoder(latent_dims=latent_dims, feature_size=784)\n",
    "encoder_2 = architectures.Encoder(latent_dims=latent_dims, feature_size=784)\n",
    "dgcca_model = DCCA(latent_dims=latent_dims, encoders=[encoder_1, encoder_2], objective=objectives.GCCA)\n",
    "\n",
    "dgcca_model = CCALightning(dgcca_model)\n",
    "trainer = pl.Trainer(max_epochs=epochs, progress_bar_refresh_rate=1, log_every_n_steps=1, logger=False)\n",
    "trainer.fit(dgcca_model, train_loader, val_loader)\n",
    "\n",
    "dgcca_results = np.stack((dgcca_model.score(train_loader), dgcca_model.score(test_loader)))\n",
    "\n",
    "# DMCCA\n",
    "print('DMCCA')\n",
    "encoder_1 = architectures.Encoder(latent_dims=latent_dims, feature_size=784)\n",
    "encoder_2 = architectures.Encoder(latent_dims=latent_dims, feature_size=784)\n",
    "dmcca_model = DCCA(latent_dims=latent_dims, encoders=[encoder_1, encoder_2], objective=objectives.MCCA)\n",
    "\n",
    "dmcca_model = CCALightning(dmcca_model)\n",
    "trainer = pl.Trainer(max_epochs=epochs, progress_bar_refresh_rate=1, log_every_n_steps=1, logger=False)\n",
    "trainer.fit(dmcca_model, train_loader, val_loader)\n",
    "\n",
    "dmcca_results = np.stack((dmcca_model.score(train_loader), dmcca_model.score(test_loader)))"
   ]
  },
  {
   "cell_type": "markdown",
   "metadata": {
    "id": "i6Czf36DvLTy"
   },
   "source": [
    "# Deep Canonically Correlated Autoencoders\n",
    "We need to add decoders in order to model deep canonically correlated autoencoders and we also use the DCCAE class which inherits from DCCA"
   ]
  },
  {
   "cell_type": "code",
   "execution_count": 9,
   "metadata": {
    "colab": {
     "base_uri": "https://localhost:8080/"
    },
    "id": "jphk92IhvLTz",
    "outputId": "4982a7e6-e80a-4bef-cd4d-2557d39a8a45",
    "pycharm": {
     "is_executing": true,
     "name": "#%%\n"
    }
   },
   "outputs": [
    {
     "name": "stderr",
     "output_type": "stream",
     "text": [
      "GPU available: True, used: False\n",
      "TPU available: False, using: 0 TPU cores\n",
      "IPU available: False, using: 0 IPUs\n",
      "c:\\users\\chapm\\pycharmprojects\\cca_zoo\\venv\\lib\\site-packages\\pytorch_lightning\\trainer\\trainer.py:1303: UserWarning: GPU available but not used. Set the gpus flag in your trainer `Trainer(gpus=1)` or script `--gpus=1`.\n",
      "  rank_zero_warn(\n",
      "\n",
      "  | Name  | Type  | Params\n",
      "--------------------------------\n",
      "0 | model | DCCAE | 404 K \n",
      "--------------------------------\n",
      "404 K     Trainable params\n",
      "0         Non-trainable params\n",
      "404 K     Total params\n",
      "1.618     Total estimated model params size (MB)\n"
     ]
    },
    {
     "name": "stdout",
     "output_type": "stream",
     "text": [
      "DCCAE\n"
     ]
    },
    {
     "data": {
      "application/vnd.jupyter.widget-view+json": {
       "model_id": "",
       "version_major": 2,
       "version_minor": 0
      },
      "text/plain": [
       "Validation sanity check: 0it [00:00, ?it/s]"
      ]
     },
     "metadata": {},
     "output_type": "display_data"
    },
    {
     "name": "stderr",
     "output_type": "stream",
     "text": [
      "c:\\users\\chapm\\pycharmprojects\\cca_zoo\\venv\\lib\\site-packages\\pytorch_lightning\\trainer\\data_loading.py:105: UserWarning: The dataloader, val dataloader 0, does not have many workers which may be a bottleneck. Consider increasing the value of the `num_workers` argument` (try 12 which is the number of cpus on this machine) in the `DataLoader` init to improve performance.\n",
      "  rank_zero_warn(\n",
      "c:\\users\\chapm\\pycharmprojects\\cca_zoo\\venv\\lib\\site-packages\\pytorch_lightning\\trainer\\data_loading.py:105: UserWarning: The dataloader, train dataloader, does not have many workers which may be a bottleneck. Consider increasing the value of the `num_workers` argument` (try 12 which is the number of cpus on this machine) in the `DataLoader` init to improve performance.\n",
      "  rank_zero_warn(\n"
     ]
    },
    {
     "data": {
      "application/vnd.jupyter.widget-view+json": {
       "model_id": "c6b132f2f4584991b698f95426e7b552",
       "version_major": 2,
       "version_minor": 0
      },
      "text/plain": [
       "Training: -1it [00:00, ?it/s]"
      ]
     },
     "metadata": {},
     "output_type": "display_data"
    },
    {
     "data": {
      "application/vnd.jupyter.widget-view+json": {
       "model_id": "",
       "version_major": 2,
       "version_minor": 0
      },
      "text/plain": [
       "Validating: 0it [00:00, ?it/s]"
      ]
     },
     "metadata": {},
     "output_type": "display_data"
    },
    {
     "data": {
      "application/vnd.jupyter.widget-view+json": {
       "model_id": "",
       "version_major": 2,
       "version_minor": 0
      },
      "text/plain": [
       "Validating: 0it [00:00, ?it/s]"
      ]
     },
     "metadata": {},
     "output_type": "display_data"
    },
    {
     "data": {
      "application/vnd.jupyter.widget-view+json": {
       "model_id": "",
       "version_major": 2,
       "version_minor": 0
      },
      "text/plain": [
       "Validating: 0it [00:00, ?it/s]"
      ]
     },
     "metadata": {},
     "output_type": "display_data"
    },
    {
     "data": {
      "application/vnd.jupyter.widget-view+json": {
       "model_id": "",
       "version_major": 2,
       "version_minor": 0
      },
      "text/plain": [
       "Validating: 0it [00:00, ?it/s]"
      ]
     },
     "metadata": {},
     "output_type": "display_data"
    },
    {
     "data": {
      "application/vnd.jupyter.widget-view+json": {
       "model_id": "",
       "version_major": 2,
       "version_minor": 0
      },
      "text/plain": [
       "Validating: 0it [00:00, ?it/s]"
      ]
     },
     "metadata": {},
     "output_type": "display_data"
    },
    {
     "data": {
      "application/vnd.jupyter.widget-view+json": {
       "model_id": "",
       "version_major": 2,
       "version_minor": 0
      },
      "text/plain": [
       "Validating: 0it [00:00, ?it/s]"
      ]
     },
     "metadata": {},
     "output_type": "display_data"
    },
    {
     "data": {
      "application/vnd.jupyter.widget-view+json": {
       "model_id": "",
       "version_major": 2,
       "version_minor": 0
      },
      "text/plain": [
       "Validating: 0it [00:00, ?it/s]"
      ]
     },
     "metadata": {},
     "output_type": "display_data"
    },
    {
     "data": {
      "application/vnd.jupyter.widget-view+json": {
       "model_id": "",
       "version_major": 2,
       "version_minor": 0
      },
      "text/plain": [
       "Validating: 0it [00:00, ?it/s]"
      ]
     },
     "metadata": {},
     "output_type": "display_data"
    },
    {
     "data": {
      "application/vnd.jupyter.widget-view+json": {
       "model_id": "",
       "version_major": 2,
       "version_minor": 0
      },
      "text/plain": [
       "Validating: 0it [00:00, ?it/s]"
      ]
     },
     "metadata": {},
     "output_type": "display_data"
    },
    {
     "data": {
      "application/vnd.jupyter.widget-view+json": {
       "model_id": "",
       "version_major": 2,
       "version_minor": 0
      },
      "text/plain": [
       "Validating: 0it [00:00, ?it/s]"
      ]
     },
     "metadata": {},
     "output_type": "display_data"
    },
    {
     "data": {
      "application/vnd.jupyter.widget-view+json": {
       "model_id": "",
       "version_major": 2,
       "version_minor": 0
      },
      "text/plain": [
       "Validating: 0it [00:00, ?it/s]"
      ]
     },
     "metadata": {},
     "output_type": "display_data"
    },
    {
     "data": {
      "application/vnd.jupyter.widget-view+json": {
       "model_id": "",
       "version_major": 2,
       "version_minor": 0
      },
      "text/plain": [
       "Validating: 0it [00:00, ?it/s]"
      ]
     },
     "metadata": {},
     "output_type": "display_data"
    },
    {
     "data": {
      "application/vnd.jupyter.widget-view+json": {
       "model_id": "",
       "version_major": 2,
       "version_minor": 0
      },
      "text/plain": [
       "Validating: 0it [00:00, ?it/s]"
      ]
     },
     "metadata": {},
     "output_type": "display_data"
    },
    {
     "data": {
      "application/vnd.jupyter.widget-view+json": {
       "model_id": "",
       "version_major": 2,
       "version_minor": 0
      },
      "text/plain": [
       "Validating: 0it [00:00, ?it/s]"
      ]
     },
     "metadata": {},
     "output_type": "display_data"
    },
    {
     "data": {
      "application/vnd.jupyter.widget-view+json": {
       "model_id": "",
       "version_major": 2,
       "version_minor": 0
      },
      "text/plain": [
       "Validating: 0it [00:00, ?it/s]"
      ]
     },
     "metadata": {},
     "output_type": "display_data"
    },
    {
     "data": {
      "application/vnd.jupyter.widget-view+json": {
       "model_id": "",
       "version_major": 2,
       "version_minor": 0
      },
      "text/plain": [
       "Validating: 0it [00:00, ?it/s]"
      ]
     },
     "metadata": {},
     "output_type": "display_data"
    },
    {
     "data": {
      "application/vnd.jupyter.widget-view+json": {
       "model_id": "",
       "version_major": 2,
       "version_minor": 0
      },
      "text/plain": [
       "Validating: 0it [00:00, ?it/s]"
      ]
     },
     "metadata": {},
     "output_type": "display_data"
    },
    {
     "data": {
      "application/vnd.jupyter.widget-view+json": {
       "model_id": "",
       "version_major": 2,
       "version_minor": 0
      },
      "text/plain": [
       "Validating: 0it [00:00, ?it/s]"
      ]
     },
     "metadata": {},
     "output_type": "display_data"
    },
    {
     "data": {
      "application/vnd.jupyter.widget-view+json": {
       "model_id": "",
       "version_major": 2,
       "version_minor": 0
      },
      "text/plain": [
       "Validating: 0it [00:00, ?it/s]"
      ]
     },
     "metadata": {},
     "output_type": "display_data"
    },
    {
     "data": {
      "application/vnd.jupyter.widget-view+json": {
       "model_id": "",
       "version_major": 2,
       "version_minor": 0
      },
      "text/plain": [
       "Validating: 0it [00:00, ?it/s]"
      ]
     },
     "metadata": {},
     "output_type": "display_data"
    }
   ],
   "source": [
    "# DCCAE\n",
    "print('DCCAE')\n",
    "encoder_1 = architectures.Encoder(latent_dims=latent_dims, feature_size=784)\n",
    "encoder_2 = architectures.Encoder(latent_dims=latent_dims, feature_size=784)\n",
    "decoder_1 = architectures.Decoder(latent_dims=latent_dims, feature_size=784)\n",
    "decoder_2 = architectures.Decoder(latent_dims=latent_dims, feature_size=784)\n",
    "dccae_model = DCCAE(latent_dims=latent_dims, encoders=[encoder_1, encoder_2], decoders=[decoder_1, decoder_2])\n",
    "\n",
    "dccae_model = CCALightning(dccae_model)\n",
    "trainer = pl.Trainer(max_epochs=epochs, progress_bar_refresh_rate=1, log_every_n_steps=1, logger=False)\n",
    "trainer.fit(dccae_model, train_loader, val_loader)\n",
    "\n",
    "dccae_results = np.stack((dccae_model.score(train_loader), dccae_model.score(test_loader)))"
   ]
  },
  {
   "cell_type": "markdown",
   "metadata": {
    "id": "WEK3sUSuvLTz"
   },
   "source": [
    "# Deep Variational CCA"
   ]
  },
  {
   "cell_type": "code",
   "execution_count": 10,
   "metadata": {
    "colab": {
     "base_uri": "https://localhost:8080/"
    },
    "id": "9lqcopiSvLTz",
    "outputId": "484a9a77-0b35-41b7-ddef-6aacbb8be6c0",
    "pycharm": {
     "is_executing": true,
     "name": "#%%\n"
    }
   },
   "outputs": [
    {
     "name": "stderr",
     "output_type": "stream",
     "text": [
      "GPU available: True, used: False\n",
      "TPU available: False, using: 0 TPU cores\n",
      "IPU available: False, using: 0 IPUs\n",
      "\n",
      "  | Name  | Type  | Params\n",
      "--------------------------------\n",
      "0 | model | DVCCA | 405 K \n",
      "--------------------------------\n",
      "405 K     Trainable params\n",
      "0         Non-trainable params\n",
      "405 K     Total params\n",
      "1.620     Total estimated model params size (MB)\n"
     ]
    },
    {
     "name": "stdout",
     "output_type": "stream",
     "text": [
      "DVCCA\n"
     ]
    },
    {
     "data": {
      "application/vnd.jupyter.widget-view+json": {
       "model_id": "",
       "version_major": 2,
       "version_minor": 0
      },
      "text/plain": [
       "Validation sanity check: 0it [00:00, ?it/s]"
      ]
     },
     "metadata": {},
     "output_type": "display_data"
    },
    {
     "data": {
      "application/vnd.jupyter.widget-view+json": {
       "model_id": "46231326d2f4494ea5c867533527cd95",
       "version_major": 2,
       "version_minor": 0
      },
      "text/plain": [
       "Training: -1it [00:00, ?it/s]"
      ]
     },
     "metadata": {},
     "output_type": "display_data"
    },
    {
     "data": {
      "application/vnd.jupyter.widget-view+json": {
       "model_id": "",
       "version_major": 2,
       "version_minor": 0
      },
      "text/plain": [
       "Validating: 0it [00:00, ?it/s]"
      ]
     },
     "metadata": {},
     "output_type": "display_data"
    },
    {
     "data": {
      "application/vnd.jupyter.widget-view+json": {
       "model_id": "",
       "version_major": 2,
       "version_minor": 0
      },
      "text/plain": [
       "Validating: 0it [00:00, ?it/s]"
      ]
     },
     "metadata": {},
     "output_type": "display_data"
    },
    {
     "data": {
      "application/vnd.jupyter.widget-view+json": {
       "model_id": "",
       "version_major": 2,
       "version_minor": 0
      },
      "text/plain": [
       "Validating: 0it [00:00, ?it/s]"
      ]
     },
     "metadata": {},
     "output_type": "display_data"
    },
    {
     "data": {
      "application/vnd.jupyter.widget-view+json": {
       "model_id": "",
       "version_major": 2,
       "version_minor": 0
      },
      "text/plain": [
       "Validating: 0it [00:00, ?it/s]"
      ]
     },
     "metadata": {},
     "output_type": "display_data"
    },
    {
     "data": {
      "application/vnd.jupyter.widget-view+json": {
       "model_id": "",
       "version_major": 2,
       "version_minor": 0
      },
      "text/plain": [
       "Validating: 0it [00:00, ?it/s]"
      ]
     },
     "metadata": {},
     "output_type": "display_data"
    },
    {
     "data": {
      "application/vnd.jupyter.widget-view+json": {
       "model_id": "",
       "version_major": 2,
       "version_minor": 0
      },
      "text/plain": [
       "Validating: 0it [00:00, ?it/s]"
      ]
     },
     "metadata": {},
     "output_type": "display_data"
    },
    {
     "data": {
      "application/vnd.jupyter.widget-view+json": {
       "model_id": "",
       "version_major": 2,
       "version_minor": 0
      },
      "text/plain": [
       "Validating: 0it [00:00, ?it/s]"
      ]
     },
     "metadata": {},
     "output_type": "display_data"
    },
    {
     "data": {
      "application/vnd.jupyter.widget-view+json": {
       "model_id": "",
       "version_major": 2,
       "version_minor": 0
      },
      "text/plain": [
       "Validating: 0it [00:00, ?it/s]"
      ]
     },
     "metadata": {},
     "output_type": "display_data"
    },
    {
     "data": {
      "application/vnd.jupyter.widget-view+json": {
       "model_id": "",
       "version_major": 2,
       "version_minor": 0
      },
      "text/plain": [
       "Validating: 0it [00:00, ?it/s]"
      ]
     },
     "metadata": {},
     "output_type": "display_data"
    },
    {
     "data": {
      "application/vnd.jupyter.widget-view+json": {
       "model_id": "",
       "version_major": 2,
       "version_minor": 0
      },
      "text/plain": [
       "Validating: 0it [00:00, ?it/s]"
      ]
     },
     "metadata": {},
     "output_type": "display_data"
    },
    {
     "data": {
      "application/vnd.jupyter.widget-view+json": {
       "model_id": "",
       "version_major": 2,
       "version_minor": 0
      },
      "text/plain": [
       "Validating: 0it [00:00, ?it/s]"
      ]
     },
     "metadata": {},
     "output_type": "display_data"
    },
    {
     "data": {
      "application/vnd.jupyter.widget-view+json": {
       "model_id": "",
       "version_major": 2,
       "version_minor": 0
      },
      "text/plain": [
       "Validating: 0it [00:00, ?it/s]"
      ]
     },
     "metadata": {},
     "output_type": "display_data"
    },
    {
     "data": {
      "application/vnd.jupyter.widget-view+json": {
       "model_id": "",
       "version_major": 2,
       "version_minor": 0
      },
      "text/plain": [
       "Validating: 0it [00:00, ?it/s]"
      ]
     },
     "metadata": {},
     "output_type": "display_data"
    },
    {
     "data": {
      "application/vnd.jupyter.widget-view+json": {
       "model_id": "",
       "version_major": 2,
       "version_minor": 0
      },
      "text/plain": [
       "Validating: 0it [00:00, ?it/s]"
      ]
     },
     "metadata": {},
     "output_type": "display_data"
    },
    {
     "data": {
      "application/vnd.jupyter.widget-view+json": {
       "model_id": "",
       "version_major": 2,
       "version_minor": 0
      },
      "text/plain": [
       "Validating: 0it [00:00, ?it/s]"
      ]
     },
     "metadata": {},
     "output_type": "display_data"
    },
    {
     "data": {
      "application/vnd.jupyter.widget-view+json": {
       "model_id": "",
       "version_major": 2,
       "version_minor": 0
      },
      "text/plain": [
       "Validating: 0it [00:00, ?it/s]"
      ]
     },
     "metadata": {},
     "output_type": "display_data"
    },
    {
     "data": {
      "application/vnd.jupyter.widget-view+json": {
       "model_id": "",
       "version_major": 2,
       "version_minor": 0
      },
      "text/plain": [
       "Validating: 0it [00:00, ?it/s]"
      ]
     },
     "metadata": {},
     "output_type": "display_data"
    },
    {
     "data": {
      "application/vnd.jupyter.widget-view+json": {
       "model_id": "",
       "version_major": 2,
       "version_minor": 0
      },
      "text/plain": [
       "Validating: 0it [00:00, ?it/s]"
      ]
     },
     "metadata": {},
     "output_type": "display_data"
    },
    {
     "data": {
      "application/vnd.jupyter.widget-view+json": {
       "model_id": "",
       "version_major": 2,
       "version_minor": 0
      },
      "text/plain": [
       "Validating: 0it [00:00, ?it/s]"
      ]
     },
     "metadata": {},
     "output_type": "display_data"
    },
    {
     "data": {
      "application/vnd.jupyter.widget-view+json": {
       "model_id": "",
       "version_major": 2,
       "version_minor": 0
      },
      "text/plain": [
       "Validating: 0it [00:00, ?it/s]"
      ]
     },
     "metadata": {},
     "output_type": "display_data"
    },
    {
     "name": "stderr",
     "output_type": "stream",
     "text": [
      "GPU available: True, used: False\n",
      "TPU available: False, using: 0 TPU cores\n",
      "IPU available: False, using: 0 IPUs\n",
      "\n",
      "  | Name  | Type  | Params\n",
      "--------------------------------\n",
      "0 | model | DVCCA | 607 K \n",
      "--------------------------------\n",
      "607 K     Trainable params\n",
      "0         Non-trainable params\n",
      "607 K     Total params\n",
      "2.430     Total estimated model params size (MB)\n"
     ]
    },
    {
     "name": "stdout",
     "output_type": "stream",
     "text": [
      "DVCCA_private\n"
     ]
    },
    {
     "data": {
      "application/vnd.jupyter.widget-view+json": {
       "model_id": "",
       "version_major": 2,
       "version_minor": 0
      },
      "text/plain": [
       "Validation sanity check: 0it [00:00, ?it/s]"
      ]
     },
     "metadata": {},
     "output_type": "display_data"
    },
    {
     "data": {
      "application/vnd.jupyter.widget-view+json": {
       "model_id": "e1cd0f087b3c45fba03151368d54c2f6",
       "version_major": 2,
       "version_minor": 0
      },
      "text/plain": [
       "Training: -1it [00:00, ?it/s]"
      ]
     },
     "metadata": {},
     "output_type": "display_data"
    },
    {
     "data": {
      "application/vnd.jupyter.widget-view+json": {
       "model_id": "",
       "version_major": 2,
       "version_minor": 0
      },
      "text/plain": [
       "Validating: 0it [00:00, ?it/s]"
      ]
     },
     "metadata": {},
     "output_type": "display_data"
    },
    {
     "data": {
      "application/vnd.jupyter.widget-view+json": {
       "model_id": "",
       "version_major": 2,
       "version_minor": 0
      },
      "text/plain": [
       "Validating: 0it [00:00, ?it/s]"
      ]
     },
     "metadata": {},
     "output_type": "display_data"
    },
    {
     "data": {
      "application/vnd.jupyter.widget-view+json": {
       "model_id": "",
       "version_major": 2,
       "version_minor": 0
      },
      "text/plain": [
       "Validating: 0it [00:00, ?it/s]"
      ]
     },
     "metadata": {},
     "output_type": "display_data"
    },
    {
     "data": {
      "application/vnd.jupyter.widget-view+json": {
       "model_id": "",
       "version_major": 2,
       "version_minor": 0
      },
      "text/plain": [
       "Validating: 0it [00:00, ?it/s]"
      ]
     },
     "metadata": {},
     "output_type": "display_data"
    },
    {
     "data": {
      "application/vnd.jupyter.widget-view+json": {
       "model_id": "",
       "version_major": 2,
       "version_minor": 0
      },
      "text/plain": [
       "Validating: 0it [00:00, ?it/s]"
      ]
     },
     "metadata": {},
     "output_type": "display_data"
    },
    {
     "data": {
      "application/vnd.jupyter.widget-view+json": {
       "model_id": "",
       "version_major": 2,
       "version_minor": 0
      },
      "text/plain": [
       "Validating: 0it [00:00, ?it/s]"
      ]
     },
     "metadata": {},
     "output_type": "display_data"
    },
    {
     "data": {
      "application/vnd.jupyter.widget-view+json": {
       "model_id": "",
       "version_major": 2,
       "version_minor": 0
      },
      "text/plain": [
       "Validating: 0it [00:00, ?it/s]"
      ]
     },
     "metadata": {},
     "output_type": "display_data"
    },
    {
     "data": {
      "application/vnd.jupyter.widget-view+json": {
       "model_id": "",
       "version_major": 2,
       "version_minor": 0
      },
      "text/plain": [
       "Validating: 0it [00:00, ?it/s]"
      ]
     },
     "metadata": {},
     "output_type": "display_data"
    },
    {
     "data": {
      "application/vnd.jupyter.widget-view+json": {
       "model_id": "",
       "version_major": 2,
       "version_minor": 0
      },
      "text/plain": [
       "Validating: 0it [00:00, ?it/s]"
      ]
     },
     "metadata": {},
     "output_type": "display_data"
    },
    {
     "data": {
      "application/vnd.jupyter.widget-view+json": {
       "model_id": "",
       "version_major": 2,
       "version_minor": 0
      },
      "text/plain": [
       "Validating: 0it [00:00, ?it/s]"
      ]
     },
     "metadata": {},
     "output_type": "display_data"
    },
    {
     "data": {
      "application/vnd.jupyter.widget-view+json": {
       "model_id": "",
       "version_major": 2,
       "version_minor": 0
      },
      "text/plain": [
       "Validating: 0it [00:00, ?it/s]"
      ]
     },
     "metadata": {},
     "output_type": "display_data"
    },
    {
     "data": {
      "application/vnd.jupyter.widget-view+json": {
       "model_id": "",
       "version_major": 2,
       "version_minor": 0
      },
      "text/plain": [
       "Validating: 0it [00:00, ?it/s]"
      ]
     },
     "metadata": {},
     "output_type": "display_data"
    },
    {
     "data": {
      "application/vnd.jupyter.widget-view+json": {
       "model_id": "",
       "version_major": 2,
       "version_minor": 0
      },
      "text/plain": [
       "Validating: 0it [00:00, ?it/s]"
      ]
     },
     "metadata": {},
     "output_type": "display_data"
    },
    {
     "data": {
      "application/vnd.jupyter.widget-view+json": {
       "model_id": "",
       "version_major": 2,
       "version_minor": 0
      },
      "text/plain": [
       "Validating: 0it [00:00, ?it/s]"
      ]
     },
     "metadata": {},
     "output_type": "display_data"
    },
    {
     "data": {
      "application/vnd.jupyter.widget-view+json": {
       "model_id": "",
       "version_major": 2,
       "version_minor": 0
      },
      "text/plain": [
       "Validating: 0it [00:00, ?it/s]"
      ]
     },
     "metadata": {},
     "output_type": "display_data"
    },
    {
     "data": {
      "application/vnd.jupyter.widget-view+json": {
       "model_id": "",
       "version_major": 2,
       "version_minor": 0
      },
      "text/plain": [
       "Validating: 0it [00:00, ?it/s]"
      ]
     },
     "metadata": {},
     "output_type": "display_data"
    },
    {
     "data": {
      "application/vnd.jupyter.widget-view+json": {
       "model_id": "",
       "version_major": 2,
       "version_minor": 0
      },
      "text/plain": [
       "Validating: 0it [00:00, ?it/s]"
      ]
     },
     "metadata": {},
     "output_type": "display_data"
    },
    {
     "data": {
      "application/vnd.jupyter.widget-view+json": {
       "model_id": "",
       "version_major": 2,
       "version_minor": 0
      },
      "text/plain": [
       "Validating: 0it [00:00, ?it/s]"
      ]
     },
     "metadata": {},
     "output_type": "display_data"
    },
    {
     "data": {
      "application/vnd.jupyter.widget-view+json": {
       "model_id": "",
       "version_major": 2,
       "version_minor": 0
      },
      "text/plain": [
       "Validating: 0it [00:00, ?it/s]"
      ]
     },
     "metadata": {},
     "output_type": "display_data"
    },
    {
     "data": {
      "application/vnd.jupyter.widget-view+json": {
       "model_id": "",
       "version_major": 2,
       "version_minor": 0
      },
      "text/plain": [
       "Validating: 0it [00:00, ?it/s]"
      ]
     },
     "metadata": {},
     "output_type": "display_data"
    }
   ],
   "source": [
    "\"\"\"\n",
    "### Deep Variational Learning\n",
    "Finally we have Deep Variational CCA methods.\n",
    "- Deep Variational CCA (DVCCA)\n",
    "- Deep Variational CCA - private (DVVCA_p)\n",
    "\n",
    "These are both implemented by the DVCCA class with private=True/False and both_encoders=True/False. If both_encoders,\n",
    "the encoder to the shared information Q(z_shared|x) is modelled for both x_1 and x_2 whereas if both_encoders is false\n",
    "it is modelled for x_1 as in the paper\n",
    "\"\"\"\n",
    "\n",
    "# %%\n",
    "# DVCCA (technically bi-DVCCA)\n",
    "print('DVCCA')\n",
    "encoder_1 = architectures.Encoder(latent_dims=latent_dims, feature_size=784, variational=True)\n",
    "encoder_2 = architectures.Encoder(latent_dims=latent_dims, feature_size=784, variational=True)\n",
    "decoder_1 = architectures.Decoder(latent_dims=latent_dims, feature_size=784, norm_output=True)\n",
    "decoder_2 = architectures.Decoder(latent_dims=latent_dims, feature_size=784, norm_output=True)\n",
    "dvcca_model = DVCCA(latent_dims=latent_dims, encoders=[encoder_1, encoder_2], decoders=[decoder_1, decoder_2])\n",
    "\n",
    "dvcca_model = CCALightning(dvcca_model)\n",
    "trainer = pl.Trainer(max_epochs=epochs, progress_bar_refresh_rate=1, log_every_n_steps=1, logger=False)\n",
    "trainer.fit(dvcca_model, train_loader, val_loader)\n",
    "\n",
    "dvcca_model_results = np.stack((dvcca_model.score(train_loader), dvcca_model.score(test_loader)))\n",
    "\n",
    "# DVCCA_private (technically bi-DVCCA_private)\n",
    "print('DVCCA_private')\n",
    "encoder_1 = architectures.Encoder(latent_dims=latent_dims, feature_size=784, variational=True)\n",
    "encoder_2 = architectures.Encoder(latent_dims=latent_dims, feature_size=784, variational=True)\n",
    "private_encoder_1 = architectures.Encoder(latent_dims=latent_dims, feature_size=784, variational=True)\n",
    "private_encoder_2 = architectures.Encoder(latent_dims=latent_dims, feature_size=784, variational=True)\n",
    "decoder_1 = architectures.Decoder(latent_dims=latent_dims * 2, feature_size=784, norm_output=True)\n",
    "decoder_2 = architectures.Decoder(latent_dims=latent_dims * 2, feature_size=784, norm_output=True)\n",
    "dvccap_model = DVCCA(latent_dims=latent_dims, encoders=[encoder_1, encoder_2], decoders=[decoder_1, decoder_2],\n",
    "                           private_encoders=[private_encoder_1, private_encoder_2])\n",
    "\n",
    "dvccap_model = CCALightning(dvccap_model)\n",
    "trainer = pl.Trainer(max_epochs=epochs, progress_bar_refresh_rate=1, log_every_n_steps=1, logger=False)\n",
    "trainer.fit(dvccap_model, train_loader, val_loader)\n",
    "\n",
    "dvccap_model_results = np.stack((dvccap_model.score(train_loader), dvccap_model.score(test_loader)))"
   ]
  },
  {
   "cell_type": "markdown",
   "metadata": {
    "id": "-li2xlrmvLT0"
   },
   "source": [
    "# Convolutional Deep CCA (and using other architectures)\n",
    "We provide a standard CNN encoder and decoder but users can build their own encoders and decoders by inheriting BaseEncoder and BaseDecoder for seamless integration with the pipeline"
   ]
  },
  {
   "cell_type": "code",
   "execution_count": 15,
   "metadata": {
    "colab": {
     "base_uri": "https://localhost:8080/"
    },
    "id": "AzfBwb3NvLT0",
    "outputId": "93bed1b4-1d78-40b8-c505-6caad6375276",
    "pycharm": {
     "is_executing": true,
     "name": "#%%\n"
    }
   },
   "outputs": [
    {
     "name": "stderr",
     "output_type": "stream",
     "text": [
      "GPU available: True, used: False\n",
      "TPU available: False, using: 0 TPU cores\n",
      "IPU available: False, using: 0 IPUs\n",
      "\n",
      "  | Name  | Type | Params\n",
      "-------------------------------\n",
      "0 | model | DCCA | 9.6 K \n",
      "-------------------------------\n",
      "9.6 K     Trainable params\n",
      "0         Non-trainable params\n",
      "9.6 K     Total params\n",
      "0.038     Total estimated model params size (MB)\n"
     ]
    },
    {
     "name": "stdout",
     "output_type": "stream",
     "text": [
      "Convolutional DCCA\n"
     ]
    },
    {
     "data": {
      "application/vnd.jupyter.widget-view+json": {
       "model_id": "",
       "version_major": 2,
       "version_minor": 0
      },
      "text/plain": [
       "Validation sanity check: 0it [00:00, ?it/s]"
      ]
     },
     "metadata": {},
     "output_type": "display_data"
    },
    {
     "data": {
      "application/vnd.jupyter.widget-view+json": {
       "model_id": "8c6204869e9d466ab972a8652daeb8eb",
       "version_major": 2,
       "version_minor": 0
      },
      "text/plain": [
       "Training: -1it [00:00, ?it/s]"
      ]
     },
     "metadata": {},
     "output_type": "display_data"
    }
   ],
   "source": [
    "print('Convolutional DCCA')\n",
    "encoder_1 = architectures.CNNEncoder(latent_dims=latent_dims, channels=[3, 3])\n",
    "encoder_2 = architectures.CNNEncoder(latent_dims=latent_dims, channels=[3, 3])\n",
    "dcca_conv_model = DCCA(latent_dims=latent_dims, encoders=[encoder_1, encoder_2])\n",
    "\n",
    "conv_train_view_1=train_view_1.reshape((-1, 1, 28, 28))\n",
    "conv_train_view_2=train_view_2.reshape((-1, 1, 28, 28))\n",
    "conv_test_view_1=test_view_1.reshape((-1, 1, 28, 28))\n",
    "conv_test_view_2=test_view_2.reshape((-1, 1, 28, 28))\n",
    "conv_dataset=CCA_Dataset((conv_train_view_1,conv_train_view_2))\n",
    "test_conv_dataset=CCA_Dataset((conv_test_view_1,conv_test_view_2))\n",
    "conv_train_loader=get_dataloaders(conv_dataset)\n",
    "conv_test_loader=get_dataloaders(test_conv_dataset)\n",
    "\n",
    "dcca_conv_model = CCALightning(dcca_conv_model)\n",
    "trainer = pl.Trainer(max_epochs=epochs, progress_bar_refresh_rate=1, log_every_n_steps=1, logger=False)\n",
    "trainer.fit(dcca_conv_model, conv_train_loader)\n",
    "\n",
    "dcca_conv_results = np.stack((\n",
    "    dcca_conv_model.score(conv_train_loader),\n",
    "    dcca_conv_model.score(conv_test_loader)))"
   ]
  },
  {
   "cell_type": "markdown",
   "metadata": {
    "id": "78IxzigYvLT0"
   },
   "source": [
    "# DTCCA"
   ]
  },
  {
   "cell_type": "code",
   "execution_count": 17,
   "metadata": {
    "colab": {
     "base_uri": "https://localhost:8080/"
    },
    "id": "MHvAzaiGvLT1",
    "outputId": "2fd16f5f-0579-44c6-acc0-1f66a450ba40",
    "pycharm": {
     "is_executing": true,
     "name": "#%%\n"
    }
   },
   "outputs": [
    {
     "name": "stderr",
     "output_type": "stream",
     "text": [
      "GPU available: True, used: False\n",
      "TPU available: False, using: 0 TPU cores\n",
      "IPU available: False, using: 0 IPUs\n",
      "c:\\users\\chapm\\pycharmprojects\\cca_zoo\\venv\\lib\\site-packages\\pytorch_lightning\\trainer\\trainer.py:1303: UserWarning: GPU available but not used. Set the gpus flag in your trainer `Trainer(gpus=1)` or script `--gpus=1`.\n",
      "  rank_zero_warn(\n",
      "\n",
      "  | Name  | Type  | Params\n",
      "--------------------------------\n",
      "0 | model | DTCCA | 201 K \n",
      "--------------------------------\n",
      "201 K     Trainable params\n",
      "0         Non-trainable params\n",
      "201 K     Total params\n",
      "0.806     Total estimated model params size (MB)\n"
     ]
    },
    {
     "name": "stdout",
     "output_type": "stream",
     "text": [
      "DTCCA\n"
     ]
    },
    {
     "data": {
      "application/vnd.jupyter.widget-view+json": {
       "model_id": "",
       "version_major": 2,
       "version_minor": 0
      },
      "text/plain": [
       "Validation sanity check: 0it [00:00, ?it/s]"
      ]
     },
     "metadata": {},
     "output_type": "display_data"
    },
    {
     "name": "stderr",
     "output_type": "stream",
     "text": [
      "c:\\users\\chapm\\pycharmprojects\\cca_zoo\\venv\\lib\\site-packages\\pytorch_lightning\\trainer\\data_loading.py:105: UserWarning: The dataloader, val dataloader 0, does not have many workers which may be a bottleneck. Consider increasing the value of the `num_workers` argument` (try 12 which is the number of cpus on this machine) in the `DataLoader` init to improve performance.\n",
      "  rank_zero_warn(\n"
     ]
    },
    {
     "name": "stdout",
     "output_type": "stream",
     "text": [
      "reconstruction error=0.0\n",
      "iteration 1, reconstruction error: 0.0, decrease = 0.0, unnormalized = 0.0\n",
      "PARAFAC converged after 1 iterations\n"
     ]
    },
    {
     "name": "stderr",
     "output_type": "stream",
     "text": [
      "c:\\users\\chapm\\pycharmprojects\\cca_zoo\\venv\\lib\\site-packages\\pytorch_lightning\\trainer\\data_loading.py:105: UserWarning: The dataloader, train dataloader, does not have many workers which may be a bottleneck. Consider increasing the value of the `num_workers` argument` (try 12 which is the number of cpus on this machine) in the `DataLoader` init to improve performance.\n",
      "  rank_zero_warn(\n"
     ]
    },
    {
     "data": {
      "application/vnd.jupyter.widget-view+json": {
       "model_id": "25ab34b2553d43c9ab8383a5651e6b7c",
       "version_major": 2,
       "version_minor": 0
      },
      "text/plain": [
       "Training: -1it [00:00, ?it/s]"
      ]
     },
     "metadata": {},
     "output_type": "display_data"
    },
    {
     "data": {
      "application/vnd.jupyter.widget-view+json": {
       "model_id": "",
       "version_major": 2,
       "version_minor": 0
      },
      "text/plain": [
       "Validating: 0it [00:00, ?it/s]"
      ]
     },
     "metadata": {},
     "output_type": "display_data"
    },
    {
     "name": "stdout",
     "output_type": "stream",
     "text": [
      "reconstruction error=2.071899503947588e-08\n",
      "iteration 1, reconstruction error: 2.071899503947588e-08, decrease = 0.0, unnormalized = 7.450580596923828e-09\n",
      "PARAFAC converged after 1 iterations\n",
      "reconstruction error=0.0\n",
      "iteration 1, reconstruction error: 2.0572987000296135e-08, decrease = -2.0572987000296135e-08, unnormalized = 7.450580596923828e-09\n",
      "iteration 2, reconstruction error: 2.0572987000296135e-08, decrease = 0.0, unnormalized = 7.450580596923828e-09\n",
      "PARAFAC converged after 2 iterations\n"
     ]
    },
    {
     "data": {
      "application/vnd.jupyter.widget-view+json": {
       "model_id": "",
       "version_major": 2,
       "version_minor": 0
      },
      "text/plain": [
       "Validating: 0it [00:00, ?it/s]"
      ]
     },
     "metadata": {},
     "output_type": "display_data"
    },
    {
     "name": "stdout",
     "output_type": "stream",
     "text": [
      "reconstruction error=0.0\n",
      "iteration 1, reconstruction error: 0.0, decrease = 0.0, unnormalized = 0.0\n",
      "PARAFAC converged after 1 iterations\n",
      "reconstruction error=1.604951051952472e-08\n",
      "iteration 1, reconstruction error: 0.0, decrease = 1.604951051952472e-08, unnormalized = 0.0\n",
      "iteration 2, reconstruction error: 1.604951051952472e-08, decrease = -1.604951051952472e-08, unnormalized = 7.450580596923828e-09\n",
      "iteration 3, reconstruction error: 1.604951051952472e-08, decrease = 0.0, unnormalized = 7.450580596923828e-09\n",
      "PARAFAC converged after 3 iterations\n"
     ]
    },
    {
     "data": {
      "application/vnd.jupyter.widget-view+json": {
       "model_id": "",
       "version_major": 2,
       "version_minor": 0
      },
      "text/plain": [
       "Validating: 0it [00:00, ?it/s]"
      ]
     },
     "metadata": {},
     "output_type": "display_data"
    },
    {
     "name": "stdout",
     "output_type": "stream",
     "text": [
      "reconstruction error=1.9817312549138628e-08\n",
      "iteration 1, reconstruction error: 1.9817312549138628e-08, decrease = 0.0, unnormalized = 1.0536712127723509e-08\n",
      "PARAFAC converged after 1 iterations\n",
      "reconstruction error=1.767930142633192e-08\n",
      "iteration 1, reconstruction error: 0.0, decrease = 1.767930142633192e-08, unnormalized = 0.0\n",
      "iteration 2, reconstruction error: 0.0, decrease = 0.0, unnormalized = 0.0\n",
      "PARAFAC converged after 2 iterations\n"
     ]
    },
    {
     "data": {
      "application/vnd.jupyter.widget-view+json": {
       "model_id": "",
       "version_major": 2,
       "version_minor": 0
      },
      "text/plain": [
       "Validating: 0it [00:00, ?it/s]"
      ]
     },
     "metadata": {},
     "output_type": "display_data"
    },
    {
     "name": "stdout",
     "output_type": "stream",
     "text": [
      "reconstruction error=0.0\n",
      "iteration 1, reconstruction error: 2.1053424438401793e-08, decrease = -2.1053424438401793e-08, unnormalized = 1.0536712127723509e-08\n",
      "iteration 2, reconstruction error: 2.1053424438401793e-08, decrease = 0.0, unnormalized = 1.0536712127723509e-08\n",
      "PARAFAC converged after 2 iterations\n",
      "reconstruction error=0.0\n",
      "iteration 1, reconstruction error: 0.0, decrease = 0.0, unnormalized = 0.0\n",
      "PARAFAC converged after 1 iterations\n"
     ]
    },
    {
     "data": {
      "application/vnd.jupyter.widget-view+json": {
       "model_id": "",
       "version_major": 2,
       "version_minor": 0
      },
      "text/plain": [
       "Validating: 0it [00:00, ?it/s]"
      ]
     },
     "metadata": {},
     "output_type": "display_data"
    },
    {
     "name": "stdout",
     "output_type": "stream",
     "text": [
      "reconstruction error=0.0\n",
      "iteration 1, reconstruction error: 1.9531205588560884e-08, decrease = -1.9531205588560884e-08, unnormalized = 1.0536712127723509e-08\n",
      "iteration 2, reconstruction error: 1.9531205588560884e-08, decrease = 0.0, unnormalized = 1.0536712127723509e-08\n",
      "PARAFAC converged after 2 iterations\n",
      "reconstruction error=0.0\n",
      "iteration 1, reconstruction error: 0.0, decrease = 0.0, unnormalized = 0.0\n",
      "PARAFAC converged after 1 iterations\n"
     ]
    },
    {
     "data": {
      "application/vnd.jupyter.widget-view+json": {
       "model_id": "",
       "version_major": 2,
       "version_minor": 0
      },
      "text/plain": [
       "Validating: 0it [00:00, ?it/s]"
      ]
     },
     "metadata": {},
     "output_type": "display_data"
    },
    {
     "name": "stdout",
     "output_type": "stream",
     "text": [
      "reconstruction error=0.0\n",
      "iteration 1, reconstruction error: 0.0, decrease = 0.0, unnormalized = 0.0\n",
      "PARAFAC converged after 1 iterations\n",
      "reconstruction error=0.0\n",
      "iteration 1, reconstruction error: 1.879185585632797e-08, decrease = -1.879185585632797e-08, unnormalized = 1.0536712127723509e-08\n",
      "iteration 2, reconstruction error: 0.0, decrease = 1.879185585632797e-08, unnormalized = 0.0\n",
      "iteration 3, reconstruction error: 0.0, decrease = 0.0, unnormalized = 0.0\n",
      "PARAFAC converged after 3 iterations\n"
     ]
    },
    {
     "data": {
      "application/vnd.jupyter.widget-view+json": {
       "model_id": "",
       "version_major": 2,
       "version_minor": 0
      },
      "text/plain": [
       "Validating: 0it [00:00, ?it/s]"
      ]
     },
     "metadata": {},
     "output_type": "display_data"
    },
    {
     "name": "stdout",
     "output_type": "stream",
     "text": [
      "reconstruction error=2.0874091152998047e-08\n",
      "iteration 1, reconstruction error: 0.0, decrease = 2.0874091152998047e-08, unnormalized = 0.0\n",
      "iteration 2, reconstruction error: 0.0, decrease = 0.0, unnormalized = 0.0\n",
      "PARAFAC converged after 2 iterations\n",
      "reconstruction error=0.0\n",
      "iteration 1, reconstruction error: 0.0, decrease = 0.0, unnormalized = 0.0\n",
      "PARAFAC converged after 1 iterations\n"
     ]
    },
    {
     "data": {
      "application/vnd.jupyter.widget-view+json": {
       "model_id": "",
       "version_major": 2,
       "version_minor": 0
      },
      "text/plain": [
       "Validating: 0it [00:00, ?it/s]"
      ]
     },
     "metadata": {},
     "output_type": "display_data"
    },
    {
     "name": "stdout",
     "output_type": "stream",
     "text": [
      "reconstruction error=2.011782582808079e-08\n",
      "iteration 1, reconstruction error: 2.011782582808079e-08, decrease = 0.0, unnormalized = 1.0536712127723509e-08\n",
      "PARAFAC converged after 1 iterations\n",
      "reconstruction error=1.779036500807943e-08\n",
      "iteration 1, reconstruction error: 1.779036500807943e-08, decrease = 0.0, unnormalized = 1.0536712127723509e-08\n",
      "PARAFAC converged after 1 iterations\n"
     ]
    },
    {
     "data": {
      "application/vnd.jupyter.widget-view+json": {
       "model_id": "",
       "version_major": 2,
       "version_minor": 0
      },
      "text/plain": [
       "Validating: 0it [00:00, ?it/s]"
      ]
     },
     "metadata": {},
     "output_type": "display_data"
    },
    {
     "name": "stdout",
     "output_type": "stream",
     "text": [
      "reconstruction error=1.8692975729692e-08\n",
      "iteration 1, reconstruction error: 1.8692975729692e-08, decrease = 0.0, unnormalized = 1.0536712127723509e-08\n",
      "PARAFAC converged after 1 iterations\n",
      "reconstruction error=0.0\n",
      "iteration 1, reconstruction error: 0.0, decrease = 0.0, unnormalized = 0.0\n",
      "PARAFAC converged after 1 iterations\n"
     ]
    },
    {
     "data": {
      "application/vnd.jupyter.widget-view+json": {
       "model_id": "",
       "version_major": 2,
       "version_minor": 0
      },
      "text/plain": [
       "Validating: 0it [00:00, ?it/s]"
      ]
     },
     "metadata": {},
     "output_type": "display_data"
    },
    {
     "name": "stdout",
     "output_type": "stream",
     "text": [
      "reconstruction error=1.988714179985036e-08\n",
      "iteration 1, reconstruction error: 1.988714179985036e-08, decrease = 0.0, unnormalized = 1.0536712127723509e-08\n",
      "PARAFAC converged after 1 iterations\n",
      "reconstruction error=1.865293531677958e-08\n",
      "iteration 1, reconstruction error: 1.865293531677958e-08, decrease = 0.0, unnormalized = 1.0536712127723509e-08\n",
      "PARAFAC converged after 1 iterations\n"
     ]
    },
    {
     "data": {
      "application/vnd.jupyter.widget-view+json": {
       "model_id": "",
       "version_major": 2,
       "version_minor": 0
      },
      "text/plain": [
       "Validating: 0it [00:00, ?it/s]"
      ]
     },
     "metadata": {},
     "output_type": "display_data"
    },
    {
     "name": "stdout",
     "output_type": "stream",
     "text": [
      "reconstruction error=1.9746399653212233e-08\n",
      "iteration 1, reconstruction error: 1.9746399653212233e-08, decrease = 0.0, unnormalized = 1.0536712127723509e-08\n",
      "PARAFAC converged after 1 iterations\n",
      "reconstruction error=0.0\n",
      "iteration 1, reconstruction error: 0.0, decrease = 0.0, unnormalized = 0.0\n",
      "PARAFAC converged after 1 iterations\n"
     ]
    },
    {
     "data": {
      "application/vnd.jupyter.widget-view+json": {
       "model_id": "",
       "version_major": 2,
       "version_minor": 0
      },
      "text/plain": [
       "Validating: 0it [00:00, ?it/s]"
      ]
     },
     "metadata": {},
     "output_type": "display_data"
    },
    {
     "name": "stdout",
     "output_type": "stream",
     "text": [
      "reconstruction error=0.0\n",
      "iteration 1, reconstruction error: 1.8826750962569744e-08, decrease = -1.8826750962569744e-08, unnormalized = 1.0536712127723509e-08\n",
      "iteration 2, reconstruction error: 1.8826750962569744e-08, decrease = 0.0, unnormalized = 1.0536712127723509e-08\n",
      "PARAFAC converged after 2 iterations\n",
      "reconstruction error=1.7802418136819452e-08\n",
      "iteration 1, reconstruction error: 1.7802418136819452e-08, decrease = 0.0, unnormalized = 1.0536712127723509e-08\n",
      "PARAFAC converged after 1 iterations\n"
     ]
    },
    {
     "data": {
      "application/vnd.jupyter.widget-view+json": {
       "model_id": "",
       "version_major": 2,
       "version_minor": 0
      },
      "text/plain": [
       "Validating: 0it [00:00, ?it/s]"
      ]
     },
     "metadata": {},
     "output_type": "display_data"
    },
    {
     "name": "stdout",
     "output_type": "stream",
     "text": [
      "reconstruction error=2.0070348934460315e-08\n",
      "iteration 1, reconstruction error: 2.0070348934460315e-08, decrease = 0.0, unnormalized = 1.0536712127723509e-08\n",
      "PARAFAC converged after 1 iterations\n",
      "reconstruction error=1.8036994817063554e-08\n",
      "iteration 1, reconstruction error: 1.8036994817063554e-08, decrease = 0.0, unnormalized = 1.0536712127723509e-08\n",
      "PARAFAC converged after 1 iterations\n"
     ]
    },
    {
     "data": {
      "application/vnd.jupyter.widget-view+json": {
       "model_id": "",
       "version_major": 2,
       "version_minor": 0
      },
      "text/plain": [
       "Validating: 0it [00:00, ?it/s]"
      ]
     },
     "metadata": {},
     "output_type": "display_data"
    },
    {
     "name": "stdout",
     "output_type": "stream",
     "text": [
      "reconstruction error=1.839445120172378e-08\n",
      "iteration 1, reconstruction error: 1.839445120172378e-08, decrease = 0.0, unnormalized = 1.0536712127723509e-08\n",
      "PARAFAC converged after 1 iterations\n",
      "reconstruction error=1.734967577865758e-08\n",
      "iteration 1, reconstruction error: 1.734967577865758e-08, decrease = 0.0, unnormalized = 1.0536712127723509e-08\n",
      "PARAFAC converged after 1 iterations\n"
     ]
    },
    {
     "data": {
      "application/vnd.jupyter.widget-view+json": {
       "model_id": "",
       "version_major": 2,
       "version_minor": 0
      },
      "text/plain": [
       "Validating: 0it [00:00, ?it/s]"
      ]
     },
     "metadata": {},
     "output_type": "display_data"
    },
    {
     "name": "stdout",
     "output_type": "stream",
     "text": [
      "reconstruction error=1.7750549442381724e-08\n",
      "iteration 1, reconstruction error: 0.0, decrease = 1.7750549442381724e-08, unnormalized = 0.0\n",
      "iteration 2, reconstruction error: 1.7750549442381724e-08, decrease = -1.7750549442381724e-08, unnormalized = 1.0536712127723509e-08\n",
      "iteration 3, reconstruction error: 1.7750549442381724e-08, decrease = 0.0, unnormalized = 1.0536712127723509e-08\n",
      "PARAFAC converged after 3 iterations\n",
      "reconstruction error=1.796690861359065e-08\n",
      "iteration 1, reconstruction error: 1.796690861359065e-08, decrease = 0.0, unnormalized = 1.0536712127723509e-08\n",
      "PARAFAC converged after 1 iterations\n"
     ]
    },
    {
     "data": {
      "application/vnd.jupyter.widget-view+json": {
       "model_id": "",
       "version_major": 2,
       "version_minor": 0
      },
      "text/plain": [
       "Validating: 0it [00:00, ?it/s]"
      ]
     },
     "metadata": {},
     "output_type": "display_data"
    },
    {
     "name": "stdout",
     "output_type": "stream",
     "text": [
      "reconstruction error=0.0\n",
      "iteration 1, reconstruction error: 0.0, decrease = 0.0, unnormalized = 0.0\n",
      "PARAFAC converged after 1 iterations\n",
      "reconstruction error=1.7506138175595713e-08\n",
      "iteration 1, reconstruction error: 1.7506138175595713e-08, decrease = 0.0, unnormalized = 1.0536712127723509e-08\n",
      "PARAFAC converged after 1 iterations\n"
     ]
    },
    {
     "data": {
      "application/vnd.jupyter.widget-view+json": {
       "model_id": "",
       "version_major": 2,
       "version_minor": 0
      },
      "text/plain": [
       "Validating: 0it [00:00, ?it/s]"
      ]
     },
     "metadata": {},
     "output_type": "display_data"
    },
    {
     "name": "stdout",
     "output_type": "stream",
     "text": [
      "reconstruction error=1.6816517592449468e-08\n",
      "iteration 1, reconstruction error: 0.0, decrease = 1.6816517592449468e-08, unnormalized = 0.0\n",
      "iteration 2, reconstruction error: 0.0, decrease = 0.0, unnormalized = 0.0\n",
      "PARAFAC converged after 2 iterations\n",
      "reconstruction error=1.602201242887345e-08\n",
      "iteration 1, reconstruction error: 1.602201242887345e-08, decrease = 0.0, unnormalized = 1.0536712127723509e-08\n",
      "PARAFAC converged after 1 iterations\n"
     ]
    },
    {
     "data": {
      "application/vnd.jupyter.widget-view+json": {
       "model_id": "",
       "version_major": 2,
       "version_minor": 0
      },
      "text/plain": [
       "Validating: 0it [00:00, ?it/s]"
      ]
     },
     "metadata": {},
     "output_type": "display_data"
    },
    {
     "name": "stdout",
     "output_type": "stream",
     "text": [
      "reconstruction error=1.6417717997295322e-08\n",
      "iteration 1, reconstruction error: 0.0, decrease = 1.6417717997295322e-08, unnormalized = 0.0\n",
      "iteration 2, reconstruction error: 0.0, decrease = 0.0, unnormalized = 0.0\n",
      "PARAFAC converged after 2 iterations\n",
      "reconstruction error=0.0\n",
      "iteration 1, reconstruction error: 1.6105270747910115e-08, decrease = -1.6105270747910115e-08, unnormalized = 1.0536712127723509e-08\n",
      "iteration 2, reconstruction error: 1.6105270747910115e-08, decrease = 0.0, unnormalized = 1.0536712127723509e-08\n",
      "PARAFAC converged after 2 iterations\n"
     ]
    },
    {
     "data": {
      "application/vnd.jupyter.widget-view+json": {
       "model_id": "",
       "version_major": 2,
       "version_minor": 0
      },
      "text/plain": [
       "Validating: 0it [00:00, ?it/s]"
      ]
     },
     "metadata": {},
     "output_type": "display_data"
    },
    {
     "name": "stdout",
     "output_type": "stream",
     "text": [
      "reconstruction error=0.0\n",
      "iteration 1, reconstruction error: 1.591287807057014e-08, decrease = -1.591287807057014e-08, unnormalized = 1.0536712127723509e-08\n",
      "iteration 2, reconstruction error: 0.0, decrease = 1.591287807057014e-08, unnormalized = 0.0\n",
      "iteration 3, reconstruction error: 1.591287807057014e-08, decrease = -1.591287807057014e-08, unnormalized = 1.0536712127723509e-08\n",
      "iteration 4, reconstruction error: 1.591287807057014e-08, decrease = 0.0, unnormalized = 1.0536712127723509e-08\n",
      "PARAFAC converged after 4 iterations\n",
      "reconstruction error=1.6168068144444113e-08\n",
      "iteration 1, reconstruction error: 0.0, decrease = 1.6168068144444113e-08, unnormalized = 0.0\n",
      "iteration 2, reconstruction error: 1.6168068144444113e-08, decrease = -1.6168068144444113e-08, unnormalized = 1.0536712127723509e-08\n",
      "iteration 3, reconstruction error: 1.6168068144444113e-08, decrease = 0.0, unnormalized = 1.0536712127723509e-08\n",
      "PARAFAC converged after 3 iterations\n"
     ]
    },
    {
     "data": {
      "application/vnd.jupyter.widget-view+json": {
       "model_id": "",
       "version_major": 2,
       "version_minor": 0
      },
      "text/plain": [
       "Validating: 0it [00:00, ?it/s]"
      ]
     },
     "metadata": {},
     "output_type": "display_data"
    },
    {
     "name": "stdout",
     "output_type": "stream",
     "text": [
      "reconstruction error=2.7153777508762245e-08\n",
      "iteration 1, reconstruction error: 1.567724075419909e-08, decrease = 1.1476536754563153e-08, unnormalized = 1.0536712127723509e-08\n",
      "iteration 2, reconstruction error: 2.2170966495176562e-08, decrease = -6.493725740977471e-09, unnormalized = 1.4901161193847656e-08\n",
      "PARAFAC converged after 2 iterations\n",
      "reconstruction error=0.0\n",
      "iteration 1, reconstruction error: 0.0, decrease = 0.0, unnormalized = 0.0\n",
      "PARAFAC converged after 1 iterations\n"
     ]
    }
   ],
   "source": [
    "# %%\n",
    "# DTCCA\n",
    "print('DTCCA')\n",
    "encoder_1 = architectures.Encoder(latent_dims=latent_dims, feature_size=784)\n",
    "encoder_2 = architectures.Encoder(latent_dims=latent_dims, feature_size=784)\n",
    "dtcca_model = DTCCA(latent_dims=latent_dims, encoders=[encoder_1, encoder_2])\n",
    "\n",
    "dtcca_model = CCALightning(dtcca_model)\n",
    "trainer = pl.Trainer(max_epochs=epochs, progress_bar_refresh_rate=1, log_every_n_steps=1, logger=False)\n",
    "trainer.fit(dtcca_model, train_loader, val_loader)\n",
    "\n",
    "dtcca_results = np.stack((dtcca_model.score(train_loader), dtcca_model.score(test_loader)))"
   ]
  },
  {
   "cell_type": "code",
   "execution_count": null,
   "metadata": {},
   "outputs": [],
   "source": []
  }
 ],
 "metadata": {
  "colab": {
   "include_colab_link": true,
   "name": "cca_zoo_tutorial.ipynb",
   "provenance": []
  },
  "kernelspec": {
   "display_name": "Python 3",
   "language": "python",
   "name": "python3"
  },
  "language_info": {
   "codemirror_mode": {
    "name": "ipython",
    "version": 3
   },
   "file_extension": ".py",
   "mimetype": "text/x-python",
   "name": "python",
   "nbconvert_exporter": "python",
   "pygments_lexer": "ipython3",
   "version": "3.9.2"
  }
 },
 "nbformat": 4,
 "nbformat_minor": 1
}